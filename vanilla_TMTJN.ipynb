{
  "nbformat": 4,
  "nbformat_minor": 0,
  "metadata": {
    "colab": {
      "provenance": [],
      "gpuType": "T4"
    },
    "kernelspec": {
      "name": "python3",
      "display_name": "Python 3"
    },
    "language_info": {
      "name": "python"
    },
    "accelerator": "GPU"
  },
  "cells": [
    {
      "cell_type": "code",
      "source": [
        "pip install torchattacks"
      ],
      "metadata": {
        "colab": {
          "base_uri": "https://localhost:8080/"
        },
        "id": "dvhyOaVxTe_p",
        "outputId": "97f4e6d1-db15-4d97-a02b-bccbd68a9541"
      },
      "execution_count": 1,
      "outputs": [
        {
          "output_type": "stream",
          "name": "stdout",
          "text": [
            "Collecting torchattacks\n",
            "  Downloading torchattacks-3.5.1-py3-none-any.whl (142 kB)\n",
            "\u001b[2K     \u001b[90m━━━━━━━━━━━━━━━━━━━━━━━━━━━━━━━━━━━━━━━━\u001b[0m \u001b[32m142.0/142.0 kB\u001b[0m \u001b[31m2.3 MB/s\u001b[0m eta \u001b[36m0:00:00\u001b[0m\n",
            "\u001b[?25hRequirement already satisfied: torch>=1.7.1 in /usr/local/lib/python3.10/dist-packages (from torchattacks) (2.3.0+cu121)\n",
            "Requirement already satisfied: torchvision>=0.8.2 in /usr/local/lib/python3.10/dist-packages (from torchattacks) (0.18.0+cu121)\n",
            "Requirement already satisfied: scipy>=0.14.0 in /usr/local/lib/python3.10/dist-packages (from torchattacks) (1.11.4)\n",
            "Requirement already satisfied: tqdm>=4.56.1 in /usr/local/lib/python3.10/dist-packages (from torchattacks) (4.66.4)\n",
            "Collecting requests~=2.25.1 (from torchattacks)\n",
            "  Downloading requests-2.25.1-py2.py3-none-any.whl (61 kB)\n",
            "\u001b[2K     \u001b[90m━━━━━━━━━━━━━━━━━━━━━━━━━━━━━━━━━━━━━━━━\u001b[0m \u001b[32m61.2/61.2 kB\u001b[0m \u001b[31m3.9 MB/s\u001b[0m eta \u001b[36m0:00:00\u001b[0m\n",
            "\u001b[?25hRequirement already satisfied: numpy>=1.19.4 in /usr/local/lib/python3.10/dist-packages (from torchattacks) (1.25.2)\n",
            "Collecting chardet<5,>=3.0.2 (from requests~=2.25.1->torchattacks)\n",
            "  Downloading chardet-4.0.0-py2.py3-none-any.whl (178 kB)\n",
            "\u001b[2K     \u001b[90m━━━━━━━━━━━━━━━━━━━━━━━━━━━━━━━━━━━━━━━━\u001b[0m \u001b[32m178.7/178.7 kB\u001b[0m \u001b[31m15.1 MB/s\u001b[0m eta \u001b[36m0:00:00\u001b[0m\n",
            "\u001b[?25hCollecting idna<3,>=2.5 (from requests~=2.25.1->torchattacks)\n",
            "  Downloading idna-2.10-py2.py3-none-any.whl (58 kB)\n",
            "\u001b[2K     \u001b[90m━━━━━━━━━━━━━━━━━━━━━━━━━━━━━━━━━━━━━━━━\u001b[0m \u001b[32m58.8/58.8 kB\u001b[0m \u001b[31m5.2 MB/s\u001b[0m eta \u001b[36m0:00:00\u001b[0m\n",
            "\u001b[?25hCollecting urllib3<1.27,>=1.21.1 (from requests~=2.25.1->torchattacks)\n",
            "  Downloading urllib3-1.26.18-py2.py3-none-any.whl (143 kB)\n",
            "\u001b[2K     \u001b[90m━━━━━━━━━━━━━━━━━━━━━━━━━━━━━━━━━━━━━━━━\u001b[0m \u001b[32m143.8/143.8 kB\u001b[0m \u001b[31m10.5 MB/s\u001b[0m eta \u001b[36m0:00:00\u001b[0m\n",
            "\u001b[?25hRequirement already satisfied: certifi>=2017.4.17 in /usr/local/lib/python3.10/dist-packages (from requests~=2.25.1->torchattacks) (2024.2.2)\n",
            "Requirement already satisfied: filelock in /usr/local/lib/python3.10/dist-packages (from torch>=1.7.1->torchattacks) (3.14.0)\n",
            "Requirement already satisfied: typing-extensions>=4.8.0 in /usr/local/lib/python3.10/dist-packages (from torch>=1.7.1->torchattacks) (4.11.0)\n",
            "Requirement already satisfied: sympy in /usr/local/lib/python3.10/dist-packages (from torch>=1.7.1->torchattacks) (1.12)\n",
            "Requirement already satisfied: networkx in /usr/local/lib/python3.10/dist-packages (from torch>=1.7.1->torchattacks) (3.3)\n",
            "Requirement already satisfied: jinja2 in /usr/local/lib/python3.10/dist-packages (from torch>=1.7.1->torchattacks) (3.1.4)\n",
            "Requirement already satisfied: fsspec in /usr/local/lib/python3.10/dist-packages (from torch>=1.7.1->torchattacks) (2023.6.0)\n",
            "Collecting nvidia-cuda-nvrtc-cu12==12.1.105 (from torch>=1.7.1->torchattacks)\n",
            "  Using cached nvidia_cuda_nvrtc_cu12-12.1.105-py3-none-manylinux1_x86_64.whl (23.7 MB)\n",
            "Collecting nvidia-cuda-runtime-cu12==12.1.105 (from torch>=1.7.1->torchattacks)\n",
            "  Using cached nvidia_cuda_runtime_cu12-12.1.105-py3-none-manylinux1_x86_64.whl (823 kB)\n",
            "Collecting nvidia-cuda-cupti-cu12==12.1.105 (from torch>=1.7.1->torchattacks)\n",
            "  Using cached nvidia_cuda_cupti_cu12-12.1.105-py3-none-manylinux1_x86_64.whl (14.1 MB)\n",
            "Collecting nvidia-cudnn-cu12==8.9.2.26 (from torch>=1.7.1->torchattacks)\n",
            "  Using cached nvidia_cudnn_cu12-8.9.2.26-py3-none-manylinux1_x86_64.whl (731.7 MB)\n",
            "Collecting nvidia-cublas-cu12==12.1.3.1 (from torch>=1.7.1->torchattacks)\n",
            "  Using cached nvidia_cublas_cu12-12.1.3.1-py3-none-manylinux1_x86_64.whl (410.6 MB)\n",
            "Collecting nvidia-cufft-cu12==11.0.2.54 (from torch>=1.7.1->torchattacks)\n",
            "  Using cached nvidia_cufft_cu12-11.0.2.54-py3-none-manylinux1_x86_64.whl (121.6 MB)\n",
            "Collecting nvidia-curand-cu12==10.3.2.106 (from torch>=1.7.1->torchattacks)\n",
            "  Using cached nvidia_curand_cu12-10.3.2.106-py3-none-manylinux1_x86_64.whl (56.5 MB)\n",
            "Collecting nvidia-cusolver-cu12==11.4.5.107 (from torch>=1.7.1->torchattacks)\n",
            "  Using cached nvidia_cusolver_cu12-11.4.5.107-py3-none-manylinux1_x86_64.whl (124.2 MB)\n",
            "Collecting nvidia-cusparse-cu12==12.1.0.106 (from torch>=1.7.1->torchattacks)\n",
            "  Using cached nvidia_cusparse_cu12-12.1.0.106-py3-none-manylinux1_x86_64.whl (196.0 MB)\n",
            "Collecting nvidia-nccl-cu12==2.20.5 (from torch>=1.7.1->torchattacks)\n",
            "  Using cached nvidia_nccl_cu12-2.20.5-py3-none-manylinux2014_x86_64.whl (176.2 MB)\n",
            "Collecting nvidia-nvtx-cu12==12.1.105 (from torch>=1.7.1->torchattacks)\n",
            "  Using cached nvidia_nvtx_cu12-12.1.105-py3-none-manylinux1_x86_64.whl (99 kB)\n",
            "Requirement already satisfied: triton==2.3.0 in /usr/local/lib/python3.10/dist-packages (from torch>=1.7.1->torchattacks) (2.3.0)\n",
            "Collecting nvidia-nvjitlink-cu12 (from nvidia-cusolver-cu12==11.4.5.107->torch>=1.7.1->torchattacks)\n",
            "  Downloading nvidia_nvjitlink_cu12-12.5.40-py3-none-manylinux2014_x86_64.whl (21.3 MB)\n",
            "\u001b[2K     \u001b[90m━━━━━━━━━━━━━━━━━━━━━━━━━━━━━━━━━━━━━━━━\u001b[0m \u001b[32m21.3/21.3 MB\u001b[0m \u001b[31m49.4 MB/s\u001b[0m eta \u001b[36m0:00:00\u001b[0m\n",
            "\u001b[?25hRequirement already satisfied: pillow!=8.3.*,>=5.3.0 in /usr/local/lib/python3.10/dist-packages (from torchvision>=0.8.2->torchattacks) (9.4.0)\n",
            "Requirement already satisfied: MarkupSafe>=2.0 in /usr/local/lib/python3.10/dist-packages (from jinja2->torch>=1.7.1->torchattacks) (2.1.5)\n",
            "Requirement already satisfied: mpmath>=0.19 in /usr/local/lib/python3.10/dist-packages (from sympy->torch>=1.7.1->torchattacks) (1.3.0)\n",
            "Installing collected packages: urllib3, nvidia-nvtx-cu12, nvidia-nvjitlink-cu12, nvidia-nccl-cu12, nvidia-curand-cu12, nvidia-cufft-cu12, nvidia-cuda-runtime-cu12, nvidia-cuda-nvrtc-cu12, nvidia-cuda-cupti-cu12, nvidia-cublas-cu12, idna, chardet, requests, nvidia-cusparse-cu12, nvidia-cudnn-cu12, nvidia-cusolver-cu12, torchattacks\n",
            "  Attempting uninstall: urllib3\n",
            "    Found existing installation: urllib3 2.0.7\n",
            "    Uninstalling urllib3-2.0.7:\n",
            "      Successfully uninstalled urllib3-2.0.7\n",
            "  Attempting uninstall: idna\n",
            "    Found existing installation: idna 3.7\n",
            "    Uninstalling idna-3.7:\n",
            "      Successfully uninstalled idna-3.7\n",
            "  Attempting uninstall: chardet\n",
            "    Found existing installation: chardet 5.2.0\n",
            "    Uninstalling chardet-5.2.0:\n",
            "      Successfully uninstalled chardet-5.2.0\n",
            "  Attempting uninstall: requests\n",
            "    Found existing installation: requests 2.31.0\n",
            "    Uninstalling requests-2.31.0:\n",
            "      Successfully uninstalled requests-2.31.0\n",
            "\u001b[31mERROR: pip's dependency resolver does not currently take into account all the packages that are installed. This behaviour is the source of the following dependency conflicts.\n",
            "bigframes 1.6.0 requires requests>=2.27.1, but you have requests 2.25.1 which is incompatible.\n",
            "google-colab 1.0.0 requires requests==2.31.0, but you have requests 2.25.1 which is incompatible.\n",
            "tweepy 4.14.0 requires requests<3,>=2.27.0, but you have requests 2.25.1 which is incompatible.\n",
            "yfinance 0.2.40 requires requests>=2.31, but you have requests 2.25.1 which is incompatible.\u001b[0m\u001b[31m\n",
            "\u001b[0mSuccessfully installed chardet-4.0.0 idna-2.10 nvidia-cublas-cu12-12.1.3.1 nvidia-cuda-cupti-cu12-12.1.105 nvidia-cuda-nvrtc-cu12-12.1.105 nvidia-cuda-runtime-cu12-12.1.105 nvidia-cudnn-cu12-8.9.2.26 nvidia-cufft-cu12-11.0.2.54 nvidia-curand-cu12-10.3.2.106 nvidia-cusolver-cu12-11.4.5.107 nvidia-cusparse-cu12-12.1.0.106 nvidia-nccl-cu12-2.20.5 nvidia-nvjitlink-cu12-12.5.40 nvidia-nvtx-cu12-12.1.105 requests-2.25.1 torchattacks-3.5.1 urllib3-1.26.18\n"
          ]
        }
      ]
    },
    {
      "cell_type": "code",
      "source": [
        "import torch\n",
        "import torch.nn as nn\n",
        "import torch.optim as optim\n",
        "import torchvision\n",
        "import torchvision.transforms as transforms\n",
        "import numpy as np\n",
        "import matplotlib.pyplot as plt\n",
        "from torch.utils.data import DataLoader\n",
        "import torchattacks"
      ],
      "metadata": {
        "id": "PPhBH1zxTWne"
      },
      "execution_count": 2,
      "outputs": []
    },
    {
      "cell_type": "markdown",
      "source": [
        "##Load the CIFAR-10 dataset"
      ],
      "metadata": {
        "id": "3DLWDwRJC2cr"
      }
    },
    {
      "cell_type": "code",
      "source": [
        "transform = transforms.Compose([transforms.ToTensor(),\n",
        "                                transforms.Normalize((0.5, 0.5, 0.5),\n",
        "                                 (0.5, 0.5, 0.5))])\n",
        "\n",
        "batch_size=10;\n",
        "\n",
        "\n",
        "train_dataset = torchvision.datasets.CIFAR10(root='./data', train=True,\n",
        "                                             download=True, transform=transform)\n",
        "\n",
        "val_dataset = torchvision.datasets.CIFAR10(root='./data', train=False,\n",
        "                                           download=True, transform=transform)\n",
        "\n",
        "test_dataset = torchvision.datasets.CIFAR10(root='./data', train=False,\n",
        "                                            download=True, transform=transform)\n",
        "\n",
        "train_loader = DataLoader(train_dataset, batch_size=batch_size, shuffle=True)\n",
        "val_loader = DataLoader(val_dataset, batch_size=batch_size, shuffle=False)\n",
        "test_loader = torch.utils.data.DataLoader(test_dataset, batch_size=batch_size, shuffle=True)\n",
        "\n",
        "\n",
        "classes = ('plane', 'car', 'bird', 'cat',\n",
        "           'deer', 'dog', 'frog', 'horse', 'ship', 'truck')"
      ],
      "metadata": {
        "colab": {
          "base_uri": "https://localhost:8080/"
        },
        "id": "W532tkIkUnwS",
        "outputId": "38fd5fdf-29ad-4b4f-fc2d-94d68cb7c0e4"
      },
      "execution_count": 3,
      "outputs": [
        {
          "output_type": "stream",
          "name": "stdout",
          "text": [
            "Downloading https://www.cs.toronto.edu/~kriz/cifar-10-python.tar.gz to ./data/cifar-10-python.tar.gz\n"
          ]
        },
        {
          "output_type": "stream",
          "name": "stderr",
          "text": [
            "100%|██████████| 170498071/170498071 [00:02<00:00, 65945976.51it/s]\n"
          ]
        },
        {
          "output_type": "stream",
          "name": "stdout",
          "text": [
            "Extracting ./data/cifar-10-python.tar.gz to ./data\n",
            "Files already downloaded and verified\n",
            "Files already downloaded and verified\n"
          ]
        }
      ]
    },
    {
      "cell_type": "code",
      "source": [
        "import matplotlib.pyplot as plt\n",
        "import numpy as np\n",
        "\n",
        "# Function to show an image\n",
        "def imshow(img):\n",
        "    img = img / 2 + 0.5     # Unnormalize\n",
        "    npimg = img.numpy()\n",
        "    plt.imshow(np.transpose(npimg, (1, 2, 0)))\n",
        "\n",
        "batch_size = 6\n",
        "\n",
        "# Get some random training images\n",
        "dataiter = iter(train_loader)\n",
        "images, labels = next(dataiter)\n",
        "\n",
        "# Define the figure size\n",
        "plt.figure(figsize=(3, 4))  # 6 columns and 4 rows\n",
        "\n",
        "# Show images and print labels for the first 6 images\n",
        "for i in range(batch_size):\n",
        "    plt.subplot(2, 3, i+1)  # 2 rows, 3 columns, i+1 denotes the position of the subplot\n",
        "    imshow(torchvision.utils.make_grid(images[i]))\n",
        "    plt.title(f\"{classes[labels[i]]}\")\n",
        "    plt.axis('off')  # Turn off axis\n",
        "\n",
        "plt.tight_layout()\n",
        "plt.show()"
      ],
      "metadata": {
        "colab": {
          "base_uri": "https://localhost:8080/",
          "height": 307
        },
        "id": "Pv2pASV56p75",
        "outputId": "3472e423-af26-47e9-a21d-82e6bf5490a2"
      },
      "execution_count": 4,
      "outputs": [
        {
          "output_type": "display_data",
          "data": {
            "text/plain": [
              "<Figure size 300x400 with 6 Axes>"
            ],
            "image/png": "[encoded data removed]"
          },
          "metadata": {}
        }
      ]
    },
    {
      "cell_type": "markdown",
      "source": [
        "## Define the model architecture"
      ],
      "metadata": {
        "id": "kgd-SyiZDJ8m"
      }
    },
    {
      "cell_type": "code",
      "source": [
        "class SimpleCNN(nn.Module):\n",
        "    def __init__(self):\n",
        "        super(SimpleCNN, self).__init__()\n",
        "        self.conv1 = nn.Conv2d(3, 32, kernel_size=3, stride=1, padding=1)\n",
        "        self.pool = nn.MaxPool2d(kernel_size=2, stride=2)\n",
        "        self.conv2 = nn.Conv2d(32, 64, kernel_size=3, stride=1, padding=1)\n",
        "        self.fc1 = nn.Linear(64 * 8 * 8, 128)\n",
        "        self.fc2 = nn.Linear(128, 10)\n",
        "\n",
        "    def forward(self, x):\n",
        "        x = self.pool(torch.relu(self.conv1(x))) #This line applies the first convolutional layer (conv1) to the input x, then applies the ReLU activation function (torch.relu)\n",
        "        x = self.pool(torch.relu(self.conv2(x)))\n",
        "        x = x.view(-1, 64 * 8 * 8) #This line reshapes (flattens) the output tensor x from the previous layer to prepare it for the fully connected layers.\n",
        "        x = torch.relu(self.fc1(x)) #This applies the ReLU activation function to the output of the first fully connected layer (fc1).\n",
        "        x = self.fc2(x) #This applies the second fully connected layer (fc2) to produce the final output tensor x\n",
        "        return x\n",
        ""
      ],
      "metadata": {
        "id": "IPKV0ID0bnDn"
      },
      "execution_count": 5,
      "outputs": []
    },
    {
      "cell_type": "code",
      "source": [
        "import torch\n",
        "device = torch.device(\"cuda\" if torch.cuda.is_available() else \"cpu\")\n",
        "\n",
        "\n",
        "model = SimpleCNN().to(device)"
      ],
      "metadata": {
        "id": "SUJzDvHnNnrE"
      },
      "execution_count": 6,
      "outputs": []
    },
    {
      "cell_type": "markdown",
      "source": [
        "## Define a Loss function and optimizer.\n",
        "Using a Classification Cross-Entropy loss and Adam with momentum."
      ],
      "metadata": {
        "id": "KPKDgWGwz7Sw"
      }
    },
    {
      "cell_type": "code",
      "source": [
        "criterion = nn.CrossEntropyLoss()\n",
        "optimizer = optim.Adam(model.parameters(), lr=0.001)"
      ],
      "metadata": {
        "id": "OclhBZOmz5Lx"
      },
      "execution_count": 7,
      "outputs": []
    },
    {
      "cell_type": "code",
      "source": [
        "num_epochs = 5\n",
        "for epoch in range(num_epochs): # loop over the dataset multiple times\n",
        "    model.train()  # Set the model to training mode\n",
        "    running_loss = 0.0\n",
        "    correct_train = 0\n",
        "    total_train = 0\n",
        "\n",
        "    for images, labels in train_loader: # get the inputs; images.to(device), labels.to(device) is a list of [images, labels]\n",
        "        images, labels = images.to(device), labels.to(device)  # Move data to GPU\n",
        "\n",
        "        # zero the parameter gradients\n",
        "        optimizer.zero_grad()\n",
        "\n",
        "        # forward + backward + optimize\n",
        "        outputs = model(images)\n",
        "        loss = criterion(outputs, labels)\n",
        "        loss.backward()\n",
        "        optimizer.step()\n",
        "\n",
        "        running_loss += loss.item()\n",
        "        _, predicted = torch.max(outputs.data, 1)\n",
        "        total_train += labels.size(0)\n",
        "        correct_train += (predicted == labels).sum().item()\n",
        "\n",
        "    epoch_loss = running_loss / len(train_loader)\n",
        "    train_accuracy = correct_train / total_train\n",
        "\n",
        "    # Validation loop\n",
        "    model.eval()  # Set the model to evaluation mode\n",
        "    correct_val = 0\n",
        "    total_val = 0\n",
        "\n",
        "    with torch.no_grad():\n",
        "        for images, labels in val_loader:\n",
        "            images, labels = images.to(device), labels.to(device)\n",
        "            outputs = model(images)\n",
        "            _, predicted = torch.max(outputs.data, 1)\n",
        "            total_val += labels.size(0)\n",
        "            correct_val += (predicted == labels).sum().item()\n",
        "\n",
        "    val_accuracy = correct_val / total_val\n",
        "\n",
        "    # Print training and validation statistics\n",
        "    print(f'Epoch {epoch + 1}/{num_epochs}, Loss: {epoch_loss:.4f}, '\n",
        "          f'Train Accuracy: {train_accuracy:.4f}, Val Accuracy: {val_accuracy:.4f}')"
      ],
      "metadata": {
        "id": "iQwkM6fqU8VP",
        "colab": {
          "base_uri": "https://localhost:8080/"
        },
        "outputId": "0b65549d-842f-48e0-c94a-4c6808a7489d"
      },
      "execution_count": 8,
      "outputs": [
        {
          "output_type": "stream",
          "name": "stdout",
          "text": [
            "Epoch 1/5, Loss: 1.2806, Train Accuracy: 0.5381, Val Accuracy: 0.6275\n",
            "Epoch 2/5, Loss: 0.9421, Train Accuracy: 0.6687, Val Accuracy: 0.6792\n",
            "Epoch 3/5, Loss: 0.8011, Train Accuracy: 0.7163, Val Accuracy: 0.6836\n",
            "Epoch 4/5, Loss: 0.6999, Train Accuracy: 0.7523, Val Accuracy: 0.7058\n",
            "Epoch 5/5, Loss: 0.6144, Train Accuracy: 0.7842, Val Accuracy: 0.6947\n"
          ]
        }
      ]
    },
    {
      "cell_type": "markdown",
      "source": [
        "##Saving our trained model"
      ],
      "metadata": {
        "id": "DGbwEfA738rn"
      }
    },
    {
      "cell_type": "code",
      "source": [
        "torch.save(model.state_dict(), 'cifar10_model.pth')"
      ],
      "metadata": {
        "id": "XCGDE9vgU_Zy"
      },
      "execution_count": 11,
      "outputs": []
    },
    {
      "cell_type": "markdown",
      "source": [
        "##Test the network on the test data\n",
        "We have trained the network for 5 epoch over the training dataset. But we need to check if the network has learnt anything at all.\n",
        "\n",
        "We will check this by predicting the class label that the neural network outputs, and checking it against the ground-truth. If the prediction is correct, we add the sample to the list of correct predictions.\n",
        "\n",
        "Okay, first step. Let us display an image from the test set to get familiar."
      ],
      "metadata": {
        "id": "PBqWapLa8szd"
      }
    },
    {
      "cell_type": "code",
      "source": [
        "dataiter = iter(test_loader)\n",
        "images, labels = next(dataiter)\n",
        "\n",
        "# print images\n",
        "# Define the figure size\n",
        "plt.figure(figsize=(3, 3))  # 3 columns and 4 rows\n",
        "\n",
        "# Print images and labels for the first 4 images\n",
        "for i in range(min(4, len(labels))):\n",
        "    plt.subplot(2, 2, i+1)  # 2 rows, 2 columns, i+1 denotes the position of the subplot\n",
        "    imshow(torchvision.utils.make_grid(images[i]))\n",
        "    plt.title(f\"Label: {classes[labels[i]]}\")\n",
        "    plt.axis('off')  # Turn off axis\n",
        "\n",
        "plt.tight_layout()\n",
        "plt.show()\n"
      ],
      "metadata": {
        "id": "7q1cVakG8-jp",
        "colab": {
          "base_uri": "https://localhost:8080/",
          "height": 306
        },
        "outputId": "19ae217c-8c0d-481b-bdac-e9ec22230d0a"
      },
      "execution_count": 12,
      "outputs": [
        {
          "output_type": "display_data",
          "data": {
            "text/plain": [
              "<Figure size 300x300 with 4 Axes>"
            ],
            "image/png": "[encoded data removed]"
          },
          "metadata": {}
        }
      ]
    },
    {
      "cell_type": "markdown",
      "source": [
        "##Load the pre trained model"
      ],
      "metadata": {
        "id": "Y3BS6nuCDQgU"
      }
    },
    {
      "cell_type": "code",
      "source": [
        "model.load_state_dict(torch.load('cifar10_model.pth'))"
      ],
      "metadata": {
        "id": "v3EEwQWnADqD",
        "colab": {
          "base_uri": "https://localhost:8080/"
        },
        "outputId": "77b355bb-b8c3-4b80-f2a4-c5b83b619774"
      },
      "execution_count": 13,
      "outputs": [
        {
          "output_type": "execute_result",
          "data": {
            "text/plain": [
              "<All keys matched successfully>"
            ]
          },
          "metadata": {},
          "execution_count": 13
        }
      ]
    },
    {
      "cell_type": "code",
      "source": [
        "# Assuming 'images' is your input tensor and 'model' is your neural network model\n",
        "device = torch.device('cuda' if torch.cuda.is_available() else 'cpu')\n",
        "\n",
        "# Move the model to the same device as the input tensor\n",
        "model = model.to(device)\n",
        "\n",
        "# Move the input tensor to the same device as the model\n",
        "images = images.to(device)\n",
        "\n",
        "# Now perform the forward pass\n",
        "outputs = model(images)"
      ],
      "metadata": {
        "id": "HaUmmsAwQNo5"
      },
      "execution_count": 14,
      "outputs": []
    },
    {
      "cell_type": "code",
      "source": [
        "_, predicted = torch.max(outputs, 1)\n",
        "\n",
        "print('Predicted: ', ' '.join(f'{classes[predicted[j]]:5s}'\n",
        "                              for j in range(4)))"
      ],
      "metadata": {
        "id": "LSjXK2GIBo3L",
        "colab": {
          "base_uri": "https://localhost:8080/"
        },
        "outputId": "833f284d-aa44-482a-ac17-340b1b6ca5e2"
      },
      "execution_count": 15,
      "outputs": [
        {
          "output_type": "stream",
          "name": "stdout",
          "text": [
            "Predicted:  dog   ship  ship  dog  \n"
          ]
        }
      ]
    },
    {
      "cell_type": "code",
      "source": [
        "correct = 0\n",
        "total = 0\n",
        "# since we're not training, we don't need to calculate the gradients for our outputs\n",
        "with torch.no_grad():\n",
        "    for data in test_loader:\n",
        "        images, labels = data\n",
        "        # calculate outputs by running images through the network\n",
        "        # Move the model to the same device as the input tensor\n",
        "        model = model.to(device)\n",
        "\n",
        "        # Move the input tensor to the same device as the model\n",
        "        images = images.to(device)\n",
        "\n",
        "        # Now perform the forward pass\n",
        "        outputs = model(images)\n",
        "\n",
        "        # the class with the highest energy is what we choose as prediction\n",
        "        _, predicted = torch.max(outputs.data, 1)\n",
        "        total += labels.size(0)\n",
        "\n",
        "        # Assuming 'labels' is your tensor containing the ground truth labels\n",
        "        labels = labels.to(device)\n",
        "\n",
        "        # Now you can perform the operation\n",
        "        correct += (predicted == labels).sum().item()\n",
        "\n",
        "print(f'Accuracy of the network on the 10000 test images: {100 * correct // total} %')"
      ],
      "metadata": {
        "id": "HUZwHJ8fQesX",
        "colab": {
          "base_uri": "https://localhost:8080/"
        },
        "outputId": "c23c131e-b9ac-4877-e243-26565a9a5c80"
      },
      "execution_count": 16,
      "outputs": [
        {
          "output_type": "stream",
          "name": "stdout",
          "text": [
            "Accuracy of the network on the 10000 test images: 69 %\n"
          ]
        }
      ]
    },
    {
      "cell_type": "code",
      "source": [
        "# prepare to count predictions for each class\n",
        "correct_pred = {classname: 0 for classname in classes}\n",
        "total_pred = {classname: 0 for classname in classes}\n",
        "\n",
        "# again no gradients needed\n",
        "with torch.no_grad():\n",
        "    for data in test_loader:\n",
        "        images, labels = data\n",
        "        # Move the model to the device\n",
        "        model = model.to(device)\n",
        "\n",
        "        # Move the input tensor to the same device as the model\n",
        "        images = images.to(device)\n",
        "\n",
        "        outputs = model(images)\n",
        "        _, predictions = torch.max(outputs, 1)\n",
        "        # collect the correct predictions for each class\n",
        "        for label, prediction in zip(labels, predictions):\n",
        "            if label == prediction:\n",
        "                correct_pred[classes[label]] += 1\n",
        "            total_pred[classes[label]] += 1\n",
        "\n",
        "\n",
        "# Print accuracy for each class\n",
        "for classname, correct_count in correct_pred.items():\n",
        "    if classname in total_pred and total_pred[classname] > 0:\n",
        "        accuracy = 100 * float(correct_count) / total_pred[classname]\n",
        "        print(f'Accuracy for class: {classname:5s} is {accuracy:.1f} %')\n",
        "    else:\n",
        "        print(f'No predictions made or no test samples for class: {classname}')"
      ],
      "metadata": {
        "id": "TZ-MKtetQv7f",
        "colab": {
          "base_uri": "https://localhost:8080/"
        },
        "outputId": "5b42f385-3030-4af2-e388-0dd7a442045b"
      },
      "execution_count": 17,
      "outputs": [
        {
          "output_type": "stream",
          "name": "stdout",
          "text": [
            "Accuracy for class: plane is 68.3 %\n",
            "Accuracy for class: car   is 81.2 %\n",
            "Accuracy for class: bird  is 56.2 %\n",
            "Accuracy for class: cat   is 50.3 %\n",
            "Accuracy for class: deer  is 71.0 %\n",
            "Accuracy for class: dog   is 48.3 %\n",
            "Accuracy for class: frog  is 81.3 %\n",
            "Accuracy for class: horse is 75.2 %\n",
            "Accuracy for class: ship  is 83.6 %\n",
            "Accuracy for class: truck is 79.3 %\n"
          ]
        }
      ]
    },
    {
      "cell_type": "markdown",
      "source": [
        "# TPGD attack"
      ],
      "metadata": {
        "id": "rX9GS4D7cKVX"
      }
    },
    {
      "cell_type": "code",
      "source": [
        "# Define the TPGD attack\n",
        "attack_TPGD = torchattacks.TPGD(model, eps=8/255, alpha=2/255, steps=10)\n",
        "\n",
        "# Choose a random data point from the test dataset\n",
        "index_TPGD = np.random.randint(0, len(test_dataset))\n",
        "original_image_TPGD, original_label_TPGD = test_dataset[index_TPGD]\n",
        "print(\"Original Label:\", original_label_TPGD)\n",
        "\n",
        "# Ensure original_label is a PyTorch tensor\n",
        "original_label_tensor_TPGD = torch.tensor(original_label_TPGD)\n",
        "\n",
        "# Apply the TPGD attack to the original image\n",
        "adv_images_TPGD = attack_TPGD(original_image_TPGD.unsqueeze(0), original_label_tensor_TPGD.unsqueeze(0))\n",
        "\n",
        "# Predictions on original and adversarial images\n",
        "original_prediction_TPGD = torch.argmax(model(original_image_TPGD.unsqueeze(0)))\n",
        "adversarial_prediction_TPGD = torch.argmax(model(adv_images_TPGD))\n",
        "\n",
        "# Check if the predictions differ\n",
        "if original_prediction_TPGD != adversarial_prediction_TPGD:\n",
        "    print(\"The image has likely been attacked by an adversarial perturbation.\")\n",
        "else:\n",
        "    print(\"The image has not been attacked by an adversarial perturbation.\")\n",
        "\n",
        "# Visualize the original image and adversarial image along with their predictions\n",
        "fig, axs = plt.subplots(1, 2, figsize=(3, 5))\n",
        "\n",
        "# Original image\n",
        "axs[0].imshow(np.transpose(original_image_TPGD.squeeze().detach().cpu().numpy(), (1, 2, 0)))\n",
        "axs[0].set_title(\"Org Image\")\n",
        "axs[0].axis('off')\n",
        "\n",
        "# Adversarial image\n",
        "axs[1].imshow(np.transpose(adv_images_TPGD.squeeze().detach().cpu().numpy(), (1, 2, 0)))\n",
        "axs[1].set_title(\"Adv Image\")\n",
        "axs[1].axis('off')\n",
        "\n",
        "plt.show()\n",
        "\n",
        "# Print the original and adversarial predictions\n",
        "print(\"Original Prediction:\", classes[original_prediction_TPGD.item()])\n",
        "print(\"Adversarial Prediction:\", classes[adversarial_prediction_TPGD.item()])\n",
        "\n",
        "# Initialize variables to count successful attacks\n",
        "successful_attacks = 0\n",
        "total_samples = len(test_dataset)\n",
        "\n",
        "if original_prediction_TPGD != adversarial_prediction_TPGD:\n",
        "    successful_attacks += 1\n",
        "\n",
        "# Calculate the success rate\n",
        "success_rate = successful_attacks / total_samples\n",
        "\n",
        "# Print the success rate\n",
        "print(\"Success Rate:\", success_rate)"
      ],
      "metadata": {
        "colab": {
          "base_uri": "https://localhost:8080/",
          "height": 269
        },
        "id": "ZoLXFkxCX76R",
        "outputId": "5cb42236-ed94-4603-9e55-47047623b176"
      },
      "execution_count": 19,
      "outputs": [
        {
          "output_type": "stream",
          "name": "stderr",
          "text": [
            "WARNING:matplotlib.image:Clipping input data to the valid range for imshow with RGB data ([0..1] for floats or [0..255] for integers).\n"
          ]
        },
        {
          "output_type": "stream",
          "name": "stdout",
          "text": [
            "Original Label: 0\n",
            "The image has likely been attacked by an adversarial perturbation.\n"
          ]
        },
        {
          "output_type": "display_data",
          "data": {
            "text/plain": [
              "<Figure size 300x500 with 2 Axes>"
            ],
            "image/png": "[encoded data removed]"
          },
          "metadata": {}
        },
        {
          "output_type": "stream",
          "name": "stdout",
          "text": [
            "Original Prediction: deer\n",
            "Adversarial Prediction: ship\n",
            "Success Rate: 0.0001\n"
          ]
        }
      ]
    },
    {
      "cell_type": "markdown",
      "source": [
        "##MIFGSM attack"
      ],
      "metadata": {
        "id": "2idT2yYW_F4D"
      }
    },
    {
      "cell_type": "code",
      "source": [
        "# Choose a random data point from the test dataset\n",
        "index_MIFGSM = np.random.randint(0, len(test_dataset))\n",
        "original_image_MIFGSM, original_label_MIFGSM = test_dataset[index_MIFGSM]\n",
        "print(\"Original Label:\", original_label_MIFGSM)\n",
        "\n",
        "# Ensure original_label is a PyTorch tensor\n",
        "original_label_tensor_MIFGSM = torch.tensor(original_label_MIFGSM).to(device)\n",
        "\n",
        "# Apply the MIFGSM attack to the original image\n",
        "attack_MIFGSM = torchattacks.MIFGSM(model, eps=8/255, steps=10, decay=1.0)\n",
        "adv_images_MIFGSM = attack_MIFGSM(original_image_MIFGSM.unsqueeze(0).to(device), original_label_tensor_MIFGSM.unsqueeze(0))\n",
        "\n",
        "# Predictions on original and adversarial images\n",
        "original_prediction_MIFGSM = torch.argmax(model(original_image_MIFGSM.unsqueeze(0).to(device)))\n",
        "adversarial_prediction_MIFGSM = torch.argmax(model(adv_images_MIFGSM))\n",
        "\n",
        "# Check if the predictions differ\n",
        "if original_prediction_MIFGSM != adversarial_prediction_MIFGSM:\n",
        "    print(\"The image has likely been attacked by an adversarial perturbation.\")\n",
        "else:\n",
        "    print(\"The image has not been attacked by an adversarial perturbation.\")\n",
        "\n",
        "# Visualize the original image and adversarial image along with their predictions\n",
        "fig, axs = plt.subplots(1, 2, figsize=(3, 5))\n",
        "\n",
        "# Original image\n",
        "axs[0].imshow(np.transpose(original_image_MIFGSM.squeeze().detach().cpu().numpy(), (1, 2, 0)))\n",
        "axs[0].set_title(\"Org Image\")\n",
        "axs[0].axis('off')\n",
        "\n",
        "# Adversarial image\n",
        "axs[1].imshow(np.transpose(adv_images_MIFGSM.squeeze().detach().cpu().numpy(), (1, 2, 0)))\n",
        "axs[1].set_title(\"Adv Image\")\n",
        "axs[1].axis('off')\n",
        "\n",
        "plt.show()\n",
        "\n",
        "# Print the original and adversarial predictions\n",
        "print(\"Original Prediction:\", classes[original_prediction_MIFGSM.item()])\n",
        "print(\"Adversarial Prediction:\", classes[adversarial_prediction_MIFGSM.item()])\n",
        "\n",
        "# Check if the predictions differ\n",
        "# Initialize variables to count successful attacks\n",
        "successful_attacks = 0\n",
        "total_samples = len(test_dataset)\n",
        "\n",
        "if original_prediction_MIFGSM != adversarial_prediction_MIFGSM:\n",
        "  successful_attacks += 1\n",
        "\n",
        "# Calculate the success rate\n",
        "success_rate = successful_attacks / total_samples\n",
        "\n",
        "# Print the success rate\n",
        "print(\"Success Rate:\", success_rate)"
      ],
      "metadata": {
        "colab": {
          "base_uri": "https://localhost:8080/",
          "height": 269
        },
        "id": "uOnEnoXmYI9t",
        "outputId": "9d5fef8a-cc0c-4c72-dcc7-af856682cac7"
      },
      "execution_count": 20,
      "outputs": [
        {
          "output_type": "stream",
          "name": "stderr",
          "text": [
            "WARNING:matplotlib.image:Clipping input data to the valid range for imshow with RGB data ([0..1] for floats or [0..255] for integers).\n"
          ]
        },
        {
          "output_type": "stream",
          "name": "stdout",
          "text": [
            "Original Label: 2\n",
            "The image has likely been attacked by an adversarial perturbation.\n"
          ]
        },
        {
          "output_type": "display_data",
          "data": {
            "text/plain": [
              "<Figure size 300x500 with 2 Axes>"
            ],
            "image/png": "[encoded data removed]"
          },
          "metadata": {}
        },
        {
          "output_type": "stream",
          "name": "stdout",
          "text": [
            "Original Prediction: frog\n",
            "Adversarial Prediction: cat\n",
            "Success Rate: 0.0001\n"
          ]
        }
      ]
    },
    {
      "cell_type": "markdown",
      "source": [
        "##TIFGSM attack"
      ],
      "metadata": {
        "id": "LktMW4oj_5vK"
      }
    },
    {
      "cell_type": "code",
      "source": [
        "# Define the TIFGSM attack\n",
        "attack_TIFGSM = torchattacks.TIFGSM(model, eps=8/255, alpha=2/255, steps=10, decay=1.0, resize_rate=0.9, diversity_prob=0.7, random_start=False)\n",
        "\n",
        "# Choose a random data point from the test dataset\n",
        "index_TIFGSM = np.random.randint(0, len(test_dataset))\n",
        "original_image_TIFGSM, original_label_TIFGSM = test_dataset[index_TIFGSM]\n",
        "print(\"Original Label:\", original_label_TIFGSM)\n",
        "\n",
        "# Ensure original_label is a PyTorch tensor\n",
        "original_label_tensor_TIFGSM = torch.tensor(original_label_TIFGSM)\n",
        "\n",
        "# Apply the TIFGSM attack to the original image\n",
        "adv_images_TIFGSM = attack_TIFGSM(original_image_TIFGSM.unsqueeze(0), original_label_tensor_TIFGSM.unsqueeze(0))\n",
        "\n",
        "# Predictions on original and adversarial images\n",
        "original_prediction_TIFGSM = torch.argmax(model(original_image_TIFGSM.unsqueeze(0)))\n",
        "adversarial_prediction_TIFGSM = torch.argmax(model(adv_images_TIFGSM))\n",
        "\n",
        "# Check if the predictions differ\n",
        "if original_prediction_TIFGSM != adversarial_prediction_TIFGSM:\n",
        "    print(\"The image has likely been attacked by an adversarial perturbation.\")\n",
        "else:\n",
        "    print(\"The image has not been attacked by an adversarial perturbation.\")\n",
        "\n",
        "# Visualize the original image and adversarial image along with their predictions\n",
        "fig, axs = plt.subplots(1, 2, figsize=(3, 5))\n",
        "\n",
        "# Original image\n",
        "axs[0].imshow(np.transpose(original_image_TIFGSM.squeeze().detach().cpu().numpy(), (1, 2, 0)))\n",
        "axs[0].set_title(\"Org Image\")\n",
        "axs[0].axis('off')\n",
        "\n",
        "# Adversarial image\n",
        "axs[1].imshow(np.transpose(adv_images_TIFGSM.squeeze().detach().cpu().numpy(), (1, 2, 0)))\n",
        "axs[1].set_title(\"Adv Image\")\n",
        "axs[1].axis('off')\n",
        "\n",
        "plt.show()\n",
        "\n",
        "# Print the original and adversarial predictions\n",
        "print(\"Original Prediction:\", classes[original_prediction_TIFGSM.item()])\n",
        "print(\"Adversarial Prediction:\", classes[adversarial_prediction_TIFGSM.item()])\n",
        "\n",
        "# Check if the predictions differ\n",
        "\n",
        "# Initialize variables to count successful attacks\n",
        "successful_attacks = 0\n",
        "total_samples = len(test_dataset)\n",
        "\n",
        "if original_prediction_TIFGSM != adversarial_prediction_TIFGSM:\n",
        "  successful_attacks += 1\n",
        "\n",
        "# Calculate the success rate\n",
        "success_rate = successful_attacks / total_samples\n",
        "\n",
        "# Print the success rate\n",
        "print(\"Success Rate:\", success_rate)"
      ],
      "metadata": {
        "id": "iO-u9-oK_3W-",
        "colab": {
          "base_uri": "https://localhost:8080/",
          "height": 269
        },
        "outputId": "a675c620-5932-4c59-d98e-b492b495b353"
      },
      "execution_count": 23,
      "outputs": [
        {
          "output_type": "stream",
          "name": "stderr",
          "text": [
            "WARNING:matplotlib.image:Clipping input data to the valid range for imshow with RGB data ([0..1] for floats or [0..255] for integers).\n"
          ]
        },
        {
          "output_type": "stream",
          "name": "stdout",
          "text": [
            "Original Label: 8\n",
            "The image has not been attacked by an adversarial perturbation.\n"
          ]
        },
        {
          "output_type": "display_data",
          "data": {
            "text/plain": [
              "<Figure size 300x500 with 2 Axes>"
            ],
            "image/png": "[encoded data removed]"
          },
          "metadata": {}
        },
        {
          "output_type": "stream",
          "name": "stdout",
          "text": [
            "Original Prediction: ship\n",
            "Adversarial Prediction: ship\n",
            "Success Rate: 0.0\n"
          ]
        }
      ]
    },
    {
      "cell_type": "markdown",
      "source": [
        "##Jitter attack"
      ],
      "metadata": {
        "id": "1Nq8CP5nB2uo"
      }
    },
    {
      "cell_type": "code",
      "source": [
        "# Define the Jitter attack\n",
        "attack_Jitter = torchattacks.Jitter(model, eps=8/255, alpha=2/255, steps=10,\n",
        "                                    scale=10, std=0.1, random_start=True)\n",
        "\n",
        "# Choose a random data point from the test dataset\n",
        "index_Jitter = np.random.randint(0, len(test_dataset))\n",
        "original_image_Jitter, original_label_Jitter = test_dataset[index_Jitter]\n",
        "print(\"Original Label:\", original_label_Jitter)\n",
        "\n",
        "# Ensure original_label is a PyTorch tensor\n",
        "original_label_tensor_Jitter = torch.tensor(original_label_Jitter)\n",
        "\n",
        "# Apply the Jitter attack to the original image\n",
        "adv_images_Jitter = attack_Jitter(original_image_Jitter.unsqueeze(0), original_label_tensor_Jitter.unsqueeze(0))\n",
        "\n",
        "# Predictions on original and adversarial images\n",
        "original_prediction_Jitter = torch.argmax(model(original_image_Jitter.unsqueeze(0)))\n",
        "adversarial_prediction_Jitter = torch.argmax(model(adv_images_Jitter))\n",
        "\n",
        "# Check if the predictions differ\n",
        "if original_prediction_Jitter != adversarial_prediction_Jitter:\n",
        "    print(\"The image has likely been attacked by an adversarial perturbation.\")\n",
        "else:\n",
        "    print(\"The image has not been attacked by an adversarial perturbation.\")\n",
        "\n",
        "# Visualize the original image and adversarial image along with their predictions\n",
        "fig, axs = plt.subplots(1, 2, figsize=(3, 5))\n",
        "\n",
        "# Original image\n",
        "axs[0].imshow(np.transpose(original_image_Jitter.squeeze().detach().cpu().numpy(), (1, 2, 0)))\n",
        "axs[0].set_title(\"Org Image\")\n",
        "axs[0].axis('off')\n",
        "\n",
        "# Adversarial image\n",
        "axs[1].imshow(np.transpose(adv_images_Jitter.squeeze().detach().cpu().numpy(), (1, 2, 0)))\n",
        "axs[1].set_title(\"Adv Image\")\n",
        "axs[1].axis('off')\n",
        "\n",
        "plt.show()\n",
        "\n",
        "# Print the original and adversarial predictions\n",
        "print(\"Original Prediction:\", classes[original_prediction_Jitter.item()])\n",
        "print(\"Adversarial Prediction:\", classes[adversarial_prediction_Jitter.item()])\n",
        "\n",
        "# Check if the predictions differ\n",
        "\n",
        "# Initialize variables to count successful attacks\n",
        "successful_attacks = 0\n",
        "total_samples = len(test_dataset)\n",
        "\n",
        "if original_prediction_Jitter != adversarial_prediction_Jitter:\n",
        "  successful_attacks += 1\n",
        "\n",
        "# Calculate the success rate\n",
        "success_rate = successful_attacks / total_samples\n",
        "\n",
        "# Print the success rate\n",
        "print(\"Success Rate:\", success_rate)"
      ],
      "metadata": {
        "id": "L1ugrAFXBtAH",
        "colab": {
          "base_uri": "https://localhost:8080/",
          "height": 269
        },
        "outputId": "89bfe5cd-2105-4e15-d2eb-878a8c0d207f"
      },
      "execution_count": 24,
      "outputs": [
        {
          "output_type": "stream",
          "name": "stderr",
          "text": [
            "WARNING:matplotlib.image:Clipping input data to the valid range for imshow with RGB data ([0..1] for floats or [0..255] for integers).\n"
          ]
        },
        {
          "output_type": "stream",
          "name": "stdout",
          "text": [
            "Original Label: 1\n",
            "The image has likely been attacked by an adversarial perturbation.\n"
          ]
        },
        {
          "output_type": "display_data",
          "data": {
            "text/plain": [
              "<Figure size 300x500 with 2 Axes>"
            ],
            "image/png": "[encoded data removed]"
          },
          "metadata": {}
        },
        {
          "output_type": "stream",
          "name": "stdout",
          "text": [
            "Original Prediction: car\n",
            "Adversarial Prediction: ship\n",
            "Success Rate: 0.0001\n"
          ]
        }
      ]
    },
    {
      "cell_type": "markdown",
      "source": [
        "##NIFGSM attacks"
      ],
      "metadata": {
        "id": "l-5K9yKDAd8p"
      }
    },
    {
      "cell_type": "code",
      "source": [
        "# Define the NIFGSM attack\n",
        "attack_NIFGSM = torchattacks.NIFGSM(model, eps=8/255, alpha=2/255, steps=10, decay=1.0)\n",
        "\n",
        "# Choose a random data point from the test dataset\n",
        "index_NIFGSM = np.random.randint(0, len(test_dataset))\n",
        "original_image_NIFGSM, original_label_NIFGSM = test_dataset[index_NIFGSM]\n",
        "print(\"Original Label:\", original_label_NIFGSM)\n",
        "\n",
        "# Ensure original_label is a PyTorch tensor\n",
        "original_label_tensor_NIFGSM = torch.tensor(original_label_NIFGSM)\n",
        "\n",
        "# Apply the NIFGSM attack to the original image\n",
        "adv_images_NIFGSM = attack_NIFGSM(original_image_NIFGSM.unsqueeze(0), original_label_tensor_NIFGSM.unsqueeze(0))\n",
        "\n",
        "# Predictions on original and adversarial images\n",
        "original_prediction_NIFGSM = torch.argmax(model(original_image_NIFGSM.unsqueeze(0)))\n",
        "adversarial_prediction_NIFGSM = torch.argmax(model(adv_images_NIFGSM))\n",
        "\n",
        "# Check if the predictions differ\n",
        "if original_prediction_NIFGSM != adversarial_prediction_NIFGSM:\n",
        "    print(\"The image has likely been attacked by an adversarial perturbation.\")\n",
        "else:\n",
        "    print(\"The image has not been attacked by an adversarial perturbation.\")\n",
        "\n",
        "# Visualize the original image and adversarial image along with their predictions\n",
        "fig, axs = plt.subplots(1, 2, figsize=(3, 5))\n",
        "\n",
        "# Original image\n",
        "axs[0].imshow(np.transpose(original_image_NIFGSM.squeeze().detach().cpu().numpy(), (1, 2, 0)))\n",
        "axs[0].set_title(\"Org Image\")\n",
        "axs[0].axis('off')\n",
        "\n",
        "# Adversarial image\n",
        "axs[1].imshow(np.transpose(adv_images_NIFGSM.squeeze().detach().cpu().numpy(), (1, 2, 0)))\n",
        "axs[1].set_title(\"Adv Image\")\n",
        "axs[1].axis('off')\n",
        "\n",
        "plt.show()\n",
        "\n",
        "# Print the original and adversarial predictions\n",
        "print(\"Original Prediction:\", classes[original_prediction_NIFGSM.item()])\n",
        "print(\"Adversarial Prediction:\", classes[adversarial_prediction_NIFGSM.item()])\n",
        "\n",
        "# Check if the predictions differ\n",
        "\n",
        "# Initialize variables to count successful attacks\n",
        "successful_attacks = 0\n",
        "total_samples = len(test_dataset)\n",
        "\n",
        "if original_prediction_NIFGSM != adversarial_prediction_NIFGSM:\n",
        "    successful_attacks += 1\n",
        "\n",
        "# Calculate the success rate\n",
        "success_rate = successful_attacks / total_samples\n",
        "\n",
        "# Print the success rate\n",
        "print(\"Success Rate:\", success_rate)"
      ],
      "metadata": {
        "id": "zAaJ7KI0AVdp",
        "colab": {
          "base_uri": "https://localhost:8080/",
          "height": 269
        },
        "outputId": "4ae71d72-a6d2-45ba-f3b4-1a21bdbbddcb"
      },
      "execution_count": 25,
      "outputs": [
        {
          "output_type": "stream",
          "name": "stderr",
          "text": [
            "WARNING:matplotlib.image:Clipping input data to the valid range for imshow with RGB data ([0..1] for floats or [0..255] for integers).\n"
          ]
        },
        {
          "output_type": "stream",
          "name": "stdout",
          "text": [
            "Original Label: 3\n",
            "The image has likely been attacked by an adversarial perturbation.\n"
          ]
        },
        {
          "output_type": "display_data",
          "data": {
            "text/plain": [
              "<Figure size 300x500 with 2 Axes>"
            ],
            "image/png": "[encoded data removed]"
          },
          "metadata": {}
        },
        {
          "output_type": "stream",
          "name": "stdout",
          "text": [
            "Original Prediction: cat\n",
            "Adversarial Prediction: bird\n",
            "Success Rate: 0.0001\n"
          ]
        }
      ]
    },
    {
      "cell_type": "markdown",
      "source": [
        "##Comparing all attacks"
      ],
      "metadata": {
        "id": "YXpINL0W8QTy"
      }
    },
    {
      "cell_type": "code",
      "source": [
        "# Define the TPGD attack\n",
        "attack_TPGD = torchattacks.TPGD(model, eps=8/255, alpha=2/255, steps=10)\n",
        "# Define the MIFGSM attack\n",
        "attack_MIFGSM = torchattacks.MIFGSM(model, eps=8/255, steps=10, decay=1.0)\n",
        "# Define the TIFGSM attack\n",
        "attack_TIFGSM = torchattacks.TIFGSM(model, eps=8/255, alpha=2/255, steps=10, decay=1.0, resize_rate=0.9, diversity_prob=0.7, random_start=False)\n",
        "# Define the Jitter attack\n",
        "attack_Jitter = torchattacks.Jitter(model, eps=8/255, alpha=2/255, steps=10, scale=10, std=0.1, random_start=True)\n",
        "# Define the NIFGSM attack\n",
        "attack_NIFGSM = torchattacks.NIFGSM(model, eps=8/255, alpha=2/255, steps=10, decay=1.0)\n",
        "\n",
        "# Initialize variables to count successful attacks\n",
        "successful_attacks_TPGD = 0\n",
        "successful_attacks_MIFGSM = 0\n",
        "successful_attacks_TIFGSM = 0\n",
        "successful_attacks_Jitter = 0\n",
        "successful_attacks_NIFGSM = 0\n",
        "\n",
        "total_samples = len(test_dataset)\n",
        "\n",
        "# Iterate over the test dataset\n",
        "for original_image, original_label in test_dataset:\n",
        "    # Ensure original_label is a PyTorch tensor\n",
        "    original_label_tensor = torch.tensor(original_label)\n",
        "    original_image = original_image.to(device)\n",
        "\n",
        "    # Apply the TPGD attack to the original image\n",
        "    adv_images_TPGD = attack_TPGD(original_image.unsqueeze(0), original_label_tensor.unsqueeze(0))\n",
        "    # Apply the MIFGSM attack to the original image\n",
        "    adv_images_MIFGSM = attack_MIFGSM(original_image.unsqueeze(0), original_label_tensor.unsqueeze(0))\n",
        "    # Apply the TIFGSM attack to the original image\n",
        "    adv_images_TIFGSM = attack_TIFGSM(original_image.unsqueeze(0), original_label_tensor.unsqueeze(0))\n",
        "    # Apply the Jitter attack to the original image\n",
        "    adv_images_Jitter = attack_Jitter(original_image.unsqueeze(0), original_label_tensor.unsqueeze(0))\n",
        "    # Apply the NIFGSM attack to the original image\n",
        "    adv_images_NIFGSM = attack_NIFGSM(original_image.unsqueeze(0), original_label_tensor.unsqueeze(0))\n",
        "\n",
        "    # Predictions on original and adversarial images\n",
        "    original_prediction = torch.argmax(model(original_image.unsqueeze(0)))\n",
        "    adversarial_prediction_TPGD = torch.argmax(model(adv_images_TPGD))\n",
        "    adversarial_prediction_MIFGSM = torch.argmax(model(adv_images_MIFGSM))\n",
        "    adversarial_prediction_TIFGSM = torch.argmax(model(adv_images_TIFGSM))\n",
        "    adversarial_prediction_Jitter = torch.argmax(model(adv_images_Jitter))\n",
        "    adversarial_prediction_NIFGSM = torch.argmax(model(adv_images_NIFGSM))\n",
        "\n",
        "    # Check if the predictions differ for TPGD attack\n",
        "    if original_prediction != adversarial_prediction_TPGD:\n",
        "        successful_attacks_TPGD += 1\n",
        "\n",
        "    # Check if the predictions differ for MIFGSM attack\n",
        "    if original_prediction != adversarial_prediction_MIFGSM:\n",
        "        successful_attacks_MIFGSM += 1\n",
        "\n",
        "    # Check if the predictions differ for TIFGSM attack\n",
        "    if original_prediction != adversarial_prediction_TIFGSM:\n",
        "        successful_attacks_TIFGSM += 1\n",
        "\n",
        "    # Check if the predictions differ for Jitter attack\n",
        "    if original_prediction != adversarial_prediction_Jitter:\n",
        "        successful_attacks_Jitter += 1\n",
        "\n",
        "    # Check if the predictions differ for NIFGSM attack\n",
        "    if original_prediction != adversarial_prediction_NIFGSM:\n",
        "        successful_attacks_NIFGSM += 1\n",
        "\n",
        "# Calculate the success rate for each attack\n",
        "success_rate_TPGD = successful_attacks_TPGD / total_samples\n",
        "success_rate_MIFGSM = successful_attacks_MIFGSM / total_samples\n",
        "success_rate_TIFGSM = successful_attacks_TIFGSM / total_samples\n",
        "success_rate_Jitter = successful_attacks_Jitter / total_samples\n",
        "success_rate_NIFGSM = successful_attacks_NIFGSM / total_samples\n",
        "\n",
        "# Print the success rates for each attack\n",
        "print(\"TPGD Success Rate:\", success_rate_TPGD)\n",
        "print(\"MIFGSM Success Rate:\", success_rate_MIFGSM)\n",
        "print(\"TIFGSM Success Rate:\", success_rate_TIFGSM)\n",
        "print(\"Jitter Success Rate:\", success_rate_Jitter)\n",
        "print(\"NIFGSM Success Rate:\", success_rate_NIFGSM)\n",
        "\n",
        "# Compare which attack has the highest success rate\n",
        "highest_success_rate = max(success_rate_TPGD, success_rate_MIFGSM, success_rate_TIFGSM, success_rate_Jitter, success_rate_NIFGSM)\n",
        "if highest_success_rate == success_rate_TPGD:\n",
        "    print(\"TPGD has the highest success rate.\")\n",
        "elif highest_success_rate == success_rate_MIFGSM:\n",
        "    print(\"MIFGSM has the highest success rate.\")\n",
        "elif highest_success_rate == success_rate_TIFGSM:\n",
        "    print(\"TIFGSM has the highest success rate.\")\n",
        "elif highest_success_rate == success_rate_Jitter:\n",
        "    print(\"Jitter has the highest success rate.\")\n",
        "else:\n",
        "    print(\"NIFGSM has the highest success rate.\")"
      ],
      "metadata": {
        "id": "KU2a5Tg8ZxaS",
        "colab": {
          "base_uri": "https://localhost:8080/"
        },
        "outputId": "f0c1f866-0afc-438c-f3f2-93167aa520f0"
      },
      "execution_count": 26,
      "outputs": [
        {
          "output_type": "stream",
          "name": "stdout",
          "text": [
            "TPGD Success Rate: 0.8962\n",
            "MIFGSM Success Rate: 0.8574\n",
            "TIFGSM Success Rate: 0.7036\n",
            "Jitter Success Rate: 0.8204\n",
            "NIFGSM Success Rate: 0.8244\n",
            "TPGD has the highest success rate.\n"
          ]
        }
      ]
    },
    {
      "cell_type": "code",
      "source": [],
      "metadata": {
        "id": "xVb_vUoGY8c6"
      },
      "execution_count": null,
      "outputs": []
    }
  ]
}