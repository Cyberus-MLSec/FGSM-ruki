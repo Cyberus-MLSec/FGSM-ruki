{
  "cells": [
    {
      "cell_type": "code",
      "execution_count": 1,
      "metadata": {
        "colab": {
          "base_uri": "https://localhost:8080/"
        },
        "id": "dvhyOaVxTe_p",
        "outputId": "0bc65531-a9ab-4f56-a109-257f4618ea43"
      },
      "outputs": [
        {
          "output_type": "stream",
          "name": "stdout",
          "text": [
            "Collecting torchattacks\n",
            "  Downloading torchattacks-3.5.1-py3-none-any.whl (142 kB)\n",
            "\u001b[2K     \u001b[90m━━━━━━━━━━━━━━━━━━━━━━━━━━━━━━━━━━━━━━━━\u001b[0m \u001b[32m142.0/142.0 kB\u001b[0m \u001b[31m3.0 MB/s\u001b[0m eta \u001b[36m0:00:00\u001b[0m\n",
            "\u001b[?25hRequirement already satisfied: torch>=1.7.1 in /usr/local/lib/python3.10/dist-packages (from torchattacks) (2.3.0+cu121)\n",
            "Requirement already satisfied: torchvision>=0.8.2 in /usr/local/lib/python3.10/dist-packages (from torchattacks) (0.18.0+cu121)\n",
            "Requirement already satisfied: scipy>=0.14.0 in /usr/local/lib/python3.10/dist-packages (from torchattacks) (1.11.4)\n",
            "Requirement already satisfied: tqdm>=4.56.1 in /usr/local/lib/python3.10/dist-packages (from torchattacks) (4.66.4)\n",
            "Collecting requests~=2.25.1 (from torchattacks)\n",
            "  Downloading requests-2.25.1-py2.py3-none-any.whl (61 kB)\n",
            "\u001b[2K     \u001b[90m━━━━━━━━━━━━━━━━━━━━━━━━━━━━━━━━━━━━━━━━\u001b[0m \u001b[32m61.2/61.2 kB\u001b[0m \u001b[31m2.6 MB/s\u001b[0m eta \u001b[36m0:00:00\u001b[0m\n",
            "\u001b[?25hRequirement already satisfied: numpy>=1.19.4 in /usr/local/lib/python3.10/dist-packages (from torchattacks) (1.25.2)\n",
            "Collecting chardet<5,>=3.0.2 (from requests~=2.25.1->torchattacks)\n",
            "  Downloading chardet-4.0.0-py2.py3-none-any.whl (178 kB)\n",
            "\u001b[2K     \u001b[90m━━━━━━━━━━━━━━━━━━━━━━━━━━━━━━━━━━━━━━━━\u001b[0m \u001b[32m178.7/178.7 kB\u001b[0m \u001b[31m5.9 MB/s\u001b[0m eta \u001b[36m0:00:00\u001b[0m\n",
            "\u001b[?25hCollecting idna<3,>=2.5 (from requests~=2.25.1->torchattacks)\n",
            "  Downloading idna-2.10-py2.py3-none-any.whl (58 kB)\n",
            "\u001b[2K     \u001b[90m━━━━━━━━━━━━━━━━━━━━━━━━━━━━━━━━━━━━━━━━\u001b[0m \u001b[32m58.8/58.8 kB\u001b[0m \u001b[31m6.4 MB/s\u001b[0m eta \u001b[36m0:00:00\u001b[0m\n",
            "\u001b[?25hCollecting urllib3<1.27,>=1.21.1 (from requests~=2.25.1->torchattacks)\n",
            "  Downloading urllib3-1.26.18-py2.py3-none-any.whl (143 kB)\n",
            "\u001b[2K     \u001b[90m━━━━━━━━━━━━━━━━━━━━━━━━━━━━━━━━━━━━━━━━\u001b[0m \u001b[32m143.8/143.8 kB\u001b[0m \u001b[31m6.2 MB/s\u001b[0m eta \u001b[36m0:00:00\u001b[0m\n",
            "\u001b[?25hRequirement already satisfied: certifi>=2017.4.17 in /usr/local/lib/python3.10/dist-packages (from requests~=2.25.1->torchattacks) (2024.2.2)\n",
            "Requirement already satisfied: filelock in /usr/local/lib/python3.10/dist-packages (from torch>=1.7.1->torchattacks) (3.14.0)\n",
            "Requirement already satisfied: typing-extensions>=4.8.0 in /usr/local/lib/python3.10/dist-packages (from torch>=1.7.1->torchattacks) (4.11.0)\n",
            "Requirement already satisfied: sympy in /usr/local/lib/python3.10/dist-packages (from torch>=1.7.1->torchattacks) (1.12)\n",
            "Requirement already satisfied: networkx in /usr/local/lib/python3.10/dist-packages (from torch>=1.7.1->torchattacks) (3.3)\n",
            "Requirement already satisfied: jinja2 in /usr/local/lib/python3.10/dist-packages (from torch>=1.7.1->torchattacks) (3.1.4)\n",
            "Requirement already satisfied: fsspec in /usr/local/lib/python3.10/dist-packages (from torch>=1.7.1->torchattacks) (2023.6.0)\n",
            "Collecting nvidia-cuda-nvrtc-cu12==12.1.105 (from torch>=1.7.1->torchattacks)\n",
            "  Using cached nvidia_cuda_nvrtc_cu12-12.1.105-py3-none-manylinux1_x86_64.whl (23.7 MB)\n",
            "Collecting nvidia-cuda-runtime-cu12==12.1.105 (from torch>=1.7.1->torchattacks)\n",
            "  Using cached nvidia_cuda_runtime_cu12-12.1.105-py3-none-manylinux1_x86_64.whl (823 kB)\n",
            "Collecting nvidia-cuda-cupti-cu12==12.1.105 (from torch>=1.7.1->torchattacks)\n",
            "  Using cached nvidia_cuda_cupti_cu12-12.1.105-py3-none-manylinux1_x86_64.whl (14.1 MB)\n",
            "Collecting nvidia-cudnn-cu12==8.9.2.26 (from torch>=1.7.1->torchattacks)\n",
            "  Using cached nvidia_cudnn_cu12-8.9.2.26-py3-none-manylinux1_x86_64.whl (731.7 MB)\n",
            "Collecting nvidia-cublas-cu12==12.1.3.1 (from torch>=1.7.1->torchattacks)\n",
            "  Using cached nvidia_cublas_cu12-12.1.3.1-py3-none-manylinux1_x86_64.whl (410.6 MB)\n",
            "Collecting nvidia-cufft-cu12==11.0.2.54 (from torch>=1.7.1->torchattacks)\n",
            "  Using cached nvidia_cufft_cu12-11.0.2.54-py3-none-manylinux1_x86_64.whl (121.6 MB)\n",
            "Collecting nvidia-curand-cu12==10.3.2.106 (from torch>=1.7.1->torchattacks)\n",
            "  Using cached nvidia_curand_cu12-10.3.2.106-py3-none-manylinux1_x86_64.whl (56.5 MB)\n",
            "Collecting nvidia-cusolver-cu12==11.4.5.107 (from torch>=1.7.1->torchattacks)\n",
            "  Using cached nvidia_cusolver_cu12-11.4.5.107-py3-none-manylinux1_x86_64.whl (124.2 MB)\n",
            "Collecting nvidia-cusparse-cu12==12.1.0.106 (from torch>=1.7.1->torchattacks)\n",
            "  Using cached nvidia_cusparse_cu12-12.1.0.106-py3-none-manylinux1_x86_64.whl (196.0 MB)\n",
            "Collecting nvidia-nccl-cu12==2.20.5 (from torch>=1.7.1->torchattacks)\n",
            "  Using cached nvidia_nccl_cu12-2.20.5-py3-none-manylinux2014_x86_64.whl (176.2 MB)\n",
            "Collecting nvidia-nvtx-cu12==12.1.105 (from torch>=1.7.1->torchattacks)\n",
            "  Using cached nvidia_nvtx_cu12-12.1.105-py3-none-manylinux1_x86_64.whl (99 kB)\n",
            "Requirement already satisfied: triton==2.3.0 in /usr/local/lib/python3.10/dist-packages (from torch>=1.7.1->torchattacks) (2.3.0)\n",
            "Collecting nvidia-nvjitlink-cu12 (from nvidia-cusolver-cu12==11.4.5.107->torch>=1.7.1->torchattacks)\n",
            "  Downloading nvidia_nvjitlink_cu12-12.5.40-py3-none-manylinux2014_x86_64.whl (21.3 MB)\n",
            "\u001b[2K     \u001b[90m━━━━━━━━━━━━━━━━━━━━━━━━━━━━━━━━━━━━━━━━\u001b[0m \u001b[32m21.3/21.3 MB\u001b[0m \u001b[31m56.1 MB/s\u001b[0m eta \u001b[36m0:00:00\u001b[0m\n",
            "\u001b[?25hRequirement already satisfied: pillow!=8.3.*,>=5.3.0 in /usr/local/lib/python3.10/dist-packages (from torchvision>=0.8.2->torchattacks) (9.4.0)\n",
            "Requirement already satisfied: MarkupSafe>=2.0 in /usr/local/lib/python3.10/dist-packages (from jinja2->torch>=1.7.1->torchattacks) (2.1.5)\n",
            "Requirement already satisfied: mpmath>=0.19 in /usr/local/lib/python3.10/dist-packages (from sympy->torch>=1.7.1->torchattacks) (1.3.0)\n",
            "Installing collected packages: urllib3, nvidia-nvtx-cu12, nvidia-nvjitlink-cu12, nvidia-nccl-cu12, nvidia-curand-cu12, nvidia-cufft-cu12, nvidia-cuda-runtime-cu12, nvidia-cuda-nvrtc-cu12, nvidia-cuda-cupti-cu12, nvidia-cublas-cu12, idna, chardet, requests, nvidia-cusparse-cu12, nvidia-cudnn-cu12, nvidia-cusolver-cu12, torchattacks\n",
            "  Attempting uninstall: urllib3\n",
            "    Found existing installation: urllib3 2.0.7\n",
            "    Uninstalling urllib3-2.0.7:\n",
            "      Successfully uninstalled urllib3-2.0.7\n",
            "  Attempting uninstall: idna\n",
            "    Found existing installation: idna 3.7\n",
            "    Uninstalling idna-3.7:\n",
            "      Successfully uninstalled idna-3.7\n",
            "  Attempting uninstall: chardet\n",
            "    Found existing installation: chardet 5.2.0\n",
            "    Uninstalling chardet-5.2.0:\n",
            "      Successfully uninstalled chardet-5.2.0\n",
            "  Attempting uninstall: requests\n",
            "    Found existing installation: requests 2.31.0\n",
            "    Uninstalling requests-2.31.0:\n",
            "      Successfully uninstalled requests-2.31.0\n",
            "\u001b[31mERROR: pip's dependency resolver does not currently take into account all the packages that are installed. This behaviour is the source of the following dependency conflicts.\n",
            "bigframes 1.6.0 requires requests>=2.27.1, but you have requests 2.25.1 which is incompatible.\n",
            "google-colab 1.0.0 requires requests==2.31.0, but you have requests 2.25.1 which is incompatible.\n",
            "tweepy 4.14.0 requires requests<3,>=2.27.0, but you have requests 2.25.1 which is incompatible.\n",
            "yfinance 0.2.40 requires requests>=2.31, but you have requests 2.25.1 which is incompatible.\u001b[0m\u001b[31m\n",
            "\u001b[0mSuccessfully installed chardet-4.0.0 idna-2.10 nvidia-cublas-cu12-12.1.3.1 nvidia-cuda-cupti-cu12-12.1.105 nvidia-cuda-nvrtc-cu12-12.1.105 nvidia-cuda-runtime-cu12-12.1.105 nvidia-cudnn-cu12-8.9.2.26 nvidia-cufft-cu12-11.0.2.54 nvidia-curand-cu12-10.3.2.106 nvidia-cusolver-cu12-11.4.5.107 nvidia-cusparse-cu12-12.1.0.106 nvidia-nccl-cu12-2.20.5 nvidia-nvjitlink-cu12-12.5.40 nvidia-nvtx-cu12-12.1.105 requests-2.25.1 torchattacks-3.5.1 urllib3-1.26.18\n"
          ]
        }
      ],
      "source": [
        "pip install torchattacks"
      ]
    },
    {
      "cell_type": "code",
      "execution_count": 2,
      "metadata": {
        "id": "PPhBH1zxTWne"
      },
      "outputs": [],
      "source": [
        "import torch\n",
        "import torch.nn as nn\n",
        "import torch.optim as optim\n",
        "import torchvision\n",
        "import torchvision.transforms as transforms\n",
        "import numpy as np\n",
        "import matplotlib.pyplot as plt\n",
        "from torch.utils.data import DataLoader\n",
        "import torchattacks"
      ]
    },
    {
      "cell_type": "code",
      "execution_count": 3,
      "metadata": {
        "colab": {
          "base_uri": "https://localhost:8080/"
        },
        "id": "W532tkIkUnwS",
        "outputId": "aff2cf36-d785-48d7-ea26-838515f0e5fe"
      },
      "outputs": [
        {
          "output_type": "stream",
          "name": "stdout",
          "text": [
            "Downloading https://www.cs.toronto.edu/~kriz/cifar-10-python.tar.gz to ./data/cifar-10-python.tar.gz\n"
          ]
        },
        {
          "output_type": "stream",
          "name": "stderr",
          "text": [
            "100%|██████████| 170498071/170498071 [00:03<00:00, 44256262.08it/s]\n"
          ]
        },
        {
          "output_type": "stream",
          "name": "stdout",
          "text": [
            "Extracting ./data/cifar-10-python.tar.gz to ./data\n",
            "Files already downloaded and verified\n",
            "Files already downloaded and verified\n"
          ]
        }
      ],
      "source": [
        "import torch\n",
        "import torchvision\n",
        "from torchvision import transforms\n",
        "from torch.utils.data import DataLoader\n",
        "\n",
        "transform = transforms.Compose([transforms.ToTensor(),\n",
        "                                transforms.Normalize((0.5, 0.5, 0.5),\n",
        "                                 (0.5, 0.5, 0.5))])\n",
        "\n",
        "batch_size=10;\n",
        "\n",
        "\n",
        "train_dataset = torchvision.datasets.CIFAR10(root='./data', train=True,\n",
        "                                             download=True, transform=transform)\n",
        "\n",
        "val_dataset = torchvision.datasets.CIFAR10(root='./data', train=False,\n",
        "                                           download=True, transform=transform)\n",
        "\n",
        "test_dataset = torchvision.datasets.CIFAR10(root='./data', train=False,\n",
        "                                            download=True, transform=transform)\n",
        "\n",
        "train_loader = DataLoader(train_dataset, batch_size=batch_size, shuffle=True)\n",
        "val_loader = DataLoader(val_dataset, batch_size=batch_size, shuffle=False)\n",
        "test_loader = torch.utils.data.DataLoader(test_dataset, batch_size=batch_size,\n",
        "                                          shuffle=True)\n",
        "\n",
        "\n",
        "\n",
        "classes = [\n",
        "    \"aquatic mammals\", \"fish\", \"flowers\", \"food containers\", \"fruit and vegetables\",\n",
        "    \"household electrical devices\", \"household furniture\", \"insects\",\"large carnivores\",\n",
        "    \"large man-made outdoor things\", \"large natural outdoor scenes\",\n",
        "    \"large omnivores and herbivores\", \"medium-sized mammals\",\n",
        "    \"non-insect invertebrates\", \"people\", \"reptiles\", \"small mammals\",\n",
        "    \"trees\", \"vehicles 1\", \"vehicles 2\"\n",
        "]"
      ]
    },
    {
      "cell_type": "code",
      "source": [
        "# Iterate over the data loader to get the shape of the data\n",
        "for images, labels in train_loader:\n",
        "    print(\"Shape of images tensor:\", images.shape)\n",
        "    print(\"Shape of labels tensor:\", labels.shape)\n",
        "    break  # Exit the loop after the first batch\n"
      ],
      "metadata": {
        "colab": {
          "base_uri": "https://localhost:8080/"
        },
        "id": "mvRMmxwVY-P9",
        "outputId": "061ee19a-7228-45d1-fe99-aaefee1a889b"
      },
      "execution_count": 4,
      "outputs": [
        {
          "output_type": "stream",
          "name": "stdout",
          "text": [
            "Shape of images tensor: torch.Size([10, 3, 32, 32])\n",
            "Shape of labels tensor: torch.Size([10])\n"
          ]
        }
      ]
    },
    {
      "cell_type": "code",
      "source": [
        "import numpy as np\n",
        "import matplotlib.pyplot as plt\n",
        "\n",
        "# Function to convert a tensor to a numpy image\n",
        "def tensor_to_image(tensor):\n",
        "    # Convert tensor to numpy array\n",
        "    image = tensor.numpy()\n",
        "    # Rescale the pixel values to be between 0 and 1\n",
        "    image = image / 2 + 0.5\n",
        "    # Reorder dimensions to (height, width, channels)\n",
        "    image = np.transpose(image, (1, 2, 0))\n",
        "    return image\n",
        "\n",
        "# Function to display a single image\n",
        "def show_image(image, label, classes):\n",
        "    # Convert tensor to numpy array\n",
        "    image = tensor_to_image(image)\n",
        "\n",
        "    # Create a figure and axis\n",
        "    fig, ax = plt.subplots(figsize=(4, 3))\n",
        "\n",
        "    # Plot the image\n",
        "    ax.imshow(image)\n",
        "    ax.axis('off')\n",
        "    ax.set_title(classes[label.item()])\n",
        "\n",
        "    # Show the plot\n",
        "    plt.show()\n",
        "\n",
        "# Get a batch of images and labels\n",
        "images, labels = next(iter(train_loader))\n",
        "\n",
        "# Assuming you want to display the first image in the batch\n",
        "image_to_display = images[0]\n",
        "label_to_display = labels[0]\n",
        "\n",
        "# Display the image\n",
        "show_image(image_to_display, label_to_display, classes)"
      ],
      "metadata": {
        "colab": {
          "base_uri": "https://localhost:8080/",
          "height": 290
        },
        "id": "iw7X0pFgkZfc",
        "outputId": "d004c44c-3488-4aeb-c430-d19e89017ae8"
      },
      "execution_count": 5,
      "outputs": [
        {
          "output_type": "display_data",
          "data": {
            "text/plain": [
              "<Figure size 400x300 with 1 Axes>"
            ],
            "image/png": "[encoded data removed]"
          },
          "metadata": {}
        }
      ]
    },
    {
      "cell_type": "code",
      "execution_count": 6,
      "metadata": {
        "colab": {
          "base_uri": "https://localhost:8080/",
          "height": 307
        },
        "id": "Pv2pASV56p75",
        "outputId": "6e63f9a9-8681-40e0-dabc-0e77db001636"
      },
      "outputs": [
        {
          "output_type": "display_data",
          "data": {
            "text/plain": [
              "<Figure size 300x400 with 6 Axes>"
            ],
            "image/png": "[encoded data removed]"
          },
          "metadata": {}
        }
      ],
      "source": [
        "import matplotlib.pyplot as plt\n",
        "import numpy as np\n",
        "\n",
        "# Function to show an image\n",
        "def imshow(img):\n",
        "    img = img / 2 + 0.5     # Unnormalize\n",
        "    npimg = img.numpy()\n",
        "    plt.imshow(np.transpose(npimg, (1, 2, 0)))\n",
        "\n",
        "batch_size = 6\n",
        "\n",
        "# Get some random training images\n",
        "dataiter = iter(train_loader)\n",
        "images, labels = next(dataiter)\n",
        "\n",
        "# Define the figure size\n",
        "plt.figure(figsize=(3, 4))  # 6 columns and 4 rows\n",
        "\n",
        "# Show images and print labels for the first 6 images\n",
        "for i in range(batch_size):\n",
        "    plt.subplot(2, 3, i+1)  # 2 rows, 3 columns, i+1 denotes the position of the subplot\n",
        "    imshow(torchvision.utils.make_grid(images[i]))\n",
        "    plt.title(f\"{classes[labels[i]]}\")\n",
        "    plt.axis('off')  # Turn off axis\n",
        "\n",
        "plt.tight_layout()\n",
        "plt.show()"
      ]
    },
    {
      "cell_type": "markdown",
      "metadata": {
        "id": "kgd-SyiZDJ8m"
      },
      "source": [
        "## Define the model architecture"
      ]
    },
    {
      "cell_type": "code",
      "source": [
        "class SimpleCNN(nn.Module):\n",
        "    def __init__(self):\n",
        "        super(SimpleCNN, self).__init__()\n",
        "        self.conv1 = nn.Conv2d(3, 32, kernel_size=3, stride=1, padding=1)\n",
        "        self.pool = nn.MaxPool2d(kernel_size=2, stride=2)\n",
        "        self.conv2 = nn.Conv2d(32, 64, kernel_size=3, stride=1, padding=1)\n",
        "        self.fc1 = nn.Linear(64 * 8 * 8, 128)\n",
        "        self.fc2 = nn.Linear(128, 10)\n",
        "\n",
        "    def forward(self, x):\n",
        "        x = self.pool(torch.relu(self.conv1(x))) #This line applies the first convolutional layer (conv1) to the input x, then applies the ReLU activation function (torch.relu)\n",
        "        x = self.pool(torch.relu(self.conv2(x)))\n",
        "        x = x.view(-1, 64 * 8 * 8) #This line reshapes (flattens) the output tensor x from the previous layer to prepare it for the fully connected layers.\n",
        "        x = torch.relu(self.fc1(x)) #This applies the ReLU activation function to the output of the first fully connected layer (fc1).\n",
        "        x = self.fc2(x) #This applies the second fully connected layer (fc2) to produce the final output tensor x\n",
        "        return x\n",
        ""
      ],
      "metadata": {
        "id": "9oatScsJ99q_"
      },
      "execution_count": 7,
      "outputs": []
    },
    {
      "cell_type": "code",
      "source": [
        "import torch\n",
        "device = torch.device(\"cuda\" if torch.cuda.is_available() else \"cpu\")\n",
        "\n",
        "\n",
        "model = SimpleCNN().to(device)"
      ],
      "metadata": {
        "id": "Fq4azOFyKZb0"
      },
      "execution_count": 8,
      "outputs": []
    },
    {
      "cell_type": "markdown",
      "metadata": {
        "id": "KPKDgWGwz7Sw"
      },
      "source": [
        "## Define a Loss function and optimizer.\n",
        "Using a Classification Cross-Entropy loss and Adam with momentum."
      ]
    },
    {
      "cell_type": "code",
      "execution_count": 9,
      "metadata": {
        "id": "OclhBZOmz5Lx"
      },
      "outputs": [],
      "source": [
        "import torch.optim as optim\n",
        "\n",
        "criterion = nn.CrossEntropyLoss()\n",
        "optimizer = optim.Adam(model.parameters(), lr=0.001)\n"
      ]
    },
    {
      "cell_type": "code",
      "execution_count": 10,
      "metadata": {
        "colab": {
          "base_uri": "https://localhost:8080/"
        },
        "id": "iQwkM6fqU8VP",
        "outputId": "45a1cf59-0bcc-49e1-e473-220da13296f9"
      },
      "outputs": [
        {
          "output_type": "stream",
          "name": "stdout",
          "text": [
            "Epoch 1/5, Loss: 1.2811, Train Accuracy: 0.5382, Val Accuracy: 0.6171\n",
            "Epoch 2/5, Loss: 0.9427, Train Accuracy: 0.6677, Val Accuracy: 0.6766\n",
            "Epoch 3/5, Loss: 0.8045, Train Accuracy: 0.7170, Val Accuracy: 0.7004\n",
            "Epoch 4/5, Loss: 0.7033, Train Accuracy: 0.7540, Val Accuracy: 0.7024\n",
            "Epoch 5/5, Loss: 0.6213, Train Accuracy: 0.7820, Val Accuracy: 0.6889\n"
          ]
        }
      ],
      "source": [
        "num_epochs = 5\n",
        "for epoch in range(num_epochs): # loop over the dataset multiple times\n",
        "    model.train()  # Set the model to training mode\n",
        "    running_loss = 0.0\n",
        "    correct_train = 0\n",
        "    total_train = 0\n",
        "\n",
        "    for images, labels in train_loader: # get the inputs; images.to(device), labels.to(device) is a list of [images, labels]\n",
        "        images, labels = images.to(device), labels.to(device)  # Move data to GPU\n",
        "\n",
        "        # zero the parameter gradients\n",
        "        optimizer.zero_grad()\n",
        "\n",
        "        # forward + backward + optimize\n",
        "        outputs = model(images)\n",
        "        loss = criterion(outputs, labels)\n",
        "        loss.backward()\n",
        "        optimizer.step()\n",
        "\n",
        "        running_loss += loss.item()\n",
        "        _, predicted = torch.max(outputs.data, 1)\n",
        "        total_train += labels.size(0)\n",
        "        correct_train += (predicted == labels).sum().item()\n",
        "\n",
        "    epoch_loss = running_loss / len(train_loader)\n",
        "    train_accuracy = correct_train / total_train\n",
        "\n",
        "    # Validation loop\n",
        "    model.eval()  # Set the model to evaluation mode\n",
        "    correct_val = 0\n",
        "    total_val = 0\n",
        "\n",
        "    with torch.no_grad():\n",
        "        for images, labels in val_loader:\n",
        "            images, labels = images.to(device), labels.to(device)\n",
        "            outputs = model(images)\n",
        "            _, predicted = torch.max(outputs.data, 1)\n",
        "            total_val += labels.size(0)\n",
        "            correct_val += (predicted == labels).sum().item()\n",
        "\n",
        "    val_accuracy = correct_val / total_val\n",
        "\n",
        "    # Print training and validation statistics\n",
        "    print(f'Epoch {epoch + 1}/{num_epochs}, Loss: {epoch_loss:.4f}, '\n",
        "          f'Train Accuracy: {train_accuracy:.4f}, Val Accuracy: {val_accuracy:.4f}')"
      ]
    },
    {
      "cell_type": "markdown",
      "metadata": {
        "id": "DGbwEfA738rn"
      },
      "source": [
        "##Saving our trained model"
      ]
    },
    {
      "cell_type": "code",
      "execution_count": 11,
      "metadata": {
        "id": "XCGDE9vgU_Zy"
      },
      "outputs": [],
      "source": [
        "torch.save(model.state_dict(), 'cifar10_model.pth')"
      ]
    },
    {
      "cell_type": "markdown",
      "metadata": {
        "id": "PBqWapLa8szd"
      },
      "source": [
        "##Test the network on the test data\n",
        "We have trained the network for 5 epoch over the training dataset. But we need to check if the network has learnt anything at all.\n",
        "\n",
        "We will check this by predicting the class label that the neural network outputs, and checking it against the ground-truth. If the prediction is correct, we add the sample to the list of correct predictions.\n",
        "\n",
        "Okay, first step. Let us display an image from the test set to get familiar."
      ]
    },
    {
      "cell_type": "code",
      "execution_count": 12,
      "metadata": {
        "colab": {
          "base_uri": "https://localhost:8080/",
          "height": 306
        },
        "id": "7q1cVakG8-jp",
        "outputId": "13f79c7f-0189-486c-b2ab-7f94acec4e84"
      },
      "outputs": [
        {
          "output_type": "display_data",
          "data": {
            "text/plain": [
              "<Figure size 300x300 with 4 Axes>"
            ],
            "image/png": "[encoded data removed]"
          },
          "metadata": {}
        }
      ],
      "source": [
        "dataiter = iter(test_loader)\n",
        "images, labels = next(dataiter)\n",
        "\n",
        "# print images\n",
        "# Define the figure size\n",
        "plt.figure(figsize=(3, 3))  # 3 columns and 4 rows\n",
        "\n",
        "# Print images and labels for the first 4 images\n",
        "for i in range(min(4, len(labels))):\n",
        "    plt.subplot(2, 2, i+1)  # 2 rows, 2 columns, i+1 denotes the position of the subplot\n",
        "    imshow(torchvision.utils.make_grid(images[i]))\n",
        "    plt.title(f\"Label: {classes[labels[i]]}\")\n",
        "    plt.axis('off')  # Turn off axis\n",
        "\n",
        "plt.tight_layout()\n",
        "plt.show()\n"
      ]
    },
    {
      "cell_type": "markdown",
      "metadata": {
        "id": "Y3BS6nuCDQgU"
      },
      "source": [
        "##Load the pre trained model"
      ]
    },
    {
      "cell_type": "code",
      "execution_count": 13,
      "metadata": {
        "colab": {
          "base_uri": "https://localhost:8080/"
        },
        "id": "v3EEwQWnADqD",
        "outputId": "d53a315d-2055-4def-80b5-9d51ec06d11a"
      },
      "outputs": [
        {
          "output_type": "execute_result",
          "data": {
            "text/plain": [
              "<All keys matched successfully>"
            ]
          },
          "metadata": {},
          "execution_count": 13
        }
      ],
      "source": [
        "model.load_state_dict(torch.load('cifar10_model.pth'))"
      ]
    },
    {
      "cell_type": "code",
      "execution_count": 14,
      "metadata": {
        "id": "HKZKDSf7BgZp"
      },
      "outputs": [],
      "source": [
        "# Assuming 'images' is your input tensor\n",
        "images = images.to(device)  # 'device' is the GPU device, e.g., torch.device('cuda')\n",
        "\n",
        "# Now perform the convolution operation\n",
        "outputs = model(images)"
      ]
    },
    {
      "cell_type": "code",
      "execution_count": 15,
      "metadata": {
        "colab": {
          "base_uri": "https://localhost:8080/"
        },
        "id": "LSjXK2GIBo3L",
        "outputId": "7c4c310f-ee06-4a9d-81a3-f10086fa53ab"
      },
      "outputs": [
        {
          "output_type": "stream",
          "name": "stdout",
          "text": [
            "Predicted:  aquatic mammals insects large carnivores large carnivores\n"
          ]
        }
      ],
      "source": [
        "_, predicted = torch.max(outputs, 1)\n",
        "\n",
        "print('Predicted: ', ' '.join(f'{classes[predicted[j]]:5s}'\n",
        "                              for j in range(4)))"
      ]
    },
    {
      "cell_type": "code",
      "execution_count": 16,
      "metadata": {
        "id": "a-0Gv9hypm1w"
      },
      "outputs": [],
      "source": [
        "# Assuming 'images' is your input tensor and 'model' is your neural network model\n",
        "device = torch.device('cuda' if torch.cuda.is_available() else 'cpu')\n",
        "\n",
        "# Move the model to the same device as the input tensor\n",
        "model = model.to(device)\n",
        "\n",
        "# Move the input tensor to the same device as the model\n",
        "images = images.to(device)\n",
        "\n",
        "# Now perform the forward pass\n",
        "outputs = model(images)\n"
      ]
    },
    {
      "cell_type": "code",
      "execution_count": 17,
      "metadata": {
        "colab": {
          "base_uri": "https://localhost:8080/"
        },
        "id": "oFVzDwUJCfTt",
        "outputId": "88b10e8a-a0b6-4c02-8e68-613583a34402"
      },
      "outputs": [
        {
          "output_type": "stream",
          "name": "stdout",
          "text": [
            "Accuracy of the network on the 10000 test images: 68 %\n"
          ]
        }
      ],
      "source": [
        "correct = 0\n",
        "total = 0\n",
        "# since we're not training, we don't need to calculate the gradients for our outputs\n",
        "with torch.no_grad():\n",
        "    for data in test_loader:\n",
        "        images, labels = data\n",
        "        # calculate outputs by running images through the network\n",
        "        # Move the model to the same device as the input tensor\n",
        "        model = model.to(device)\n",
        "\n",
        "        # Move the input tensor to the same device as the model\n",
        "        images = images.to(device)\n",
        "\n",
        "        # Now perform the forward pass\n",
        "        outputs = model(images)\n",
        "\n",
        "        # the class with the highest energy is what we choose as prediction\n",
        "        _, predicted = torch.max(outputs.data, 1)\n",
        "        total += labels.size(0)\n",
        "\n",
        "        # Assuming 'labels' is your tensor containing the ground truth labels\n",
        "        labels = labels.to(device)\n",
        "\n",
        "        # Now you can perform the operation\n",
        "        correct += (predicted == labels).sum().item()\n",
        "\n",
        "print(f'Accuracy of the network on the 10000 test images: {100 * correct // total} %')"
      ]
    },
    {
      "cell_type": "code",
      "execution_count": 18,
      "metadata": {
        "colab": {
          "base_uri": "https://localhost:8080/"
        },
        "id": "Rp3DlmGmLTQM",
        "outputId": "c8221618-f76f-455c-b9e6-c53b9b72e7f7"
      },
      "outputs": [
        {
          "output_type": "stream",
          "name": "stdout",
          "text": [
            "Accuracy for class: aquatic mammals is 70.7 %\n",
            "Accuracy for class: fish  is 80.0 %\n",
            "Accuracy for class: flowers is 58.8 %\n",
            "Accuracy for class: food containers is 41.1 %\n",
            "Accuracy for class: fruit and vegetables is 64.9 %\n",
            "Accuracy for class: household electrical devices is 76.9 %\n",
            "Accuracy for class: household furniture is 81.9 %\n",
            "Accuracy for class: insects is 65.5 %\n",
            "Accuracy for class: large carnivores is 74.7 %\n",
            "Accuracy for class: large man-made outdoor things is 74.4 %\n",
            "No predictions made or no test samples for class: large natural outdoor scenes\n",
            "No predictions made or no test samples for class: large omnivores and herbivores\n",
            "No predictions made or no test samples for class: medium-sized mammals\n",
            "No predictions made or no test samples for class: non-insect invertebrates\n",
            "No predictions made or no test samples for class: people\n",
            "No predictions made or no test samples for class: reptiles\n",
            "No predictions made or no test samples for class: small mammals\n",
            "No predictions made or no test samples for class: trees\n",
            "No predictions made or no test samples for class: vehicles 1\n",
            "No predictions made or no test samples for class: vehicles 2\n"
          ]
        }
      ],
      "source": [
        "# prepare to count predictions for each class\n",
        "correct_pred = {classname: 0 for classname in classes}\n",
        "total_pred = {classname: 0 for classname in classes}\n",
        "\n",
        "# again no gradients needed\n",
        "with torch.no_grad():\n",
        "    for data in test_loader:\n",
        "        images, labels = data\n",
        "        # Move the model to the device\n",
        "        model = model.to(device)\n",
        "\n",
        "        # Move the input tensor to the same device as the model\n",
        "        images = images.to(device)\n",
        "\n",
        "        outputs = model(images)\n",
        "        _, predictions = torch.max(outputs, 1)\n",
        "        # collect the correct predictions for each class\n",
        "        for label, prediction in zip(labels, predictions):\n",
        "            if label == prediction:\n",
        "                correct_pred[classes[label]] += 1\n",
        "            total_pred[classes[label]] += 1\n",
        "\n",
        "\n",
        "# Print accuracy for each class\n",
        "for classname, correct_count in correct_pred.items():\n",
        "    if classname in total_pred and total_pred[classname] > 0:\n",
        "        accuracy = 100 * float(correct_count) / total_pred[classname]\n",
        "        print(f'Accuracy for class: {classname:5s} is {accuracy:.1f} %')\n",
        "    else:\n",
        "        print(f'No predictions made or no test samples for class: {classname}')"
      ]
    },
    {
      "cell_type": "markdown",
      "metadata": {
        "id": "YYZgPzOu9ZoO"
      },
      "source": [
        "##PGDRS attack"
      ]
    },
    {
      "cell_type": "code",
      "execution_count": 19,
      "metadata": {
        "colab": {
          "base_uri": "https://localhost:8080/",
          "height": 269
        },
        "id": "_GpZJX-E8ee2",
        "outputId": "8520a5ad-b5ed-4cc1-b4cd-9990252979b3"
      },
      "outputs": [
        {
          "output_type": "stream",
          "name": "stdout",
          "text": [
            "Original Label: 2\n"
          ]
        },
        {
          "output_type": "stream",
          "name": "stderr",
          "text": [
            "WARNING:matplotlib.image:Clipping input data to the valid range for imshow with RGB data ([0..1] for floats or [0..255] for integers).\n"
          ]
        },
        {
          "output_type": "stream",
          "name": "stdout",
          "text": [
            "The image has not been attacked by an adversarial perturbation.\n"
          ]
        },
        {
          "output_type": "display_data",
          "data": {
            "text/plain": [
              "<Figure size 300x500 with 2 Axes>"
            ],
            "image/png": "[encoded data removed]"
          },
          "metadata": {}
        },
        {
          "output_type": "stream",
          "name": "stdout",
          "text": [
            "Original Prediction: flowers\n",
            "Adversarial Prediction: flowers\n",
            "Success Rate: 0.0\n"
          ]
        }
      ],
      "source": [
        "# Define the PGDRS attack\n",
        "attack_PGDRS = torchattacks.PGDRS(model, eps=8/255, alpha=2/255, steps=10, noise_type=\"guassian\", noise_sd=0.5, noise_batch_size=5, batch_max=2048)\n",
        "# Choose a random data point from the test dataset\n",
        "index_PGDRS = np.random.randint(0, len(test_dataset))\n",
        "original_image_PGDRS, original_label_PGDRS = test_dataset[index_PGDRS]\n",
        "print(\"Original Label:\", original_label_PGDRS)\n",
        "\n",
        "# Ensure original_label is a PyTorch tensor\n",
        "original_label_tensor_PGDRS = torch.tensor(original_label_PGDRS)\n",
        "\n",
        "# Apply the PGDRS attack to the original image\n",
        "adv_images_PGDRS = attack_PGDRS(original_image_PGDRS.unsqueeze(0).cuda(), original_label_tensor_PGDRS.unsqueeze(0).cuda())\n",
        "\n",
        "# Predictions on original and adversarial images\n",
        "original_prediction_PGDRS = torch.argmax(model(original_image_PGDRS.unsqueeze(0).cuda()))\n",
        "adversarial_prediction_PGDRS = torch.argmax(model(adv_images_PGDRS))\n",
        "\n",
        "# Check if the predictions differ\n",
        "if original_prediction_PGDRS != adversarial_prediction_PGDRS:\n",
        "    print(\"The image has likely been attacked by an adversarial perturbation.\")\n",
        "else:\n",
        "    print(\"The image has not been attacked by an adversarial perturbation.\")\n",
        "\n",
        "# Visualize the original image and adversarial image along with their predictions\n",
        "fig, axs = plt.subplots(1, 2, figsize=(3, 5))\n",
        "\n",
        "# Original image\n",
        "axs[0].imshow(np.transpose(original_image_PGDRS.squeeze().detach().cpu().numpy(), (1, 2, 0)))\n",
        "axs[0].set_title(\"Org Image\")\n",
        "axs[0].axis('off')\n",
        "\n",
        "# Adversarial image\n",
        "axs[1].imshow(np.transpose(adv_images_PGDRS.squeeze().detach().cpu().numpy(), (1, 2, 0)))\n",
        "axs[1].set_title(\"Adv Image\")\n",
        "axs[1].axis('off')\n",
        "\n",
        "plt.show()\n",
        "\n",
        "# Print the original and adversarial predictions\n",
        "print(\"Original Prediction:\", classes[original_prediction_PGDRS.item()])\n",
        "print(\"Adversarial Prediction:\", classes[adversarial_prediction_PGDRS.item()])\n",
        "\n",
        "# Initialize variables to count successful attacks\n",
        "successful_attacks = 0\n",
        "total_samples = len(test_dataset)\n",
        "\n",
        "if original_prediction_PGDRS != adversarial_prediction_PGDRS:\n",
        "    successful_attacks += 1\n",
        "\n",
        "# Calculate the success rate\n",
        "success_rate = successful_attacks / total_samples\n",
        "\n",
        "# Print the success rate\n",
        "print(\"Success Rate:\", success_rate)"
      ]
    },
    {
      "cell_type": "markdown",
      "metadata": {
        "id": "rX9GS4D7cKVX"
      },
      "source": [
        "##SINIFGSM attack"
      ]
    },
    {
      "cell_type": "code",
      "execution_count": 20,
      "metadata": {
        "colab": {
          "base_uri": "https://localhost:8080/",
          "height": 269
        },
        "id": "CZlPiVd4sFoM",
        "outputId": "26c13e57-3923-49dc-cc7c-d386fb7a9e34"
      },
      "outputs": [
        {
          "output_type": "stream",
          "name": "stdout",
          "text": [
            "Original Label: 5\n"
          ]
        },
        {
          "output_type": "stream",
          "name": "stderr",
          "text": [
            "WARNING:matplotlib.image:Clipping input data to the valid range for imshow with RGB data ([0..1] for floats or [0..255] for integers).\n"
          ]
        },
        {
          "output_type": "stream",
          "name": "stdout",
          "text": [
            "The image has likely been attacked by an adversarial perturbation.\n"
          ]
        },
        {
          "output_type": "display_data",
          "data": {
            "text/plain": [
              "<Figure size 300x500 with 2 Axes>"
            ],
            "image/png": "[encoded data removed]"
          },
          "metadata": {}
        },
        {
          "output_type": "stream",
          "name": "stdout",
          "text": [
            "Original Prediction: household electrical devices\n",
            "Adversarial Prediction: large carnivores\n",
            "Success Rate: 0.0001\n"
          ]
        }
      ],
      "source": [
        "# Define the SINIFGSM attack\n",
        "attack_SINIFGSM = torchattacks.SINIFGSM(model, eps=8/255, alpha=2/255, steps=10, decay=1.0, m=5)\n",
        "# Choose a random data point from the test dataset\n",
        "index_SINIFGSM = np.random.randint(0, len(test_dataset))\n",
        "original_image_SINIFGSM, original_label_SINIFGSM = test_dataset[index_SINIFGSM]\n",
        "print(\"Original Label:\", original_label_SINIFGSM)\n",
        "\n",
        "# Ensure original_label is a PyTorch tensor\n",
        "original_label_tensor_SINIFGSM = torch.tensor(original_label_SINIFGSM)\n",
        "\n",
        "# Apply the SINIFGSM attack to the original image\n",
        "adv_images_SINIFGSM = attack_SINIFGSM(original_image_SINIFGSM.unsqueeze(0).cuda(), original_label_tensor_SINIFGSM.unsqueeze(0).cuda())\n",
        "\n",
        "# Predictions on original and adversarial images\n",
        "original_prediction_SINIFGSM = torch.argmax(model(original_image_SINIFGSM.unsqueeze(0).cuda()))\n",
        "adversarial_prediction_SINIFGSM = torch.argmax(model(adv_images_SINIFGSM))\n",
        "\n",
        "# Check if the predictions differ\n",
        "if original_prediction_SINIFGSM != adversarial_prediction_SINIFGSM:\n",
        "    print(\"The image has likely been attacked by an adversarial perturbation.\")\n",
        "else:\n",
        "    print(\"The image has not been attacked by an adversarial perturbation.\")\n",
        "\n",
        "# Visualize the original image and adversarial image along with their predictions\n",
        "fig, axs = plt.subplots(1, 2, figsize=(3, 5))\n",
        "\n",
        "# Original image\n",
        "axs[0].imshow(np.transpose(original_image_SINIFGSM.squeeze().detach().cpu().numpy(), (1, 2, 0)))\n",
        "axs[0].set_title(\"Org Image\")\n",
        "axs[0].axis('off')\n",
        "\n",
        "# Adversarial image\n",
        "axs[1].imshow(np.transpose(adv_images_SINIFGSM.squeeze().detach().cpu().numpy(), (1, 2, 0)))\n",
        "axs[1].set_title(\"Adv Image\")\n",
        "axs[1].axis('off')\n",
        "\n",
        "plt.show()\n",
        "\n",
        "# Print the original and adversarial predictions\n",
        "print(\"Original Prediction:\", classes[original_prediction_SINIFGSM.item()])\n",
        "print(\"Adversarial Prediction:\", classes[adversarial_prediction_SINIFGSM.item()])\n",
        "\n",
        "# Initialize variables to count successful attacks\n",
        "successful_attacks = 0\n",
        "total_samples = len(test_dataset)\n",
        "\n",
        "if original_prediction_SINIFGSM != adversarial_prediction_SINIFGSM:\n",
        "    successful_attacks += 1\n",
        "\n",
        "# Calculate the success rate\n",
        "success_rate = successful_attacks / total_samples\n",
        "\n",
        "# Print the success rate\n",
        "print(\"Success Rate:\", success_rate)"
      ]
    },
    {
      "cell_type": "markdown",
      "metadata": {
        "id": "2idT2yYW_F4D"
      },
      "source": [
        "##VMIFGSM attack"
      ]
    },
    {
      "cell_type": "code",
      "execution_count": 21,
      "metadata": {
        "colab": {
          "base_uri": "https://localhost:8080/",
          "height": 269
        },
        "id": "9iq10QPe-rB2",
        "outputId": "ad16b5c4-e8fc-4ace-ab52-981bcfe1091b"
      },
      "outputs": [
        {
          "output_type": "stream",
          "name": "stdout",
          "text": [
            "Original Label: 4\n"
          ]
        },
        {
          "output_type": "stream",
          "name": "stderr",
          "text": [
            "WARNING:matplotlib.image:Clipping input data to the valid range for imshow with RGB data ([0..1] for floats or [0..255] for integers).\n"
          ]
        },
        {
          "output_type": "stream",
          "name": "stdout",
          "text": [
            "The image has likely been attacked by an adversarial perturbation.\n"
          ]
        },
        {
          "output_type": "display_data",
          "data": {
            "text/plain": [
              "<Figure size 300x500 with 2 Axes>"
            ],
            "image/png": "[encoded data removed]"
          },
          "metadata": {}
        },
        {
          "output_type": "stream",
          "name": "stdout",
          "text": [
            "Original Prediction: fruit and vegetables\n",
            "Adversarial Prediction: aquatic mammals\n",
            "Success Rate: 0.0001\n"
          ]
        }
      ],
      "source": [
        "# Define the VMIFGSM attack\n",
        "attack_VMIFGSM = torchattacks.VMIFGSM(model, eps=8/255, alpha=2/255, steps=10, decay=1.0, N=5, beta=3/2)\n",
        "# Choose a random data point from the test dataset\n",
        "index_VMIFGSM = np.random.randint(0, len(test_dataset))\n",
        "original_image_VMIFGSM, original_label_VMIFGSM = test_dataset[index_VMIFGSM]\n",
        "print(\"Original Label:\", original_label_VMIFGSM)\n",
        "\n",
        "# Ensure original_label is a PyTorch tensor\n",
        "original_label_tensor_VMIFGSM = torch.tensor(original_label_VMIFGSM)\n",
        "\n",
        "# Apply the VMIFGSM attack to the original image\n",
        "adv_images_VMIFGSM = attack_VMIFGSM(original_image_VMIFGSM.unsqueeze(0).cuda(), original_label_tensor_VMIFGSM.unsqueeze(0).cuda())\n",
        "\n",
        "# Predictions on original and adversarial images\n",
        "original_prediction_VMIFGSM = torch.argmax(model(original_image_VMIFGSM.unsqueeze(0).cuda()))\n",
        "adversarial_prediction_VMIFGSM = torch.argmax(model(adv_images_VMIFGSM))\n",
        "\n",
        "# Check if the predictions differ\n",
        "if original_prediction_VMIFGSM != adversarial_prediction_VMIFGSM:\n",
        "    print(\"The image has likely been attacked by an adversarial perturbation.\")\n",
        "else:\n",
        "    print(\"The image has not been attacked by an adversarial perturbation.\")\n",
        "\n",
        "# Visualize the original image and adversarial image along with their predictions\n",
        "fig, axs = plt.subplots(1, 2, figsize=(3, 5))\n",
        "\n",
        "# Original image\n",
        "axs[0].imshow(np.transpose(original_image_VMIFGSM.squeeze().detach().cpu().numpy(), (1, 2, 0)))\n",
        "axs[0].set_title(\"Org Image\")\n",
        "axs[0].axis('off')\n",
        "\n",
        "# Adversarial image\n",
        "axs[1].imshow(np.transpose(adv_images_VMIFGSM.squeeze().detach().cpu().numpy(), (1, 2, 0)))\n",
        "axs[1].set_title(\"Adv Image\")\n",
        "axs[1].axis('off')\n",
        "\n",
        "plt.show()\n",
        "\n",
        "# Print the original and adversarial predictions\n",
        "print(\"Original Prediction:\", classes[original_prediction_VMIFGSM.item()])\n",
        "print(\"Adversarial Prediction:\", classes[adversarial_prediction_VMIFGSM.item()])\n",
        "\n",
        "# Initialize variables to count successful attacks\n",
        "successful_attacks = 0\n",
        "total_samples = len(test_dataset)\n",
        "\n",
        "if original_prediction_VMIFGSM != adversarial_prediction_VMIFGSM:\n",
        "    successful_attacks += 1\n",
        "\n",
        "# Calculate the success rate\n",
        "success_rate = successful_attacks / total_samples\n",
        "\n",
        "# Print the success rate\n",
        "print(\"Success Rate:\", success_rate)"
      ]
    },
    {
      "cell_type": "markdown",
      "metadata": {
        "id": "LktMW4oj_5vK"
      },
      "source": [
        "##VNIFGSM attack"
      ]
    },
    {
      "cell_type": "code",
      "execution_count": 24,
      "metadata": {
        "colab": {
          "base_uri": "https://localhost:8080/",
          "height": 269
        },
        "id": "z6wYe3NovUXg",
        "outputId": "7854d120-7225-4d3b-f36f-760a7f9f70be"
      },
      "outputs": [
        {
          "output_type": "stream",
          "name": "stderr",
          "text": [
            "WARNING:matplotlib.image:Clipping input data to the valid range for imshow with RGB data ([0..1] for floats or [0..255] for integers).\n"
          ]
        },
        {
          "output_type": "stream",
          "name": "stdout",
          "text": [
            "Original Label: 8\n",
            "The image has likely been attacked by an adversarial perturbation.\n"
          ]
        },
        {
          "output_type": "display_data",
          "data": {
            "text/plain": [
              "<Figure size 300x500 with 2 Axes>"
            ],
            "image/png": "[encoded data removed]"
          },
          "metadata": {}
        },
        {
          "output_type": "stream",
          "name": "stdout",
          "text": [
            "Original Prediction: large carnivores\n",
            "Adversarial Prediction: flowers\n",
            "Success Rate: 0.0001\n"
          ]
        }
      ],
      "source": [
        "# Define the VNIFGSM attack\n",
        "attack_VNIFGSM = torchattacks.VNIFGSM(model, eps=8/255, alpha=2/255, steps=10, decay=1.0, N=5, beta=3/2)\n",
        "# Choose a random data point from the test dataset\n",
        "index_VNIFGSM = np.random.randint(0, len(test_dataset))\n",
        "original_image_VNIFGSM, original_label_VNIFGSM = test_dataset[index_VNIFGSM]\n",
        "print(\"Original Label:\", original_label_VNIFGSM)\n",
        "\n",
        "# Ensure original_label is a PyTorch tensor\n",
        "original_label_tensor_VNIFGSM = torch.tensor(original_label_VNIFGSM)\n",
        "\n",
        "# Apply the VNIFGSM attack to the original image\n",
        "adv_images_VNIFGSM = attack_VNIFGSM(original_image_VNIFGSM.unsqueeze(0).cuda(), original_label_tensor_VNIFGSM.unsqueeze(0).cuda())\n",
        "\n",
        "# Predictions on original and adversarial images\n",
        "original_prediction_VNIFGSM = torch.argmax(model(original_image_VNIFGSM.unsqueeze(0).cuda()))\n",
        "adversarial_prediction_VNIFGSM = torch.argmax(model(adv_images_VNIFGSM))\n",
        "\n",
        "# Check if the predictions differ\n",
        "if original_prediction_VNIFGSM != adversarial_prediction_VNIFGSM:\n",
        "    print(\"The image has likely been attacked by an adversarial perturbation.\")\n",
        "else:\n",
        "    print(\"The image has not been attacked by an adversarial perturbation.\")\n",
        "\n",
        "# Visualize the original image and adversarial image along with their predictions\n",
        "fig, axs = plt.subplots(1, 2, figsize=(3, 5))\n",
        "\n",
        "# Original image\n",
        "axs[0].imshow(np.transpose(original_image_VNIFGSM.squeeze().detach().cpu().numpy(), (1, 2, 0)))\n",
        "axs[0].set_title(\"Org Image\")\n",
        "axs[0].axis('off')\n",
        "\n",
        "# Adversarial image\n",
        "axs[1].imshow(np.transpose(adv_images_VNIFGSM.squeeze().detach().cpu().numpy(), (1, 2, 0)))\n",
        "axs[1].set_title(\"Adv Image\")\n",
        "axs[1].axis('off')\n",
        "\n",
        "plt.show()\n",
        "\n",
        "# Print the original and adversarial predictions\n",
        "print(\"Original Prediction:\", classes[original_prediction_VNIFGSM.item()])\n",
        "print(\"Adversarial Prediction:\", classes[adversarial_prediction_VNIFGSM.item()])\n",
        "\n",
        "# Initialize variables to count successful attacks\n",
        "successful_attacks = 0\n",
        "total_samples = len(test_dataset)\n",
        "\n",
        "if original_prediction_VNIFGSM != adversarial_prediction_VNIFGSM:\n",
        "    successful_attacks += 1\n",
        "\n",
        "# Calculate the success rate\n",
        "success_rate = successful_attacks / total_samples\n",
        "\n",
        "# Print the success rate\n",
        "print(\"Success Rate:\", success_rate)"
      ]
    },
    {
      "cell_type": "markdown",
      "metadata": {
        "id": "YXpINL0W8QTy"
      },
      "source": [
        "##Comparing all attacks"
      ]
    },
    {
      "cell_type": "code",
      "source": [
        "# Define the PGDRS attack\n",
        "attack_PGDRS = torchattacks.PGDRS(model, eps=8/255, alpha=2/255, steps=10, noise_type=\"guassian\", noise_sd=0.5, noise_batch_size=5, batch_max=2048)\n",
        "# Define the SINIFGSM attack\n",
        "attack_SINIFGSM = torchattacks.SINIFGSM(model, eps=8/255, alpha=2/255, steps=10, decay=1.0, m=5)\n",
        "# Define the VMIFGSM attack\n",
        "attack_VMIFGSM = torchattacks.VMIFGSM(model, eps=8/255, alpha=2/255, steps=10, decay=1.0, N=5, beta=3/2)\n",
        "# Define the VNIFGSM attack\n",
        "attack_VNIFGSM = torchattacks.VNIFGSM(model, eps=8/255, alpha=2/255, steps=10, decay=1.0, N=5, beta=3/2)\n",
        "\n",
        "# Move model to device\n",
        "device = torch.device(\"cuda\" if torch.cuda.is_available() else \"cpu\")\n",
        "model = model.to(device)\n",
        "\n",
        "# Initialize variables to count successful attacks\n",
        "successful_attacks_PGDRS = 0\n",
        "successful_attacks_SINIFGSM = 0\n",
        "successful_attacks_VMIFGSM = 0\n",
        "successful_attacks_VNIFGSM = 0\n",
        "\n",
        "total_samples = len(test_dataset)\n",
        "\n",
        "# Iterate over the test dataset\n",
        "for original_image, original_label in test_dataset:\n",
        "    # Ensure original_label is a PyTorch tensor\n",
        "    original_label_tensor = torch.tensor(original_label)\n",
        "    original_image = original_image.to(device)\n",
        "\n",
        "    # Apply the PGDRS attack to the original image\n",
        "    adv_images_PGDRS = attack_PGDRS(original_image.unsqueeze(0), original_label_tensor.unsqueeze(0))\n",
        "    # Apply the SINIFGSM attack to the original image\n",
        "    adv_images_SINIFGSM = attack_SINIFGSM(original_image.unsqueeze(0), original_label_tensor.unsqueeze(0))\n",
        "    # Apply the VMIFGSM attack to the original image\n",
        "    adv_images_VMIFGSM = attack_VMIFGSM(original_image.unsqueeze(0), original_label_tensor.unsqueeze(0))\n",
        "    # Apply the VNIFGSM attack to the original image\n",
        "    adv_images_VNIFGSM = attack_VNIFGSM(original_image.unsqueeze(0), original_label_tensor.unsqueeze(0))\n",
        "\n",
        "    # Predictions on original and adversarial images\n",
        "    original_prediction = torch.argmax(model(original_image.unsqueeze(0)))\n",
        "    adversarial_prediction_PGDRS = torch.argmax(model(adv_images_PGDRS))\n",
        "    adversarial_prediction_SINIFGSM = torch.argmax(model(adv_images_SINIFGSM))\n",
        "    adversarial_prediction_VMIFGSM = torch.argmax(model(adv_images_VMIFGSM))\n",
        "    adversarial_prediction_VNIFGSM = torch.argmax(model(adv_images_VNIFGSM))\n",
        "\n",
        "    # Check if the predictions differ for PGDRS attack\n",
        "    if original_prediction != adversarial_prediction_PGDRS:\n",
        "        successful_attacks_PGDRS += 1\n",
        "\n",
        "    # Check if the predictions differ for SINIFGSM attack\n",
        "    if original_prediction != adversarial_prediction_SINIFGSM:\n",
        "        successful_attacks_SINIFGSM += 1\n",
        "\n",
        "    # Check if the predictions differ for VMIFGSM attack\n",
        "    if original_prediction != adversarial_prediction_VMIFGSM:\n",
        "        successful_attacks_VMIFGSM += 1\n",
        "\n",
        "    # Check if the predictions differ for VNIFGSM attack\n",
        "    if original_prediction != adversarial_prediction_VNIFGSM:\n",
        "        successful_attacks_VNIFGSM += 1\n",
        "\n",
        "# Calculate the success rate for each attack\n",
        "success_rate_PGDRS = successful_attacks_PGDRS / total_samples\n",
        "success_rate_SINIFGSM = successful_attacks_SINIFGSM / total_samples\n",
        "success_rate_VMIFGSM = successful_attacks_VMIFGSM / total_samples\n",
        "success_rate_VNIFGSM = successful_attacks_VNIFGSM / total_samples\n",
        "\n",
        "# Print the success rates for each attack\n",
        "print(\"PGDRS Success Rate:\", success_rate_PGDRS)\n",
        "print(\"SINIFGSM Success Rate:\", success_rate_SINIFGSM)\n",
        "print(\"VMIFGSM Success Rate:\", success_rate_VMIFGSM)\n",
        "print(\"VNIFGSM Success Rate:\", success_rate_VNIFGSM)\n",
        "\n",
        "# Compare which attack has the highest success rate\n",
        "highest_success_rate = max(success_rate_PGDRS, success_rate_SINIFGSM, success_rate_VMIFGSM, success_rate_VNIFGSM)\n",
        "if highest_success_rate == success_rate_PGDRS:\n",
        "    print(\"PGDRS has the highest success rate.\")\n",
        "elif highest_success_rate == success_rate_SINIFGSM:\n",
        "    print(\"SINIFGSM has the highest success rate.\")\n",
        "elif highest_success_rate == success_rate_VMIFGSM:\n",
        "    print(\"VMIFGSM has the highest success rate.\")\n",
        "else:\n",
        "    print(\"VNIFGSM has the highest success rate.\")"
      ],
      "metadata": {
        "id": "T6Zon5Li62oc",
        "colab": {
          "base_uri": "https://localhost:8080/"
        },
        "outputId": "91230dc6-cb7d-4a3f-ebfd-583bd7e6579b"
      },
      "execution_count": 25,
      "outputs": [
        {
          "output_type": "stream",
          "name": "stdout",
          "text": [
            "PGDRS Success Rate: 0.6182\n",
            "SINIFGSM Success Rate: 0.8053\n",
            "VMIFGSM Success Rate: 0.8441\n",
            "VNIFGSM Success Rate: 0.8365\n",
            "VMIFGSM has the highest success rate.\n"
          ]
        }
      ]
    },
    {
      "cell_type": "code",
      "source": [],
      "metadata": {
        "id": "oLPaFnneQyuu"
      },
      "execution_count": null,
      "outputs": []
    }
  ],
  "metadata": {
    "accelerator": "GPU",
    "colab": {
      "gpuType": "T4",
      "provenance": []
    },
    "kernelspec": {
      "display_name": "Python 3",
      "name": "python3"
    },
    "language_info": {
      "name": "python"
    }
  },
  "nbformat": 4,
  "nbformat_minor": 0
}