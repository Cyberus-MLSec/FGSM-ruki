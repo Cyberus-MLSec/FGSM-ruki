{
  "nbformat": 4,
  "nbformat_minor": 0,
  "metadata": {
    "colab": {
      "provenance": [],
      "gpuType": "T4"
    },
    "kernelspec": {
      "name": "python3",
      "display_name": "Python 3"
    },
    "language_info": {
      "name": "python"
    },
    "accelerator": "GPU"
  },
  "cells": [
    {
      "cell_type": "code",
      "source": [
        "pip install torchattacks"
      ],
      "metadata": {
        "colab": {
          "base_uri": "https://localhost:8080/"
        },
        "id": "dvhyOaVxTe_p",
        "outputId": "e4eb7adc-e6de-4e43-92f5-5b70e75037fc"
      },
      "execution_count": 1,
      "outputs": [
        {
          "output_type": "stream",
          "name": "stdout",
          "text": [
            "Collecting torchattacks\n",
            "  Downloading torchattacks-3.5.1-py3-none-any.whl (142 kB)\n",
            "\u001b[2K     \u001b[90m━━━━━━━━━━━━━━━━━━━━━━━━━━━━━━━━━━━━━━━━\u001b[0m \u001b[32m142.0/142.0 kB\u001b[0m \u001b[31m1.3 MB/s\u001b[0m eta \u001b[36m0:00:00\u001b[0m\n",
            "\u001b[?25hRequirement already satisfied: torch>=1.7.1 in /usr/local/lib/python3.10/dist-packages (from torchattacks) (2.3.0+cu121)\n",
            "Requirement already satisfied: torchvision>=0.8.2 in /usr/local/lib/python3.10/dist-packages (from torchattacks) (0.18.0+cu121)\n",
            "Requirement already satisfied: scipy>=0.14.0 in /usr/local/lib/python3.10/dist-packages (from torchattacks) (1.11.4)\n",
            "Requirement already satisfied: tqdm>=4.56.1 in /usr/local/lib/python3.10/dist-packages (from torchattacks) (4.66.4)\n",
            "Collecting requests~=2.25.1 (from torchattacks)\n",
            "  Downloading requests-2.25.1-py2.py3-none-any.whl (61 kB)\n",
            "\u001b[2K     \u001b[90m━━━━━━━━━━━━━━━━━━━━━━━━━━━━━━━━━━━━━━━━\u001b[0m \u001b[32m61.2/61.2 kB\u001b[0m \u001b[31m4.1 MB/s\u001b[0m eta \u001b[36m0:00:00\u001b[0m\n",
            "\u001b[?25hRequirement already satisfied: numpy>=1.19.4 in /usr/local/lib/python3.10/dist-packages (from torchattacks) (1.25.2)\n",
            "Collecting chardet<5,>=3.0.2 (from requests~=2.25.1->torchattacks)\n",
            "  Downloading chardet-4.0.0-py2.py3-none-any.whl (178 kB)\n",
            "\u001b[2K     \u001b[90m━━━━━━━━━━━━━━━━━━━━━━━━━━━━━━━━━━━━━━━━\u001b[0m \u001b[32m178.7/178.7 kB\u001b[0m \u001b[31m3.8 MB/s\u001b[0m eta \u001b[36m0:00:00\u001b[0m\n",
            "\u001b[?25hCollecting idna<3,>=2.5 (from requests~=2.25.1->torchattacks)\n",
            "  Downloading idna-2.10-py2.py3-none-any.whl (58 kB)\n",
            "\u001b[2K     \u001b[90m━━━━━━━━━━━━━━━━━━━━━━━━━━━━━━━━━━━━━━━━\u001b[0m \u001b[32m58.8/58.8 kB\u001b[0m \u001b[31m7.4 MB/s\u001b[0m eta \u001b[36m0:00:00\u001b[0m\n",
            "\u001b[?25hCollecting urllib3<1.27,>=1.21.1 (from requests~=2.25.1->torchattacks)\n",
            "  Downloading urllib3-1.26.18-py2.py3-none-any.whl (143 kB)\n",
            "\u001b[2K     \u001b[90m━━━━━━━━━━━━━━━━━━━━━━━━━━━━━━━━━━━━━━━━\u001b[0m \u001b[32m143.8/143.8 kB\u001b[0m \u001b[31m10.2 MB/s\u001b[0m eta \u001b[36m0:00:00\u001b[0m\n",
            "\u001b[?25hRequirement already satisfied: certifi>=2017.4.17 in /usr/local/lib/python3.10/dist-packages (from requests~=2.25.1->torchattacks) (2024.2.2)\n",
            "Requirement already satisfied: filelock in /usr/local/lib/python3.10/dist-packages (from torch>=1.7.1->torchattacks) (3.14.0)\n",
            "Requirement already satisfied: typing-extensions>=4.8.0 in /usr/local/lib/python3.10/dist-packages (from torch>=1.7.1->torchattacks) (4.11.0)\n",
            "Requirement already satisfied: sympy in /usr/local/lib/python3.10/dist-packages (from torch>=1.7.1->torchattacks) (1.12)\n",
            "Requirement already satisfied: networkx in /usr/local/lib/python3.10/dist-packages (from torch>=1.7.1->torchattacks) (3.3)\n",
            "Requirement already satisfied: jinja2 in /usr/local/lib/python3.10/dist-packages (from torch>=1.7.1->torchattacks) (3.1.4)\n",
            "Requirement already satisfied: fsspec in /usr/local/lib/python3.10/dist-packages (from torch>=1.7.1->torchattacks) (2023.6.0)\n",
            "Collecting nvidia-cuda-nvrtc-cu12==12.1.105 (from torch>=1.7.1->torchattacks)\n",
            "  Using cached nvidia_cuda_nvrtc_cu12-12.1.105-py3-none-manylinux1_x86_64.whl (23.7 MB)\n",
            "Collecting nvidia-cuda-runtime-cu12==12.1.105 (from torch>=1.7.1->torchattacks)\n",
            "  Using cached nvidia_cuda_runtime_cu12-12.1.105-py3-none-manylinux1_x86_64.whl (823 kB)\n",
            "Collecting nvidia-cuda-cupti-cu12==12.1.105 (from torch>=1.7.1->torchattacks)\n",
            "  Using cached nvidia_cuda_cupti_cu12-12.1.105-py3-none-manylinux1_x86_64.whl (14.1 MB)\n",
            "Collecting nvidia-cudnn-cu12==8.9.2.26 (from torch>=1.7.1->torchattacks)\n",
            "  Using cached nvidia_cudnn_cu12-8.9.2.26-py3-none-manylinux1_x86_64.whl (731.7 MB)\n",
            "Collecting nvidia-cublas-cu12==12.1.3.1 (from torch>=1.7.1->torchattacks)\n",
            "  Using cached nvidia_cublas_cu12-12.1.3.1-py3-none-manylinux1_x86_64.whl (410.6 MB)\n",
            "Collecting nvidia-cufft-cu12==11.0.2.54 (from torch>=1.7.1->torchattacks)\n",
            "  Using cached nvidia_cufft_cu12-11.0.2.54-py3-none-manylinux1_x86_64.whl (121.6 MB)\n",
            "Collecting nvidia-curand-cu12==10.3.2.106 (from torch>=1.7.1->torchattacks)\n",
            "  Using cached nvidia_curand_cu12-10.3.2.106-py3-none-manylinux1_x86_64.whl (56.5 MB)\n",
            "Collecting nvidia-cusolver-cu12==11.4.5.107 (from torch>=1.7.1->torchattacks)\n",
            "  Using cached nvidia_cusolver_cu12-11.4.5.107-py3-none-manylinux1_x86_64.whl (124.2 MB)\n",
            "Collecting nvidia-cusparse-cu12==12.1.0.106 (from torch>=1.7.1->torchattacks)\n",
            "  Using cached nvidia_cusparse_cu12-12.1.0.106-py3-none-manylinux1_x86_64.whl (196.0 MB)\n",
            "Collecting nvidia-nccl-cu12==2.20.5 (from torch>=1.7.1->torchattacks)\n",
            "  Using cached nvidia_nccl_cu12-2.20.5-py3-none-manylinux2014_x86_64.whl (176.2 MB)\n",
            "Collecting nvidia-nvtx-cu12==12.1.105 (from torch>=1.7.1->torchattacks)\n",
            "  Using cached nvidia_nvtx_cu12-12.1.105-py3-none-manylinux1_x86_64.whl (99 kB)\n",
            "Requirement already satisfied: triton==2.3.0 in /usr/local/lib/python3.10/dist-packages (from torch>=1.7.1->torchattacks) (2.3.0)\n",
            "Collecting nvidia-nvjitlink-cu12 (from nvidia-cusolver-cu12==11.4.5.107->torch>=1.7.1->torchattacks)\n",
            "  Downloading nvidia_nvjitlink_cu12-12.5.40-py3-none-manylinux2014_x86_64.whl (21.3 MB)\n",
            "\u001b[2K     \u001b[90m━━━━━━━━━━━━━━━━━━━━━━━━━━━━━━━━━━━━━━━━\u001b[0m \u001b[32m21.3/21.3 MB\u001b[0m \u001b[31m50.3 MB/s\u001b[0m eta \u001b[36m0:00:00\u001b[0m\n",
            "\u001b[?25hRequirement already satisfied: pillow!=8.3.*,>=5.3.0 in /usr/local/lib/python3.10/dist-packages (from torchvision>=0.8.2->torchattacks) (9.4.0)\n",
            "Requirement already satisfied: MarkupSafe>=2.0 in /usr/local/lib/python3.10/dist-packages (from jinja2->torch>=1.7.1->torchattacks) (2.1.5)\n",
            "Requirement already satisfied: mpmath>=0.19 in /usr/local/lib/python3.10/dist-packages (from sympy->torch>=1.7.1->torchattacks) (1.3.0)\n",
            "Installing collected packages: urllib3, nvidia-nvtx-cu12, nvidia-nvjitlink-cu12, nvidia-nccl-cu12, nvidia-curand-cu12, nvidia-cufft-cu12, nvidia-cuda-runtime-cu12, nvidia-cuda-nvrtc-cu12, nvidia-cuda-cupti-cu12, nvidia-cublas-cu12, idna, chardet, requests, nvidia-cusparse-cu12, nvidia-cudnn-cu12, nvidia-cusolver-cu12, torchattacks\n",
            "  Attempting uninstall: urllib3\n",
            "    Found existing installation: urllib3 2.0.7\n",
            "    Uninstalling urllib3-2.0.7:\n",
            "      Successfully uninstalled urllib3-2.0.7\n",
            "  Attempting uninstall: idna\n",
            "    Found existing installation: idna 3.7\n",
            "    Uninstalling idna-3.7:\n",
            "      Successfully uninstalled idna-3.7\n",
            "  Attempting uninstall: chardet\n",
            "    Found existing installation: chardet 5.2.0\n",
            "    Uninstalling chardet-5.2.0:\n",
            "      Successfully uninstalled chardet-5.2.0\n",
            "  Attempting uninstall: requests\n",
            "    Found existing installation: requests 2.31.0\n",
            "    Uninstalling requests-2.31.0:\n",
            "      Successfully uninstalled requests-2.31.0\n",
            "\u001b[31mERROR: pip's dependency resolver does not currently take into account all the packages that are installed. This behaviour is the source of the following dependency conflicts.\n",
            "bigframes 1.6.0 requires requests>=2.27.1, but you have requests 2.25.1 which is incompatible.\n",
            "google-colab 1.0.0 requires requests==2.31.0, but you have requests 2.25.1 which is incompatible.\n",
            "tweepy 4.14.0 requires requests<3,>=2.27.0, but you have requests 2.25.1 which is incompatible.\n",
            "yfinance 0.2.40 requires requests>=2.31, but you have requests 2.25.1 which is incompatible.\u001b[0m\u001b[31m\n",
            "\u001b[0mSuccessfully installed chardet-4.0.0 idna-2.10 nvidia-cublas-cu12-12.1.3.1 nvidia-cuda-cupti-cu12-12.1.105 nvidia-cuda-nvrtc-cu12-12.1.105 nvidia-cuda-runtime-cu12-12.1.105 nvidia-cudnn-cu12-8.9.2.26 nvidia-cufft-cu12-11.0.2.54 nvidia-curand-cu12-10.3.2.106 nvidia-cusolver-cu12-11.4.5.107 nvidia-cusparse-cu12-12.1.0.106 nvidia-nccl-cu12-2.20.5 nvidia-nvjitlink-cu12-12.5.40 nvidia-nvtx-cu12-12.1.105 requests-2.25.1 torchattacks-3.5.1 urllib3-1.26.18\n"
          ]
        }
      ]
    },
    {
      "cell_type": "code",
      "source": [
        "import torch\n",
        "import torch.nn as nn\n",
        "import torch.optim as optim\n",
        "import torchvision\n",
        "import torchvision.transforms as transforms\n",
        "import numpy as np\n",
        "import matplotlib.pyplot as plt\n",
        "from torch.utils.data import DataLoader\n",
        "import torchattacks"
      ],
      "metadata": {
        "id": "PPhBH1zxTWne"
      },
      "execution_count": 2,
      "outputs": []
    },
    {
      "cell_type": "markdown",
      "source": [
        "##Load the CIFAR-10 dataset"
      ],
      "metadata": {
        "id": "3DLWDwRJC2cr"
      }
    },
    {
      "cell_type": "code",
      "source": [
        "transform = transforms.Compose([transforms.ToTensor(),\n",
        "                                transforms.Normalize((0.5, 0.5, 0.5),\n",
        "                                 (0.5, 0.5, 0.5))])\n",
        "\n",
        "batch_size=10;\n",
        "\n",
        "\n",
        "train_dataset = torchvision.datasets.CIFAR10(root='./data', train=True,\n",
        "                                             download=True, transform=transform)\n",
        "\n",
        "val_dataset = torchvision.datasets.CIFAR10(root='./data', train=False,\n",
        "                                           download=True, transform=transform)\n",
        "\n",
        "test_dataset = torchvision.datasets.CIFAR10(root='./data', train=False,\n",
        "                                            download=True, transform=transform)\n",
        "\n",
        "train_loader = DataLoader(train_dataset, batch_size=batch_size, shuffle=True)\n",
        "val_loader = DataLoader(val_dataset, batch_size=batch_size, shuffle=False)\n",
        "test_loader = torch.utils.data.DataLoader(test_dataset, batch_size=batch_size, shuffle=True)\n",
        "\n",
        "\n",
        "classes = ('plane', 'car', 'bird', 'cat',\n",
        "           'deer', 'dog', 'frog', 'horse', 'ship', 'truck')"
      ],
      "metadata": {
        "colab": {
          "base_uri": "https://localhost:8080/"
        },
        "id": "W532tkIkUnwS",
        "outputId": "006a8c36-1446-438e-a002-2be8102ae93f"
      },
      "execution_count": 3,
      "outputs": [
        {
          "output_type": "stream",
          "name": "stdout",
          "text": [
            "Downloading https://www.cs.toronto.edu/~kriz/cifar-10-python.tar.gz to ./data/cifar-10-python.tar.gz\n"
          ]
        },
        {
          "output_type": "stream",
          "name": "stderr",
          "text": [
            "100%|██████████| 170498071/170498071 [00:01<00:00, 104697111.33it/s]\n"
          ]
        },
        {
          "output_type": "stream",
          "name": "stdout",
          "text": [
            "Extracting ./data/cifar-10-python.tar.gz to ./data\n",
            "Files already downloaded and verified\n",
            "Files already downloaded and verified\n"
          ]
        }
      ]
    },
    {
      "cell_type": "code",
      "source": [
        "import matplotlib.pyplot as plt\n",
        "import numpy as np\n",
        "\n",
        "# Function to show an image\n",
        "def imshow(img):\n",
        "    img = img / 2 + 0.5     # Unnormalize\n",
        "    npimg = img.numpy()\n",
        "    plt.imshow(np.transpose(npimg, (1, 2, 0)))\n",
        "\n",
        "batch_size = 6\n",
        "\n",
        "# Get some random training images\n",
        "dataiter = iter(train_loader)\n",
        "images, labels = next(dataiter)\n",
        "\n",
        "# Define the figure size\n",
        "plt.figure(figsize=(3, 4))  # 6 columns and 4 rows\n",
        "\n",
        "# Show images and print labels for the first 6 images\n",
        "for i in range(batch_size):\n",
        "    plt.subplot(2, 3, i+1)  # 2 rows, 3 columns, i+1 denotes the position of the subplot\n",
        "    imshow(torchvision.utils.make_grid(images[i]))\n",
        "    plt.title(f\"{classes[labels[i]]}\")\n",
        "    plt.axis('off')  # Turn off axis\n",
        "\n",
        "plt.tight_layout()\n",
        "plt.show()"
      ],
      "metadata": {
        "colab": {
          "base_uri": "https://localhost:8080/",
          "height": 307
        },
        "id": "Pv2pASV56p75",
        "outputId": "59c9027e-7ad2-4e34-c8b7-5bc730648725"
      },
      "execution_count": 4,
      "outputs": [
        {
          "output_type": "display_data",
          "data": {
            "text/plain": [
              "<Figure size 300x400 with 6 Axes>"
            ],
            "image/png": "[encoded data removed]"
          },
          "metadata": {}
        }
      ]
    },
    {
      "cell_type": "markdown",
      "source": [
        "## Define the model architecture"
      ],
      "metadata": {
        "id": "kgd-SyiZDJ8m"
      }
    },
    {
      "cell_type": "code",
      "source": [
        "class SimpleCNN(nn.Module):\n",
        "    def __init__(self):\n",
        "        super(SimpleCNN, self).__init__()\n",
        "        self.conv1 = nn.Conv2d(3, 32, kernel_size=3, stride=1, padding=1)\n",
        "        self.pool = nn.MaxPool2d(kernel_size=2, stride=2)\n",
        "        self.conv2 = nn.Conv2d(32, 64, kernel_size=3, stride=1, padding=1)\n",
        "        self.fc1 = nn.Linear(64 * 8 * 8, 128)\n",
        "        self.fc2 = nn.Linear(128, 10)\n",
        "\n",
        "    def forward(self, x):\n",
        "        x = self.pool(torch.relu(self.conv1(x))) #This line applies the first convolutional layer (conv1) to the input x, then applies the ReLU activation function (torch.relu)\n",
        "        x = self.pool(torch.relu(self.conv2(x)))\n",
        "        x = x.view(-1, 64 * 8 * 8) #This line reshapes (flattens) the output tensor x from the previous layer to prepare it for the fully connected layers.\n",
        "        x = torch.relu(self.fc1(x)) #This applies the ReLU activation function to the output of the first fully connected layer (fc1).\n",
        "        x = self.fc2(x) #This applies the second fully connected layer (fc2) to produce the final output tensor x\n",
        "        return x\n",
        ""
      ],
      "metadata": {
        "id": "rxLpe2tCUi2c"
      },
      "execution_count": 5,
      "outputs": []
    },
    {
      "cell_type": "code",
      "source": [
        "import torch\n",
        "device = torch.device(\"cuda\" if torch.cuda.is_available() else \"cpu\")\n",
        "\n",
        "\n",
        "model = SimpleCNN().to(device)"
      ],
      "metadata": {
        "id": "EUQZ_OYlbcoU"
      },
      "execution_count": 6,
      "outputs": []
    },
    {
      "cell_type": "markdown",
      "source": [
        "## Define a Loss function and optimizer.\n",
        "Using a Classification Cross-Entropy loss and Adam with momentum."
      ],
      "metadata": {
        "id": "KPKDgWGwz7Sw"
      }
    },
    {
      "cell_type": "code",
      "source": [
        "criterion = nn.CrossEntropyLoss()\n",
        "optimizer = optim.Adam(model.parameters(), lr=0.001)"
      ],
      "metadata": {
        "id": "OclhBZOmz5Lx"
      },
      "execution_count": 7,
      "outputs": []
    },
    {
      "cell_type": "code",
      "source": [
        "num_epochs = 5\n",
        "for epoch in range(num_epochs): # loop over the dataset multiple times\n",
        "    model.train()  # Set the model to training mode\n",
        "    running_loss = 0.0\n",
        "    correct_train = 0\n",
        "    total_train = 0\n",
        "\n",
        "    for images, labels in train_loader: # get the inputs; images.to(device), labels.to(device) is a list of [images, labels]\n",
        "        images, labels = images.to(device), labels.to(device)  # Move data to GPU\n",
        "\n",
        "        # zero the parameter gradients\n",
        "        optimizer.zero_grad()\n",
        "\n",
        "        # forward + backward + optimize\n",
        "        outputs = model(images)\n",
        "        loss = criterion(outputs, labels)\n",
        "        loss.backward()\n",
        "        optimizer.step()\n",
        "\n",
        "        running_loss += loss.item()\n",
        "        _, predicted = torch.max(outputs.data, 1)\n",
        "        total_train += labels.size(0)\n",
        "        correct_train += (predicted == labels).sum().item()\n",
        "\n",
        "    epoch_loss = running_loss / len(train_loader)\n",
        "    train_accuracy = correct_train / total_train\n",
        "\n",
        "    # Validation loop\n",
        "    model.eval()  # Set the model to evaluation mode\n",
        "    correct_val = 0\n",
        "    total_val = 0\n",
        "\n",
        "    with torch.no_grad():\n",
        "        for images, labels in val_loader:\n",
        "            images, labels = images.to(device), labels.to(device)\n",
        "            outputs = model(images)\n",
        "            _, predicted = torch.max(outputs.data, 1)\n",
        "            total_val += labels.size(0)\n",
        "            correct_val += (predicted == labels).sum().item()\n",
        "\n",
        "    val_accuracy = correct_val / total_val\n",
        "\n",
        "    # Print training and validation statistics\n",
        "    print(f'Epoch {epoch + 1}/{num_epochs}, Loss: {epoch_loss:.4f}, '\n",
        "          f'Train Accuracy: {train_accuracy:.4f}, Val Accuracy: {val_accuracy:.4f}')"
      ],
      "metadata": {
        "colab": {
          "base_uri": "https://localhost:8080/"
        },
        "id": "iQwkM6fqU8VP",
        "outputId": "5c450d96-e9a6-422d-8a97-fe0fea5f061f"
      },
      "execution_count": 8,
      "outputs": [
        {
          "output_type": "stream",
          "name": "stdout",
          "text": [
            "Epoch 1/5, Loss: 1.2735, Train Accuracy: 0.5426, Val Accuracy: 0.6345\n",
            "Epoch 2/5, Loss: 0.9169, Train Accuracy: 0.6785, Val Accuracy: 0.6832\n",
            "Epoch 3/5, Loss: 0.7657, Train Accuracy: 0.7298, Val Accuracy: 0.6953\n",
            "Epoch 4/5, Loss: 0.6569, Train Accuracy: 0.7701, Val Accuracy: 0.7086\n",
            "Epoch 5/5, Loss: 0.5646, Train Accuracy: 0.8005, Val Accuracy: 0.7015\n"
          ]
        }
      ]
    },
    {
      "cell_type": "markdown",
      "source": [
        "##Saving our trained model"
      ],
      "metadata": {
        "id": "DGbwEfA738rn"
      }
    },
    {
      "cell_type": "code",
      "source": [
        "torch.save(model.state_dict(), 'cifar10_model.pth')"
      ],
      "metadata": {
        "id": "XCGDE9vgU_Zy"
      },
      "execution_count": 9,
      "outputs": []
    },
    {
      "cell_type": "markdown",
      "source": [
        "##Test the network on the test data\n",
        "We have trained the network for 5 epoch over the training dataset. But we need to check if the network has learnt anything at all.\n",
        "\n",
        "We will check this by predicting the class label that the neural network outputs, and checking it against the ground-truth. If the prediction is correct, we add the sample to the list of correct predictions.\n",
        "\n",
        "Okay, first step. Let us display an image from the test set to get familiar."
      ],
      "metadata": {
        "id": "PBqWapLa8szd"
      }
    },
    {
      "cell_type": "code",
      "source": [
        "dataiter = iter(test_loader)\n",
        "images, labels = next(dataiter)\n",
        "\n",
        "# print images\n",
        "# Define the figure size\n",
        "plt.figure(figsize=(3, 3))  # 3 columns and 4 rows\n",
        "\n",
        "# Print images and labels for the first 4 images\n",
        "for i in range(min(4, len(labels))):\n",
        "    plt.subplot(2, 2, i+1)  # 2 rows, 2 columns, i+1 denotes the position of the subplot\n",
        "    imshow(torchvision.utils.make_grid(images[i]))\n",
        "    plt.title(f\"Label: {classes[labels[i]]}\")\n",
        "    plt.axis('off')  # Turn off axis\n",
        "\n",
        "plt.tight_layout()\n",
        "plt.show()\n"
      ],
      "metadata": {
        "colab": {
          "base_uri": "https://localhost:8080/",
          "height": 306
        },
        "id": "7q1cVakG8-jp",
        "outputId": "ee99a3cf-2f14-428a-9289-55e752558555"
      },
      "execution_count": 10,
      "outputs": [
        {
          "output_type": "display_data",
          "data": {
            "text/plain": [
              "<Figure size 300x300 with 4 Axes>"
            ],
            "image/png": "[encoded data removed]"
          },
          "metadata": {}
        }
      ]
    },
    {
      "cell_type": "markdown",
      "source": [
        "##Load the pre trained model"
      ],
      "metadata": {
        "id": "Y3BS6nuCDQgU"
      }
    },
    {
      "cell_type": "code",
      "source": [
        "model.load_state_dict(torch.load('cifar10_model.pth'))"
      ],
      "metadata": {
        "colab": {
          "base_uri": "https://localhost:8080/"
        },
        "id": "v3EEwQWnADqD",
        "outputId": "376ec19a-701e-4d54-997c-2961d0cb723b"
      },
      "execution_count": 11,
      "outputs": [
        {
          "output_type": "execute_result",
          "data": {
            "text/plain": [
              "<All keys matched successfully>"
            ]
          },
          "metadata": {},
          "execution_count": 11
        }
      ]
    },
    {
      "cell_type": "code",
      "source": [
        "# Assuming 'images' is your input tensor and 'model' is your neural network model\n",
        "device = torch.device('cuda' if torch.cuda.is_available() else 'cpu')\n",
        "\n",
        "# Move the model to the same device as the input tensor\n",
        "model = model.to(device)\n",
        "\n",
        "# Move the input tensor to the same device as the model\n",
        "images = images.to(device)\n",
        "\n",
        "# Now perform the forward pass\n",
        "outputs = model(images)"
      ],
      "metadata": {
        "id": "HaUmmsAwQNo5"
      },
      "execution_count": 12,
      "outputs": []
    },
    {
      "cell_type": "code",
      "source": [
        "_, predicted = torch.max(outputs, 1)\n",
        "\n",
        "print('Predicted: ', ' '.join(f'{classes[predicted[j]]:5s}'\n",
        "                              for j in range(4)))"
      ],
      "metadata": {
        "colab": {
          "base_uri": "https://localhost:8080/"
        },
        "id": "LSjXK2GIBo3L",
        "outputId": "2bc2860f-78ff-446d-cc44-b15f11732da4"
      },
      "execution_count": 13,
      "outputs": [
        {
          "output_type": "stream",
          "name": "stdout",
          "text": [
            "Predicted:  plane dog   dog   dog  \n"
          ]
        }
      ]
    },
    {
      "cell_type": "code",
      "source": [
        "correct = 0\n",
        "total = 0\n",
        "# since we're not training, we don't need to calculate the gradients for our outputs\n",
        "with torch.no_grad():\n",
        "    for data in test_loader:\n",
        "        images, labels = data\n",
        "        # calculate outputs by running images through the network\n",
        "        # Move the model to the same device as the input tensor\n",
        "        model = model.to(device)\n",
        "\n",
        "        # Move the input tensor to the same device as the model\n",
        "        images = images.to(device)\n",
        "\n",
        "        # Now perform the forward pass\n",
        "        outputs = model(images)\n",
        "\n",
        "        # the class with the highest energy is what we choose as prediction\n",
        "        _, predicted = torch.max(outputs.data, 1)\n",
        "        total += labels.size(0)\n",
        "\n",
        "        # Assuming 'labels' is your tensor containing the ground truth labels\n",
        "        labels = labels.to(device)\n",
        "\n",
        "        # Now you can perform the operation\n",
        "        correct += (predicted == labels).sum().item()\n",
        "\n",
        "print(f'Accuracy of the network on the 10000 test images: {100 * correct // total} %')"
      ],
      "metadata": {
        "colab": {
          "base_uri": "https://localhost:8080/"
        },
        "id": "HUZwHJ8fQesX",
        "outputId": "5bdfa9c4-7360-4452-90a0-b736bf8bcf71"
      },
      "execution_count": 14,
      "outputs": [
        {
          "output_type": "stream",
          "name": "stdout",
          "text": [
            "Accuracy of the network on the 10000 test images: 70 %\n"
          ]
        }
      ]
    },
    {
      "cell_type": "code",
      "source": [
        "# prepare to count predictions for each class\n",
        "correct_pred = {classname: 0 for classname in classes}\n",
        "total_pred = {classname: 0 for classname in classes}\n",
        "\n",
        "# again no gradients needed\n",
        "with torch.no_grad():\n",
        "    for data in test_loader:\n",
        "        images, labels = data\n",
        "        # Move the model to the device\n",
        "        model = model.to(device)\n",
        "\n",
        "        # Move the input tensor to the same device as the model\n",
        "        images = images.to(device)\n",
        "\n",
        "        outputs = model(images)\n",
        "        _, predictions = torch.max(outputs, 1)\n",
        "        # collect the correct predictions for each class\n",
        "        for label, prediction in zip(labels, predictions):\n",
        "            if label == prediction:\n",
        "                correct_pred[classes[label]] += 1\n",
        "            total_pred[classes[label]] += 1\n",
        "\n",
        "\n",
        "# Print accuracy for each class\n",
        "for classname, correct_count in correct_pred.items():\n",
        "    if classname in total_pred and total_pred[classname] > 0:\n",
        "        accuracy = 100 * float(correct_count) / total_pred[classname]\n",
        "        print(f'Accuracy for class: {classname:5s} is {accuracy:.1f} %')\n",
        "    else:\n",
        "        print(f'No predictions made or no test samples for class: {classname}')"
      ],
      "metadata": {
        "colab": {
          "base_uri": "https://localhost:8080/"
        },
        "id": "TZ-MKtetQv7f",
        "outputId": "ccb698d0-17d2-48d0-d344-d76d41eab5f5"
      },
      "execution_count": 15,
      "outputs": [
        {
          "output_type": "stream",
          "name": "stdout",
          "text": [
            "Accuracy for class: plane is 72.2 %\n",
            "Accuracy for class: car   is 80.9 %\n",
            "Accuracy for class: bird  is 55.0 %\n",
            "Accuracy for class: cat   is 49.7 %\n",
            "Accuracy for class: deer  is 64.0 %\n",
            "Accuracy for class: dog   is 63.4 %\n",
            "Accuracy for class: frog  is 77.6 %\n",
            "Accuracy for class: horse is 81.6 %\n",
            "Accuracy for class: ship  is 76.3 %\n",
            "Accuracy for class: truck is 80.8 %\n"
          ]
        }
      ]
    },
    {
      "cell_type": "markdown",
      "source": [
        "# UPGD attack"
      ],
      "metadata": {
        "id": "rX9GS4D7cKVX"
      }
    },
    {
      "cell_type": "code",
      "source": [
        "# Define the UPGD attack\n",
        "attack_UPGD = torchattacks.UPGD(model, eps=8/255, alpha=2/255, steps=10, random_start=False)\n",
        "\n",
        "# Choose a random data point from the test dataset\n",
        "index_UPGD = np.random.randint(0, len(test_dataset))\n",
        "original_image_UPGD, original_label_UPGD = test_dataset[index_UPGD]\n",
        "print(\"Original Label:\", original_label_UPGD)\n",
        "\n",
        "# Ensure original_label is a PyTorch tensor\n",
        "original_label_tensor_UPGD = torch.tensor(original_label_UPGD)\n",
        "\n",
        "# Move data to CUDA if available\n",
        "original_image_UPGD = original_image_UPGD.to(device)\n",
        "original_label_tensor_UPGD = original_label_tensor_UPGD.to(device)\n",
        "\n",
        "# Apply the UPGD attack to the original image\n",
        "adv_images_UPGD = attack_UPGD(original_image_UPGD.unsqueeze(0), original_label_tensor_UPGD.unsqueeze(0))\n",
        "\n",
        "# Predictions on original and adversarial images\n",
        "original_prediction_UPGD = torch.argmax(model(original_image_UPGD.unsqueeze(0)))\n",
        "adversarial_prediction_UPGD = torch.argmax(model(adv_images_UPGD))\n",
        "\n",
        "# Check if the predictions differ\n",
        "if original_prediction_UPGD != adversarial_prediction_UPGD:\n",
        "    print(\"The image has likely been attacked by an adversarial perturbation.\")\n",
        "else:\n",
        "    print(\"The image has not been attacked by an adversarial perturbation.\")\n",
        "\n",
        "# Visualize the original image and adversarial image along with their predictions\n",
        "fig, axs = plt.subplots(1, 2, figsize=(3, 5))\n",
        "\n",
        "# Original image\n",
        "axs[0].imshow(np.transpose(original_image_UPGD.squeeze().detach().cpu().numpy(), (1, 2, 0)))\n",
        "axs[0].set_title(\"Org Image\")\n",
        "axs[0].axis('off')\n",
        "\n",
        "# Adversarial image\n",
        "axs[1].imshow(np.transpose(adv_images_UPGD.squeeze().detach().cpu().numpy(), (1, 2, 0)))\n",
        "axs[1].set_title(\"Adv Image\")\n",
        "axs[1].axis('off')\n",
        "\n",
        "plt.show()\n",
        "\n",
        "# Print the original and adversarial predictions\n",
        "print(\"Original Prediction:\", classes[original_prediction_UPGD.item()])\n",
        "print(\"Adversarial Prediction:\", classes[adversarial_prediction_UPGD.item()])\n",
        "\n",
        "# Check if the predictions differ\n",
        "\n",
        "# Initialize variables to count successful attacks\n",
        "successful_attacks_UPGD = 0\n",
        "total_samples = len(test_dataset)\n",
        "\n",
        "if original_prediction_UPGD != adversarial_prediction_UPGD:\n",
        "    successful_attacks_UPGD += 1\n",
        "\n",
        "# Calculate the success rate\n",
        "success_rate_UPGD = successful_attacks_UPGD / total_samples\n",
        "\n",
        "# Print the success rate\n",
        "print(\"Success Rate:\", success_rate_UPGD)"
      ],
      "metadata": {
        "colab": {
          "base_uri": "https://localhost:8080/",
          "height": 269
        },
        "id": "0Bvx3xP1VoPQ",
        "outputId": "7c07c649-fe61-4aca-ac09-af832e0aaaf6"
      },
      "execution_count": 16,
      "outputs": [
        {
          "output_type": "stream",
          "name": "stdout",
          "text": [
            "Original Label: 6\n",
            "The image has likely been attacked by an adversarial perturbation.\n"
          ]
        },
        {
          "output_type": "stream",
          "name": "stderr",
          "text": [
            "WARNING:matplotlib.image:Clipping input data to the valid range for imshow with RGB data ([0..1] for floats or [0..255] for integers).\n"
          ]
        },
        {
          "output_type": "display_data",
          "data": {
            "text/plain": [
              "<Figure size 300x500 with 2 Axes>"
            ],
            "image/png": "[encoded data removed]"
          },
          "metadata": {}
        },
        {
          "output_type": "stream",
          "name": "stdout",
          "text": [
            "Original Prediction: frog\n",
            "Adversarial Prediction: ship\n",
            "Success Rate: 0.0001\n"
          ]
        }
      ]
    },
    {
      "cell_type": "markdown",
      "source": [
        "##APGD attack"
      ],
      "metadata": {
        "id": "2idT2yYW_F4D"
      }
    },
    {
      "cell_type": "code",
      "source": [
        "# Define the APGD attack\n",
        "attack_APGD = torchattacks.APGD(model, norm='Linf', eps=8/255, steps=10, n_restarts=1, seed=0, loss='ce', eot_iter=1, rho=.75, verbose=False)\n",
        "\n",
        "# Choose a random data point from the test dataset\n",
        "index_APGD = np.random.randint(0, len(test_dataset))\n",
        "original_image_APGD, original_label_APGD = test_dataset[index_APGD]\n",
        "print(\"Original Label:\", original_label_APGD)\n",
        "\n",
        "# Ensure original_label is a PyTorch tensor\n",
        "original_label_tensor_APGD = torch.tensor(original_label_APGD)\n",
        "\n",
        "# Move data to CUDA if available\n",
        "original_image_APGD = original_image_APGD.to(device)\n",
        "original_label_tensor_APGD = original_label_tensor_APGD.to(device)\n",
        "\n",
        "# Apply the APGD attack to the original image\n",
        "adv_images_APGD = attack_APGD(original_image_APGD.unsqueeze(0), original_label_tensor_APGD.unsqueeze(0))\n",
        "\n",
        "# Predictions on original and adversarial images\n",
        "original_prediction_APGD = torch.argmax(model(original_image_APGD.unsqueeze(0)))\n",
        "adversarial_prediction_APGD = torch.argmax(model(adv_images_APGD))\n",
        "\n",
        "# Check if the predictions differ\n",
        "if original_prediction_APGD != adversarial_prediction_APGD:\n",
        "    print(\"The image has likely been attacked by an adversarial perturbation.\")\n",
        "else:\n",
        "    print(\"The image has not been attacked by an adversarial perturbation.\")\n",
        "\n",
        "# Visualize the original image and adversarial image along with their predictions\n",
        "fig, axs = plt.subplots(1, 2, figsize=(3, 5))\n",
        "\n",
        "# Original image\n",
        "axs[0].imshow(np.transpose(original_image_APGD.squeeze().detach().cpu().numpy(), (1, 2, 0)))\n",
        "axs[0].set_title(\"Org Image\")\n",
        "axs[0].axis('off')\n",
        "\n",
        "# Adversarial image\n",
        "axs[1].imshow(np.transpose(adv_images_APGD.squeeze().detach().cpu().numpy(), (1, 2, 0)))\n",
        "axs[1].set_title(\"Adv Image\")\n",
        "axs[1].axis('off')\n",
        "\n",
        "plt.show()\n",
        "\n",
        "# Print the original and adversarial predictions\n",
        "print(\"Original Prediction:\", classes[original_prediction_APGD.item()])\n",
        "print(\"Adversarial Prediction:\", classes[adversarial_prediction_APGD.item()])\n",
        "\n",
        "# Check if the predictions differ\n",
        "\n",
        "# Initialize variables to count successful attacks\n",
        "successful_attacks_APGD = 0\n",
        "total_samples = len(test_dataset)\n",
        "\n",
        "if original_prediction_APGD != adversarial_prediction_APGD:\n",
        "    successful_attacks_APGD += 1\n",
        "\n",
        "# Calculate the success rate\n",
        "success_rate_APGD = successful_attacks_APGD / total_samples\n",
        "\n",
        "# Print the success rate\n",
        "print(\"Success Rate:\", success_rate_APGD)"
      ],
      "metadata": {
        "colab": {
          "base_uri": "https://localhost:8080/",
          "height": 286
        },
        "id": "9iq10QPe-rB2",
        "outputId": "8f4b4439-61a1-46a1-f381-0f9d0aeac5ba"
      },
      "execution_count": 17,
      "outputs": [
        {
          "output_type": "stream",
          "name": "stdout",
          "text": [
            "Original Label: 2\n",
            "The image has not been attacked by an adversarial perturbation.\n"
          ]
        },
        {
          "output_type": "stream",
          "name": "stderr",
          "text": [
            "WARNING:matplotlib.image:Clipping input data to the valid range for imshow with RGB data ([0..1] for floats or [0..255] for integers).\n",
            "WARNING:matplotlib.image:Clipping input data to the valid range for imshow with RGB data ([0..1] for floats or [0..255] for integers).\n"
          ]
        },
        {
          "output_type": "display_data",
          "data": {
            "text/plain": [
              "<Figure size 300x500 with 2 Axes>"
            ],
            "image/png": "[encoded data removed]"
          },
          "metadata": {}
        },
        {
          "output_type": "stream",
          "name": "stdout",
          "text": [
            "Original Prediction: cat\n",
            "Adversarial Prediction: cat\n",
            "Success Rate: 0.0\n"
          ]
        }
      ]
    },
    {
      "cell_type": "markdown",
      "source": [
        "##APGDT attack"
      ],
      "metadata": {
        "id": "LktMW4oj_5vK"
      }
    },
    {
      "cell_type": "code",
      "source": [
        "# Define the APGD attack\n",
        "attack_APGDT = torchattacks.APGDT(model, norm='Linf', eps=8/255, steps=10, n_restarts=1, seed=0, eot_iter=1, rho=.75, verbose=False, n_classes=10)\n",
        "\n",
        "# Choose a random data point from the test dataset\n",
        "index_APGDT = np.random.randint(0, len(test_dataset))\n",
        "original_image_APGDT, original_label_APGDT = test_dataset[index_APGDT]\n",
        "print(\"Original Label:\", original_label_APGDT)\n",
        "\n",
        "# Ensure original_label is a PyTorch tensor\n",
        "original_label_tensor_APGDT = torch.tensor(original_label_APGDT)\n",
        "\n",
        "# Move data to CUDA if available\n",
        "original_image_APGDT = original_image_APGDT.to(device)\n",
        "original_label_tensor_APGDT = original_label_tensor_APGDT.to(device)\n",
        "\n",
        "# Apply the APGDT attack to the original image\n",
        "adv_images_APGDT = attack_APGDT(original_image_APGDT.unsqueeze(0), original_label_tensor_APGDT.unsqueeze(0))\n",
        "\n",
        "# Predictions on original and adversarial images\n",
        "original_prediction_APGDT = torch.argmax(model(original_image_APGDT.unsqueeze(0)))\n",
        "adversarial_prediction_APGDT = torch.argmax(model(adv_images_APGDT))\n",
        "\n",
        "# Check if the predictions differ\n",
        "if original_prediction_APGDT != adversarial_prediction_APGDT:\n",
        "    print(\"The image has likely been attacked by an adversarial perturbation.\")\n",
        "else:\n",
        "    print(\"The image has not been attacked by an adversarial perturbation.\")\n",
        "\n",
        "# Visualize the original image and adversarial image along with their predictions\n",
        "fig, axs = plt.subplots(1, 2, figsize=(3, 5))\n",
        "\n",
        "# Original image\n",
        "axs[0].imshow(np.transpose(original_image_APGDT.squeeze().detach().cpu().numpy(), (1, 2, 0)))\n",
        "axs[0].set_title(\"Org Image\")\n",
        "axs[0].axis('off')\n",
        "\n",
        "# Adversarial image\n",
        "axs[1].imshow(np.transpose(adv_images_APGDT.squeeze().detach().cpu().numpy(), (1, 2, 0)))\n",
        "axs[1].set_title(\"Adv Image\")\n",
        "axs[1].axis('off')\n",
        "\n",
        "plt.show()\n",
        "\n",
        "# Print the original and adversarial predictions\n",
        "print(\"Original Prediction:\", classes[original_prediction_APGDT.item()])\n",
        "print(\"Adversarial Prediction:\", classes[adversarial_prediction_APGDT.item()])\n",
        "\n",
        "# Check if the predictions differ\n",
        "\n",
        "# Initialize variables to count successful attacks\n",
        "successful_attacks_APGDT = 0\n",
        "total_samples = len(test_dataset)\n",
        "\n",
        "if original_prediction_APGDT != adversarial_prediction_APGDT:\n",
        "    successful_attacks_APGDT += 1\n",
        "\n",
        "# Calculate the success rate\n",
        "success_rate_APGDT = successful_attacks_APGDT / total_samples\n",
        "\n",
        "# Print the success rate\n",
        "print(\"Success Rate:\", success_rate_APGDT)"
      ],
      "metadata": {
        "colab": {
          "base_uri": "https://localhost:8080/",
          "height": 269
        },
        "id": "iO-u9-oK_3W-",
        "outputId": "158e289c-fd44-40fe-da7a-8a2ba3bf4ddc"
      },
      "execution_count": 18,
      "outputs": [
        {
          "output_type": "stream",
          "name": "stdout",
          "text": [
            "Original Label: 5\n"
          ]
        },
        {
          "output_type": "stream",
          "name": "stderr",
          "text": [
            "WARNING:matplotlib.image:Clipping input data to the valid range for imshow with RGB data ([0..1] for floats or [0..255] for integers).\n"
          ]
        },
        {
          "output_type": "stream",
          "name": "stdout",
          "text": [
            "The image has likely been attacked by an adversarial perturbation.\n"
          ]
        },
        {
          "output_type": "display_data",
          "data": {
            "text/plain": [
              "<Figure size 300x500 with 2 Axes>"
            ],
            "image/png": "[encoded data removed]"
          },
          "metadata": {}
        },
        {
          "output_type": "stream",
          "name": "stdout",
          "text": [
            "Original Prediction: dog\n",
            "Adversarial Prediction: bird\n",
            "Success Rate: 0.0001\n"
          ]
        }
      ]
    },
    {
      "cell_type": "markdown",
      "source": [
        "##DIFGSM attack"
      ],
      "metadata": {
        "id": "1Nq8CP5nB2uo"
      }
    },
    {
      "cell_type": "code",
      "source": [
        "# Define the DIFGSM attack\n",
        "attack_DIFGSM = torchattacks.DIFGSM(model, eps=8/255, alpha=2/255, steps=10, decay=0.0, resize_rate=0.9, diversity_prob=0.5, random_start=False)\n",
        "\n",
        "# Choose a random data point from the test dataset\n",
        "index_DIFGSM = np.random.randint(0, len(test_dataset))\n",
        "original_image_DIFGSM, original_label_DIFGSM = test_dataset[index_DIFGSM]\n",
        "print(\"Original Label:\", original_label_DIFGSM)\n",
        "\n",
        "# Ensure original_label is a PyTorch tensor\n",
        "original_label_tensor_DIFGSM = torch.tensor(original_label_DIFGSM)\n",
        "\n",
        "# Move data to CUDA if available\n",
        "original_image_DIFGSM = original_image_DIFGSM.to(device)\n",
        "original_label_tensor_DIFGSM = original_label_tensor_DIFGSM.to(device)\n",
        "\n",
        "# Apply the DIFGSM attack to the original image\n",
        "adv_images_DIFGSM = attack_DIFGSM(original_image_DIFGSM.unsqueeze(0), original_label_tensor_DIFGSM.unsqueeze(0))\n",
        "\n",
        "# Predictions on original and adversarial images\n",
        "original_prediction_DIFGSM = torch.argmax(model(original_image_DIFGSM.unsqueeze(0)))\n",
        "adversarial_prediction_DIFGSM = torch.argmax(model(adv_images_DIFGSM))\n",
        "\n",
        "# Check if the predictions differ\n",
        "if original_prediction_DIFGSM != adversarial_prediction_DIFGSM:\n",
        "    print(\"The image has likely been attacked by an adversarial perturbation.\")\n",
        "else:\n",
        "    print(\"The image has not been attacked by an adversarial perturbation.\")\n",
        "\n",
        "# Visualize the original image and adversarial image along with their predictions\n",
        "fig, axs = plt.subplots(1, 2, figsize=(3, 5))\n",
        "\n",
        "# Original image\n",
        "axs[0].imshow(np.transpose(original_image_DIFGSM.squeeze().detach().cpu().numpy(), (1, 2, 0)))\n",
        "axs[0].set_title(\"Org Image\")\n",
        "axs[0].axis('off')\n",
        "\n",
        "# Adversarial image\n",
        "axs[1].imshow(np.transpose(adv_images_DIFGSM.squeeze().detach().cpu().numpy(), (1, 2, 0)))\n",
        "axs[1].set_title(\"Adv Image\")\n",
        "axs[1].axis('off')\n",
        "\n",
        "plt.show()\n",
        "\n",
        "# Print the original and adversarial predictions\n",
        "print(\"Original Prediction:\", classes[original_prediction_DIFGSM.item()])\n",
        "print(\"Adversarial Prediction:\", classes[adversarial_prediction_DIFGSM.item()])\n",
        "\n",
        "# Check if the predictions differ\n",
        "\n",
        "# Initialize variables to count successful attacks\n",
        "successful_attacks_DIFGSM = 0\n",
        "total_samples = len(test_dataset)\n",
        "\n",
        "if original_prediction_DIFGSM != adversarial_prediction_DIFGSM:\n",
        "    successful_attacks_DIFGSM += 1\n",
        "\n",
        "# Calculate the success rate\n",
        "success_rate_DIFGSM = successful_attacks_DIFGSM / total_samples\n",
        "\n",
        "# Print the success rate\n",
        "print(\"Success Rate:\", success_rate_DIFGSM)\n"
      ],
      "metadata": {
        "colab": {
          "base_uri": "https://localhost:8080/",
          "height": 269
        },
        "id": "L1ugrAFXBtAH",
        "outputId": "d608e7c2-27b7-499a-cbfb-3591ee5981f1"
      },
      "execution_count": 19,
      "outputs": [
        {
          "output_type": "stream",
          "name": "stderr",
          "text": [
            "WARNING:matplotlib.image:Clipping input data to the valid range for imshow with RGB data ([0..1] for floats or [0..255] for integers).\n"
          ]
        },
        {
          "output_type": "stream",
          "name": "stdout",
          "text": [
            "Original Label: 1\n",
            "The image has likely been attacked by an adversarial perturbation.\n"
          ]
        },
        {
          "output_type": "display_data",
          "data": {
            "text/plain": [
              "<Figure size 300x500 with 2 Axes>"
            ],
            "image/png": "[encoded data removed]"
          },
          "metadata": {}
        },
        {
          "output_type": "stream",
          "name": "stdout",
          "text": [
            "Original Prediction: car\n",
            "Adversarial Prediction: plane\n",
            "Success Rate: 0.0001\n"
          ]
        }
      ]
    },
    {
      "cell_type": "markdown",
      "source": [
        "##Comparing all attacks"
      ],
      "metadata": {
        "id": "YXpINL0W8QTy"
      }
    },
    {
      "cell_type": "code",
      "source": [
        "# Define the UPGD attack\n",
        "attack_UPGD = torchattacks.UPGD(model, eps=8/255, alpha=2/255, steps=10, random_start=False)\n",
        "\n",
        "# Define the APGD attack\n",
        "attack_APGD = torchattacks.APGD(model, norm='Linf', eps=8/255, steps=10, n_restarts=1, seed=0, loss='ce', eot_iter=1, rho=.75, verbose=False)\n",
        "\n",
        "# Define the APGDT attack\n",
        "attack_APGDT = torchattacks.APGDT(model, norm='Linf', eps=8/255, steps=10, n_restarts=1, seed=0, eot_iter=1, rho=.75, verbose=False, n_classes=10)\n",
        "\n",
        "# Define the DIFGSM attack\n",
        "attack_DIFGSM = torchattacks.DIFGSM(model, eps=8/255, alpha=2/255, steps=10, decay=0.0, resize_rate=0.9, diversity_prob=0.5, random_start=False)\n",
        "\n",
        "# Initialize variables to count successful attacks\n",
        "successful_attacks_UPGD = 0\n",
        "successful_attacks_APGD = 0\n",
        "successful_attacks_APGDT = 0\n",
        "successful_attacks_DIFGSM = 0\n",
        "\n",
        "total_samples = len(test_dataset)\n",
        "\n",
        "# Iterate over the test dataset\n",
        "for original_image, original_label in test_dataset:\n",
        "    # Ensure original_label is a PyTorch tensor\n",
        "    original_label_tensor = torch.tensor(original_label)\n",
        "    original_image = original_image.to(device)\n",
        "\n",
        "    # Apply the UPGD attack to the original image\n",
        "    adv_images_UPGD = attack_UPGD(original_image.unsqueeze(0), original_label_tensor.unsqueeze(0))\n",
        "    # Apply the APGD attack to the original image\n",
        "    adv_images_APGD = attack_APGD(original_image.unsqueeze(0), original_label_tensor.unsqueeze(0))\n",
        "    # Apply the APGDT attack to the original image\n",
        "    adv_images_APGDT = attack_APGDT(original_image.unsqueeze(0), original_label_tensor.unsqueeze(0))\n",
        "    # Apply the DIFGSM attack to the original image\n",
        "    adv_images_DIFGSM = attack_DIFGSM(original_image.unsqueeze(0), original_label_tensor.unsqueeze(0))\n",
        "\n",
        "    # Predictions on original and adversarial images\n",
        "    original_prediction = torch.argmax(model(original_image.unsqueeze(0)))\n",
        "    adversarial_prediction_UPGD = torch.argmax(model(adv_images_UPGD))\n",
        "    adversarial_prediction_APGD = torch.argmax(model(adv_images_APGD))\n",
        "    adversarial_prediction_APGDT = torch.argmax(model(adv_images_APGDT))\n",
        "    adversarial_prediction_DIFGSM = torch.argmax(model(adv_images_DIFGSM))\n",
        "\n",
        "    # Check if the predictions differ for UPGD attack\n",
        "    if original_prediction != adversarial_prediction_UPGD:\n",
        "        successful_attacks_UPGD += 1\n",
        "\n",
        "    # Check if the predictions differ for APGD attack\n",
        "    if original_prediction != adversarial_prediction_APGD:\n",
        "        successful_attacks_APGD += 1\n",
        "\n",
        "    # Check if the predictions differ for APGDT attack\n",
        "    if original_prediction != adversarial_prediction_APGDT:\n",
        "        successful_attacks_APGDT += 1\n",
        "\n",
        "    # Check if the predictions differ for DIFGSM attack\n",
        "    if original_prediction != adversarial_prediction_DIFGSM:\n",
        "        successful_attacks_DIFGSM += 1\n",
        "\n",
        "# Calculate the success rate for each attack\n",
        "success_rate_UPGD = successful_attacks_UPGD / total_samples\n",
        "success_rate_APGD = successful_attacks_APGD / total_samples\n",
        "success_rate_APGDT = successful_attacks_APGDT / total_samples\n",
        "success_rate_DIFGSM = successful_attacks_DIFGSM / total_samples\n",
        "\n",
        "# Print the success rates for each attack\n",
        "print(\"UPGD Success Rate:\", success_rate_UPGD)\n",
        "print(\"APGD Success Rate:\", success_rate_APGD)\n",
        "print(\"APGDT Success Rate:\", success_rate_APGDT)\n",
        "print(\"DIFGSM Success Rate:\", success_rate_DIFGSM)\n",
        "\n",
        "# Compare which attack has the highest success rate\n",
        "highest_success_rate = max(success_rate_UPGD, success_rate_APGD, success_rate_APGDT, success_rate_DIFGSM)\n",
        "if highest_success_rate == success_rate_UPGD:\n",
        "    print(\"UPGD has the highest success rate.\")\n",
        "elif highest_success_rate == success_rate_APGD:\n",
        "    print(\"APGD has the highest success rate.\")\n",
        "elif highest_success_rate == success_rate_APGDT:\n",
        "    print(\"APGDT has the highest success rate.\")\n",
        "else:\n",
        "    print(\"DIFGSM has the highest success rate.\")"
      ],
      "metadata": {
        "id": "KU2a5Tg8ZxaS",
        "colab": {
          "base_uri": "https://localhost:8080/"
        },
        "outputId": "10a00a23-f3fa-4fb1-c5aa-3ad759bc475b"
      },
      "execution_count": 20,
      "outputs": [
        {
          "output_type": "stream",
          "name": "stdout",
          "text": [
            "UPGD Success Rate: 0.8523\n",
            "APGD Success Rate: 0.6667\n",
            "APGDT Success Rate: 0.6702\n",
            "DIFGSM Success Rate: 0.8503\n",
            "UPGD has the highest success rate.\n"
          ]
        }
      ]
    },
    {
      "cell_type": "code",
      "source": [],
      "metadata": {
        "id": "xVb_vUoGY8c6"
      },
      "execution_count": 20,
      "outputs": []
    }
  ]
}