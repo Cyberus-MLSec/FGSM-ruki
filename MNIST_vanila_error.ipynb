{
  "nbformat": 4,
  "nbformat_minor": 0,
  "metadata": {
    "colab": {
      "provenance": [],
      "gpuType": "T4"
    },
    "kernelspec": {
      "name": "python3",
      "display_name": "Python 3"
    },
    "language_info": {
      "name": "python"
    },
    "accelerator": "GPU"
  },
  "cells": [
    {
      "cell_type": "code",
      "execution_count": null,
      "metadata": {
        "id": "JBgZtSdlh0Vs",
        "colab": {
          "base_uri": "https://localhost:8080/"
        },
        "outputId": "ca1e83d3-f2ad-47ae-b65a-d68446cf613f"
      },
      "outputs": [
        {
          "output_type": "stream",
          "name": "stdout",
          "text": [
            "Collecting torchattacks\n",
            "  Downloading torchattacks-3.5.1-py3-none-any.whl (142 kB)\n",
            "\u001b[?25l     \u001b[90m━━━━━━━━━━━━━━━━━━━━━━━━━━━━━━━━━━━━━━━━\u001b[0m \u001b[32m0.0/142.0 kB\u001b[0m \u001b[31m?\u001b[0m eta \u001b[36m-:--:--\u001b[0m\r\u001b[2K     \u001b[90m━━━━━━━━━━━━━━━━━━━━━━━━━━━━━━━━━━━━━━━━\u001b[0m \u001b[32m142.0/142.0 kB\u001b[0m \u001b[31m4.3 MB/s\u001b[0m eta \u001b[36m0:00:00\u001b[0m\n",
            "\u001b[?25hRequirement already satisfied: torch>=1.7.1 in /usr/local/lib/python3.10/dist-packages (from torchattacks) (2.3.0+cu121)\n",
            "Requirement already satisfied: torchvision>=0.8.2 in /usr/local/lib/python3.10/dist-packages (from torchattacks) (0.18.0+cu121)\n",
            "Requirement already satisfied: scipy>=0.14.0 in /usr/local/lib/python3.10/dist-packages (from torchattacks) (1.11.4)\n",
            "Requirement already satisfied: tqdm>=4.56.1 in /usr/local/lib/python3.10/dist-packages (from torchattacks) (4.66.4)\n",
            "Collecting requests~=2.25.1 (from torchattacks)\n",
            "  Downloading requests-2.25.1-py2.py3-none-any.whl (61 kB)\n",
            "\u001b[2K     \u001b[90m━━━━━━━━━━━━━━━━━━━━━━━━━━━━━━━━━━━━━━━━\u001b[0m \u001b[32m61.2/61.2 kB\u001b[0m \u001b[31m8.5 MB/s\u001b[0m eta \u001b[36m0:00:00\u001b[0m\n",
            "\u001b[?25hRequirement already satisfied: numpy>=1.19.4 in /usr/local/lib/python3.10/dist-packages (from torchattacks) (1.25.2)\n",
            "Collecting chardet<5,>=3.0.2 (from requests~=2.25.1->torchattacks)\n",
            "  Downloading chardet-4.0.0-py2.py3-none-any.whl (178 kB)\n",
            "\u001b[2K     \u001b[90m━━━━━━━━━━━━━━━━━━━━━━━━━━━━━━━━━━━━━━━━\u001b[0m \u001b[32m178.7/178.7 kB\u001b[0m \u001b[31m7.2 MB/s\u001b[0m eta \u001b[36m0:00:00\u001b[0m\n",
            "\u001b[?25hCollecting idna<3,>=2.5 (from requests~=2.25.1->torchattacks)\n",
            "  Downloading idna-2.10-py2.py3-none-any.whl (58 kB)\n",
            "\u001b[2K     \u001b[90m━━━━━━━━━━━━━━━━━━━━━━━━━━━━━━━━━━━━━━━━\u001b[0m \u001b[32m58.8/58.8 kB\u001b[0m \u001b[31m7.5 MB/s\u001b[0m eta \u001b[36m0:00:00\u001b[0m\n",
            "\u001b[?25hCollecting urllib3<1.27,>=1.21.1 (from requests~=2.25.1->torchattacks)\n",
            "  Downloading urllib3-1.26.19-py2.py3-none-any.whl (143 kB)\n",
            "\u001b[2K     \u001b[90m━━━━━━━━━━━━━━━━━━━━━━━━━━━━━━━━━━━━━━━━\u001b[0m \u001b[32m143.9/143.9 kB\u001b[0m \u001b[31m6.8 MB/s\u001b[0m eta \u001b[36m0:00:00\u001b[0m\n",
            "\u001b[?25hRequirement already satisfied: certifi>=2017.4.17 in /usr/local/lib/python3.10/dist-packages (from requests~=2.25.1->torchattacks) (2024.6.2)\n",
            "Requirement already satisfied: filelock in /usr/local/lib/python3.10/dist-packages (from torch>=1.7.1->torchattacks) (3.14.0)\n",
            "Requirement already satisfied: typing-extensions>=4.8.0 in /usr/local/lib/python3.10/dist-packages (from torch>=1.7.1->torchattacks) (4.12.2)\n",
            "Requirement already satisfied: sympy in /usr/local/lib/python3.10/dist-packages (from torch>=1.7.1->torchattacks) (1.12.1)\n",
            "Requirement already satisfied: networkx in /usr/local/lib/python3.10/dist-packages (from torch>=1.7.1->torchattacks) (3.3)\n",
            "Requirement already satisfied: jinja2 in /usr/local/lib/python3.10/dist-packages (from torch>=1.7.1->torchattacks) (3.1.4)\n",
            "Requirement already satisfied: fsspec in /usr/local/lib/python3.10/dist-packages (from torch>=1.7.1->torchattacks) (2023.6.0)\n",
            "Collecting nvidia-cuda-nvrtc-cu12==12.1.105 (from torch>=1.7.1->torchattacks)\n",
            "  Using cached nvidia_cuda_nvrtc_cu12-12.1.105-py3-none-manylinux1_x86_64.whl (23.7 MB)\n",
            "Collecting nvidia-cuda-runtime-cu12==12.1.105 (from torch>=1.7.1->torchattacks)\n",
            "  Using cached nvidia_cuda_runtime_cu12-12.1.105-py3-none-manylinux1_x86_64.whl (823 kB)\n",
            "Collecting nvidia-cuda-cupti-cu12==12.1.105 (from torch>=1.7.1->torchattacks)\n",
            "  Using cached nvidia_cuda_cupti_cu12-12.1.105-py3-none-manylinux1_x86_64.whl (14.1 MB)\n",
            "Collecting nvidia-cudnn-cu12==8.9.2.26 (from torch>=1.7.1->torchattacks)\n",
            "  Using cached nvidia_cudnn_cu12-8.9.2.26-py3-none-manylinux1_x86_64.whl (731.7 MB)\n",
            "Collecting nvidia-cublas-cu12==12.1.3.1 (from torch>=1.7.1->torchattacks)\n",
            "  Using cached nvidia_cublas_cu12-12.1.3.1-py3-none-manylinux1_x86_64.whl (410.6 MB)\n",
            "Collecting nvidia-cufft-cu12==11.0.2.54 (from torch>=1.7.1->torchattacks)\n",
            "  Using cached nvidia_cufft_cu12-11.0.2.54-py3-none-manylinux1_x86_64.whl (121.6 MB)\n",
            "Collecting nvidia-curand-cu12==10.3.2.106 (from torch>=1.7.1->torchattacks)\n",
            "  Using cached nvidia_curand_cu12-10.3.2.106-py3-none-manylinux1_x86_64.whl (56.5 MB)\n",
            "Collecting nvidia-cusolver-cu12==11.4.5.107 (from torch>=1.7.1->torchattacks)\n",
            "  Using cached nvidia_cusolver_cu12-11.4.5.107-py3-none-manylinux1_x86_64.whl (124.2 MB)\n",
            "Collecting nvidia-cusparse-cu12==12.1.0.106 (from torch>=1.7.1->torchattacks)\n",
            "  Using cached nvidia_cusparse_cu12-12.1.0.106-py3-none-manylinux1_x86_64.whl (196.0 MB)\n",
            "Collecting nvidia-nccl-cu12==2.20.5 (from torch>=1.7.1->torchattacks)\n",
            "  Using cached nvidia_nccl_cu12-2.20.5-py3-none-manylinux2014_x86_64.whl (176.2 MB)\n",
            "Collecting nvidia-nvtx-cu12==12.1.105 (from torch>=1.7.1->torchattacks)\n",
            "  Using cached nvidia_nvtx_cu12-12.1.105-py3-none-manylinux1_x86_64.whl (99 kB)\n",
            "Requirement already satisfied: triton==2.3.0 in /usr/local/lib/python3.10/dist-packages (from torch>=1.7.1->torchattacks) (2.3.0)\n",
            "Collecting nvidia-nvjitlink-cu12 (from nvidia-cusolver-cu12==11.4.5.107->torch>=1.7.1->torchattacks)\n",
            "  Downloading nvidia_nvjitlink_cu12-12.5.40-py3-none-manylinux2014_x86_64.whl (21.3 MB)\n",
            "\u001b[2K     \u001b[90m━━━━━━━━━━━━━━━━━━━━━━━━━━━━━━━━━━━━━━━━\u001b[0m \u001b[32m21.3/21.3 MB\u001b[0m \u001b[31m53.2 MB/s\u001b[0m eta \u001b[36m0:00:00\u001b[0m\n",
            "\u001b[?25hRequirement already satisfied: pillow!=8.3.*,>=5.3.0 in /usr/local/lib/python3.10/dist-packages (from torchvision>=0.8.2->torchattacks) (9.4.0)\n",
            "Requirement already satisfied: MarkupSafe>=2.0 in /usr/local/lib/python3.10/dist-packages (from jinja2->torch>=1.7.1->torchattacks) (2.1.5)\n",
            "Requirement already satisfied: mpmath<1.4.0,>=1.1.0 in /usr/local/lib/python3.10/dist-packages (from sympy->torch>=1.7.1->torchattacks) (1.3.0)\n",
            "Installing collected packages: urllib3, nvidia-nvtx-cu12, nvidia-nvjitlink-cu12, nvidia-nccl-cu12, nvidia-curand-cu12, nvidia-cufft-cu12, nvidia-cuda-runtime-cu12, nvidia-cuda-nvrtc-cu12, nvidia-cuda-cupti-cu12, nvidia-cublas-cu12, idna, chardet, requests, nvidia-cusparse-cu12, nvidia-cudnn-cu12, nvidia-cusolver-cu12, torchattacks\n",
            "  Attempting uninstall: urllib3\n",
            "    Found existing installation: urllib3 2.0.7\n",
            "    Uninstalling urllib3-2.0.7:\n",
            "      Successfully uninstalled urllib3-2.0.7\n",
            "  Attempting uninstall: idna\n",
            "    Found existing installation: idna 3.7\n",
            "    Uninstalling idna-3.7:\n",
            "      Successfully uninstalled idna-3.7\n",
            "  Attempting uninstall: chardet\n",
            "    Found existing installation: chardet 5.2.0\n",
            "    Uninstalling chardet-5.2.0:\n",
            "      Successfully uninstalled chardet-5.2.0\n",
            "  Attempting uninstall: requests\n",
            "    Found existing installation: requests 2.31.0\n",
            "    Uninstalling requests-2.31.0:\n",
            "      Successfully uninstalled requests-2.31.0\n",
            "\u001b[31mERROR: pip's dependency resolver does not currently take into account all the packages that are installed. This behaviour is the source of the following dependency conflicts.\n",
            "bigframes 1.8.0 requires requests>=2.27.1, but you have requests 2.25.1 which is incompatible.\n",
            "google-colab 1.0.0 requires requests==2.31.0, but you have requests 2.25.1 which is incompatible.\n",
            "tweepy 4.14.0 requires requests<3,>=2.27.0, but you have requests 2.25.1 which is incompatible.\n",
            "yfinance 0.2.40 requires requests>=2.31, but you have requests 2.25.1 which is incompatible.\u001b[0m\u001b[31m\n",
            "\u001b[0mSuccessfully installed chardet-4.0.0 idna-2.10 nvidia-cublas-cu12-12.1.3.1 nvidia-cuda-cupti-cu12-12.1.105 nvidia-cuda-nvrtc-cu12-12.1.105 nvidia-cuda-runtime-cu12-12.1.105 nvidia-cudnn-cu12-8.9.2.26 nvidia-cufft-cu12-11.0.2.54 nvidia-curand-cu12-10.3.2.106 nvidia-cusolver-cu12-11.4.5.107 nvidia-cusparse-cu12-12.1.0.106 nvidia-nccl-cu12-2.20.5 nvidia-nvjitlink-cu12-12.5.40 nvidia-nvtx-cu12-12.1.105 requests-2.25.1 torchattacks-3.5.1 urllib3-1.26.19\n"
          ]
        }
      ],
      "source": [
        "pip install torchattacks"
      ]
    },
    {
      "cell_type": "code",
      "source": [
        "import torchattacks\n",
        "import torch\n",
        "import torch.nn as nn\n",
        "import torch.nn.functional as F\n",
        "import torch.optim as optim\n",
        "from torchvision import datasets, transforms\n",
        "import numpy as np\n",
        "import matplotlib.pyplot as plt"
      ],
      "metadata": {
        "id": "zhOZdGKkKjSi"
      },
      "execution_count": null,
      "outputs": []
    },
    {
      "cell_type": "code",
      "source": [
        "# MNIST Test dataset and dataloader declaration\n",
        "batch_size = 1;\n",
        "\n",
        "train_loader = torch.utils.data.DataLoader(\n",
        "    datasets.MNIST('../data', train=True, download=True, transform=transforms.Compose([\n",
        "            transforms.ToTensor(),\n",
        "            transforms.Normalize((0.1307,), (0.3081,)),\n",
        "            ])),\n",
        "        batch_size= batch_size, shuffle=True)\n",
        "\n",
        "test_loader = torch.utils.data.DataLoader(\n",
        "    datasets.MNIST('../data', train=False, download=True, transform=transforms.Compose([\n",
        "            transforms.ToTensor(),\n",
        "            transforms.Normalize((0.1307,), (0.3081,)),\n",
        "            ])),\n",
        "        batch_size=batch_size, shuffle=True)"
      ],
      "metadata": {
        "colab": {
          "base_uri": "https://localhost:8080/"
        },
        "id": "t4sDSEl1KuLJ",
        "outputId": "4d07d059-74fc-41ca-d396-76075e4ed24f"
      },
      "execution_count": null,
      "outputs": [
        {
          "output_type": "stream",
          "name": "stdout",
          "text": [
            "Downloading http://yann.lecun.com/exdb/mnist/train-images-idx3-ubyte.gz\n",
            "Failed to download (trying next):\n",
            "HTTP Error 403: Forbidden\n",
            "\n",
            "Downloading https://ossci-datasets.s3.amazonaws.com/mnist/train-images-idx3-ubyte.gz\n",
            "Downloading https://ossci-datasets.s3.amazonaws.com/mnist/train-images-idx3-ubyte.gz to ../data/MNIST/raw/train-images-idx3-ubyte.gz\n"
          ]
        },
        {
          "output_type": "stream",
          "name": "stderr",
          "text": [
            "100%|██████████| 9912422/9912422 [00:02<00:00, 3765987.51it/s]\n"
          ]
        },
        {
          "output_type": "stream",
          "name": "stdout",
          "text": [
            "Extracting ../data/MNIST/raw/train-images-idx3-ubyte.gz to ../data/MNIST/raw\n",
            "\n",
            "Downloading http://yann.lecun.com/exdb/mnist/train-labels-idx1-ubyte.gz\n",
            "Failed to download (trying next):\n",
            "HTTP Error 403: Forbidden\n",
            "\n",
            "Downloading https://ossci-datasets.s3.amazonaws.com/mnist/train-labels-idx1-ubyte.gz\n",
            "Downloading https://ossci-datasets.s3.amazonaws.com/mnist/train-labels-idx1-ubyte.gz to ../data/MNIST/raw/train-labels-idx1-ubyte.gz\n"
          ]
        },
        {
          "output_type": "stream",
          "name": "stderr",
          "text": [
            "100%|██████████| 28881/28881 [00:00<00:00, 505123.53it/s]\n"
          ]
        },
        {
          "output_type": "stream",
          "name": "stdout",
          "text": [
            "Extracting ../data/MNIST/raw/train-labels-idx1-ubyte.gz to ../data/MNIST/raw\n",
            "\n",
            "Downloading http://yann.lecun.com/exdb/mnist/t10k-images-idx3-ubyte.gz\n",
            "Failed to download (trying next):\n",
            "HTTP Error 403: Forbidden\n",
            "\n",
            "Downloading https://ossci-datasets.s3.amazonaws.com/mnist/t10k-images-idx3-ubyte.gz\n",
            "Downloading https://ossci-datasets.s3.amazonaws.com/mnist/t10k-images-idx3-ubyte.gz to ../data/MNIST/raw/t10k-images-idx3-ubyte.gz\n"
          ]
        },
        {
          "output_type": "stream",
          "name": "stderr",
          "text": [
            "100%|██████████| 1648877/1648877 [00:00<00:00, 4516438.56it/s]\n"
          ]
        },
        {
          "output_type": "stream",
          "name": "stdout",
          "text": [
            "Extracting ../data/MNIST/raw/t10k-images-idx3-ubyte.gz to ../data/MNIST/raw\n",
            "\n",
            "Downloading http://yann.lecun.com/exdb/mnist/t10k-labels-idx1-ubyte.gz\n",
            "Failed to download (trying next):\n",
            "HTTP Error 403: Forbidden\n",
            "\n",
            "Downloading https://ossci-datasets.s3.amazonaws.com/mnist/t10k-labels-idx1-ubyte.gz\n",
            "Downloading https://ossci-datasets.s3.amazonaws.com/mnist/t10k-labels-idx1-ubyte.gz to ../data/MNIST/raw/t10k-labels-idx1-ubyte.gz\n"
          ]
        },
        {
          "output_type": "stream",
          "name": "stderr",
          "text": [
            "100%|██████████| 4542/4542 [00:00<00:00, 9891240.27it/s]"
          ]
        },
        {
          "output_type": "stream",
          "name": "stdout",
          "text": [
            "Extracting ../data/MNIST/raw/t10k-labels-idx1-ubyte.gz to ../data/MNIST/raw\n",
            "\n"
          ]
        },
        {
          "output_type": "stream",
          "name": "stderr",
          "text": [
            "\n"
          ]
        }
      ]
    },
    {
      "cell_type": "code",
      "source": [
        "classes = [\n",
        "    '0',\n",
        "    '1',\n",
        "    '2',\n",
        "    '3',\n",
        "    '4',\n",
        "    '5',\n",
        "    '6',\n",
        "    '7',\n",
        "    '8',\n",
        "    '9'\n",
        "]"
      ],
      "metadata": {
        "id": "tAAOuufCKyCb"
      },
      "execution_count": null,
      "outputs": []
    },
    {
      "cell_type": "code",
      "source": [
        "# Iterate over the data loader to get the shape of the data\n",
        "for images, labels in train_loader:\n",
        "    print(\"Shape of images tensor:\", images.shape)\n",
        "    print(\"Shape of labels tensor:\", labels.shape)\n",
        "    break  # Exit the loop after the first batch"
      ],
      "metadata": {
        "colab": {
          "base_uri": "https://localhost:8080/"
        },
        "id": "xKyccjZkK3Rl",
        "outputId": "26c8218f-6d2f-4177-b1b7-508e2d1ad1e9"
      },
      "execution_count": null,
      "outputs": [
        {
          "output_type": "stream",
          "name": "stdout",
          "text": [
            "Shape of images tensor: torch.Size([1, 1, 28, 28])\n",
            "Shape of labels tensor: torch.Size([1])\n"
          ]
        }
      ]
    },
    {
      "cell_type": "code",
      "source": [
        "import numpy as np\n",
        "import matplotlib.pyplot as plt\n",
        "\n",
        "# Function to convert a tensor to a numpy image\n",
        "def tensor_to_image(tensor):\n",
        "    # Convert tensor to numpy array\n",
        "    image = tensor.numpy()\n",
        "    # Rescale the pixel values to be between 0 and 1\n",
        "    image = image / 2 + 0.5\n",
        "    # Reorder dimensions to (height, width, channels)\n",
        "    image = np.transpose(image, (1, 2, 0))\n",
        "    return image\n",
        "\n",
        "# Function to display a single image\n",
        "def show_image(image, label, classes):\n",
        "    # Convert tensor to numpy array\n",
        "    image = tensor_to_image(image)\n",
        "\n",
        "    # Create a figure and axis\n",
        "    fig, ax = plt.subplots(figsize=(4, 3))\n",
        "\n",
        "    # Plot the image\n",
        "    ax.imshow(image)\n",
        "    ax.axis('off')\n",
        "    ax.set_title(classes[label.item()])\n",
        "\n",
        "    # Show the plot\n",
        "    plt.show()\n",
        "\n",
        "# Get a batch of images and labels\n",
        "images, labels = next(iter(train_loader))\n",
        "\n",
        "# Assuming you want to display the first image in the batch\n",
        "image_to_display = images[0]\n",
        "label_to_display = labels[0]\n",
        "\n",
        "# Display the image\n",
        "show_image(image_to_display, label_to_display, classes)"
      ],
      "metadata": {
        "colab": {
          "base_uri": "https://localhost:8080/",
          "height": 290
        },
        "id": "F9JGAqXcK3ux",
        "outputId": "2b0ef917-8a9d-4957-e198-30e5cb84c93d"
      },
      "execution_count": null,
      "outputs": [
        {
          "output_type": "display_data",
          "data": {
            "text/plain": [
              "<Figure size 400x300 with 1 Axes>"
            ],
            "image/png": "[encoded data removed]"
          },
          "metadata": {}
        }
      ]
    },
    {
      "cell_type": "code",
      "source": [
        "class SimpleCNN(nn.Module):\n",
        "    def __init__(self):\n",
        "        super(SimpleCNN, self).__init__()\n",
        "        self.conv1 = nn.Conv2d(1, 32, kernel_size=3, stride=1, padding=1)  # Change input channels to 1\n",
        "        self.pool = nn.MaxPool2d(kernel_size=2, stride=2)\n",
        "        self.conv2 = nn.Conv2d(32, 64, kernel_size=3, stride=1, padding=1)\n",
        "        self.fc1 = nn.Linear(64 * 7 * 7, 128)  # Adjust input features for 28x28 input size\n",
        "        self.fc2 = nn.Linear(128, 10)\n",
        "\n",
        "    def forward(self, x):\n",
        "        x = self.pool(torch.relu(self.conv1(x)))\n",
        "        x = self.pool(torch.relu(self.conv2(x)))\n",
        "        x = x.view(-1, 64 * 7 * 7)  # Adjust for the flattened feature size\n",
        "        x = torch.relu(self.fc1(x))\n",
        "        x = self.fc2(x)\n",
        "        return x"
      ],
      "metadata": {
        "id": "f7Y2g-HxK57R"
      },
      "execution_count": null,
      "outputs": []
    },
    {
      "cell_type": "code",
      "source": [
        "import torch\n",
        "device = torch.device(\"cuda\" if torch.cuda.is_available() else \"cpu\")\n",
        "\n",
        "\n",
        "model = SimpleCNN().to(device)"
      ],
      "metadata": {
        "id": "LJM4QxGiK8iJ"
      },
      "execution_count": null,
      "outputs": []
    },
    {
      "cell_type": "code",
      "source": [
        "import torch.optim as optim\n",
        "\n",
        "criterion = nn.CrossEntropyLoss()\n",
        "optimizer = optim.Adam(model.parameters(), lr=0.001)"
      ],
      "metadata": {
        "id": "40JLK3RZK-Sm"
      },
      "execution_count": null,
      "outputs": []
    },
    {
      "cell_type": "code",
      "source": [
        "# Training loop\n",
        "num_epochs = 5\n",
        "for epoch in range(num_epochs):  # loop over the dataset multiple times\n",
        "    model.train()  # Set the model to training mode\n",
        "    running_loss = 0.0\n",
        "    correct_train = 0\n",
        "    total_train = 0\n",
        "\n",
        "    for images, labels in train_loader:  # get the inputs; images.to(device), labels.to(device) is a list of [images, labels]\n",
        "        images, labels = images.to(device), labels.to(device)  # Move data to GPU\n",
        "\n",
        "        # zero the parameter gradients\n",
        "        optimizer.zero_grad()\n",
        "\n",
        "        # forward + backward + optimize\n",
        "        outputs = model(images)\n",
        "        loss = criterion(outputs, labels)\n",
        "        loss.backward()\n",
        "        optimizer.step()\n",
        "\n",
        "        running_loss += loss.item()\n",
        "        _, predicted = torch.max(outputs.data, 1)\n",
        "        total_train += labels.size(0)\n",
        "        correct_train += (predicted == labels).sum().item()\n",
        "\n",
        "    epoch_loss = running_loss / len(train_loader)\n",
        "    train_accuracy = correct_train / total_train\n",
        "\n",
        "    # Validation loop\n",
        "    model.eval()  # Set the model to evaluation mode\n",
        "    correct_val = 0\n",
        "    total_val = 0\n",
        "\n",
        "    with torch.no_grad():\n",
        "        for images, labels in test_loader:  # Change from train_loader to test_loader for validation\n",
        "            images, labels = images.to(device), labels.to(device)\n",
        "            outputs = model(images)\n",
        "            _, predicted = torch.max(outputs.data, 1)\n",
        "            total_val += labels.size(0)\n",
        "            correct_val += (predicted == labels).sum().item()\n",
        "\n",
        "    val_accuracy = correct_val / total_val\n",
        "\n",
        "    # Print training and validation statistics\n",
        "    print(f'Epoch {epoch + 1}/{num_epochs}, Loss: {epoch_loss:.4f}, '\n",
        "          f'Train Accuracy: {train_accuracy:.4f}, Val Accuracy: {val_accuracy:.4f}')"
      ],
      "metadata": {
        "colab": {
          "base_uri": "https://localhost:8080/"
        },
        "id": "KUGI6WaWLAEg",
        "outputId": "c1ccbf61-e523-443e-c10d-3e89c35d386d"
      },
      "execution_count": null,
      "outputs": [
        {
          "output_type": "stream",
          "name": "stdout",
          "text": [
            "Epoch 1/5, Loss: 0.1208, Train Accuracy: 0.9641, Val Accuracy: 0.9751\n",
            "Epoch 2/5, Loss: 0.0663, Train Accuracy: 0.9820, Val Accuracy: 0.9775\n",
            "Epoch 3/5, Loss: 0.0619, Train Accuracy: 0.9841, Val Accuracy: 0.9813\n",
            "Epoch 4/5, Loss: 0.0574, Train Accuracy: 0.9855, Val Accuracy: 0.9812\n",
            "Epoch 5/5, Loss: 0.0595, Train Accuracy: 0.9851, Val Accuracy: 0.9830\n"
          ]
        }
      ]
    },
    {
      "cell_type": "code",
      "source": [
        "# Define the PGDRS attack\n",
        "attack_PGDRS = torchattacks.PGDRS(model, eps=8/255, alpha=2/255, steps=10, noise_type=\"guassian\", noise_sd=0.5, noise_batch_size=5, batch_max=2048)\n",
        "\n",
        "# Function to convert a tensor to a numpy image (adjusted for grayscale images)\n",
        "def tensor_to_image(tensor):\n",
        "    image = tensor.cpu().numpy()\n",
        "    image = image * 0.3081 + 0.1307  # De-normalize the image\n",
        "    if image.shape[0] == 1:\n",
        "        image = image.squeeze(0)\n",
        "    return image\n",
        "\n",
        "# Function to display original and adversarial images side by side\n",
        "def show_images_side_by_side(original_image, adversarial_image, original_label, adversarial_label, classes):\n",
        "    original_image = tensor_to_image(original_image)\n",
        "    adversarial_image = tensor_to_image(adversarial_image)\n",
        "    fig, axs = plt.subplots(1, 2, figsize=(6, 3))\n",
        "\n",
        "    # Original image\n",
        "    axs[0].imshow(original_image, cmap='gray')\n",
        "    axs[0].axis('off')\n",
        "    axs[0].set_title(f\"Original: {classes[original_label]}\")\n",
        "\n",
        "    # Adversarial image\n",
        "    axs[1].imshow(adversarial_image, cmap='gray')\n",
        "    axs[1].axis('off')\n",
        "    axs[1].set_title(f\"Adversarial: {classes[adversarial_label]}\")\n",
        "\n",
        "    plt.show()\n",
        "\n",
        "# Initialize variables to count successful attacks\n",
        "successful_attacks = 0\n",
        "total_samples = 100  # Number of samples to test\n",
        "\n",
        "for _ in range(total_samples):\n",
        "    index_PGDRS = np.random.randint(0, len(test_loader.dataset))\n",
        "    original_image_PGDRS, original_label_PGDRS = test_loader.dataset[index_PGDRS]\n",
        "\n",
        "    original_label_tensor_PGDRS = torch.tensor(original_label_PGDRS)\n",
        "    original_image_PGDRS = original_image_PGDRS.unsqueeze(0).to(device)\n",
        "    original_label_tensor_PGDRS = original_label_tensor_PGDRS.unsqueeze(0).to(device)\n",
        "\n",
        "    adv_images_PGDRS = attack_PGDRS(original_image_PGDRS, original_label_tensor_PGDRS)\n",
        "\n",
        "    original_prediction_PGDRS = torch.argmax(model(original_image_PGDRS))\n",
        "    adversarial_prediction_PGDRS = torch.argmax(model(adv_images_PGDRS))\n",
        "\n",
        "    if original_prediction_PGDRS != adversarial_prediction_PGDRS:\n",
        "        successful_attacks += 1\n",
        "\n",
        "    if _ < 5:\n",
        "        show_images_side_by_side(\n",
        "            original_image_PGDRS.cpu().squeeze(),\n",
        "            adv_images_PGDRS.cpu().squeeze(),\n",
        "            original_prediction_PGDRS.item(),\n",
        "            adversarial_prediction_PGDRS.item(),\n",
        "            classes\n",
        "        )\n",
        "\n",
        "# Calculate the success rate\n",
        "success_rate = successful_attacks / total_samples\n",
        "print(f\"Success Rate: {success_rate:.4f}\")"
      ],
      "metadata": {
        "colab": {
          "base_uri": "https://localhost:8080/",
          "height": 1000
        },
        "id": "9VUee1fMLCpZ",
        "outputId": "7dd0dfeb-6613-4791-cbda-f3ecb688e880"
      },
      "execution_count": null,
      "outputs": [
        {
          "output_type": "display_data",
          "data": {
            "text/plain": [
              "<Figure size 600x300 with 2 Axes>"
            ],
            "image/png": "[encoded data removed]"
          },
          "metadata": {}
        },
        {
          "output_type": "display_data",
          "data": {
            "text/plain": [
              "<Figure size 600x300 with 2 Axes>"
            ],
            "image/png": "[encoded data removed]"
          },
          "metadata": {}
        },
        {
          "output_type": "display_data",
          "data": {
            "text/plain": [
              "<Figure size 600x300 with 2 Axes>"
            ],
            "image/png": "[encoded data removed]"
          },
          "metadata": {}
        },
        {
          "output_type": "display_data",
          "data": {
            "text/plain": [
              "<Figure size 600x300 with 2 Axes>"
            ],
            "image/png": "[encoded data removed]"
          },
          "metadata": {}
        },
        {
          "output_type": "display_data",
          "data": {
            "text/plain": [
              "<Figure size 600x300 with 2 Axes>"
            ],
            "image/png": "[encoded data removed]"
          },
          "metadata": {}
        },
        {
          "output_type": "stream",
          "name": "stdout",
          "text": [
            "Success Rate: 0.9200\n"
          ]
        }
      ]
    },
    {
      "cell_type": "code",
      "source": [
        "# Define the adversarial attacks\n",
        "attacks = {\n",
        "    'APGDT': torchattacks.APGDT(model, norm='Linf', eps=8/255, steps=10, n_restarts=1, seed=0, eot_iter=1, rho=.75, verbose=False, n_classes=10),\n",
        "    'APGD': torchattacks.APGD(model, norm='Linf', eps=8/255, steps=10, n_restarts=1, seed=0, loss='ce', eot_iter=1, rho=.75, verbose=False),\n",
        "    'TIFGSM': torchattacks.TIFGSM(model, eps=8/255, alpha=2/255, steps=10, decay=1.0, resize_rate=0.9, diversity_prob=0.7, random_start=False),\n",
        "}\n",
        "\n",
        "# Function to convert a tensor to a numpy image (adjusted for grayscale images)\n",
        "def tensor_to_image(tensor):\n",
        "    image = tensor.cpu().numpy()\n",
        "    image = image * 0.3081 + 0.1307  # De-normalize the image\n",
        "    if image.shape[0] == 1:\n",
        "        image = image.squeeze(0)\n",
        "    return image\n",
        "\n",
        "# Function to display original and adversarial images side by side\n",
        "def show_images_side_by_side(original_image, adversarial_image, original_label, adversarial_label, classes):\n",
        "    original_image = tensor_to_image(original_image)\n",
        "    adversarial_image = tensor_to_image(adversarial_image)\n",
        "    fig, axs = plt.subplots(1, 2, figsize=(6, 3))\n",
        "\n",
        "    # Original image\n",
        "    axs[0].imshow(original_image, cmap='gray')\n",
        "    axs[0].axis('off')\n",
        "    axs[0].set_title(f\"Original: {classes[original_label]}\")\n",
        "\n",
        "    # Adversarial image\n",
        "    axs[1].imshow(adversarial_image, cmap='gray')\n",
        "    axs[1].axis('off')\n",
        "    axs[1].set_title(f\"Adversarial: {classes[adversarial_label]}\")\n",
        "\n",
        "    plt.show()\n",
        "\n",
        "# Initialize variables to count successful attacks\n",
        "attack_results = {}\n",
        "\n",
        "for attack_name, attack in attacks.items():\n",
        "    successful_attacks = 0\n",
        "    total_samples = 100  # Number of samples to test\n",
        "\n",
        "    for _ in range(total_samples):\n",
        "        index = np.random.randint(0, len(test_loader.dataset))\n",
        "        original_image, original_label = test_loader.dataset[index]\n",
        "\n",
        "        original_label_tensor = torch.tensor(original_label)\n",
        "        original_image = original_image.unsqueeze(0).to(device)\n",
        "        original_label_tensor = original_label_tensor.unsqueeze(0).to(device)\n",
        "\n",
        "        adv_images = attack(original_image, original_label_tensor)\n",
        "\n",
        "        original_prediction = torch.argmax(model(original_image))\n",
        "        adversarial_prediction = torch.argmax(model(adv_images))\n",
        "\n",
        "        if original_prediction != adversarial_prediction:\n",
        "            successful_attacks += 1\n",
        "\n",
        "\n",
        "    # Calculate success rate for the attack\n",
        "    success_rate = successful_attacks / total_samples\n",
        "    attack_results[attack_name] = success_rate\n",
        "\n",
        "# Print the success rates for each attack\n",
        "print(\"\\nSuccess Rates:\")\n",
        "for attack_name, success_rate in attack_results.items():\n",
        "    print(f\"{attack_name} Success Rate:\", success_rate)\n",
        "\n",
        "# Compare which attack has the highest success rate\n",
        "best_attack = max(attack_results, key=attack_results.get)\n",
        "print(f\"\\n{best_attack} has the highest success rate with Success Rate: {attack_results[best_attack]:.4f}\")"
      ],
      "metadata": {
        "colab": {
          "base_uri": "https://localhost:8080/"
        },
        "id": "QT39ZYjxXfmn",
        "outputId": "a3d2cdfd-18db-47c7-c3fb-7f322b6c06e4"
      },
      "execution_count": null,
      "outputs": [
        {
          "output_type": "stream",
          "name": "stdout",
          "text": [
            "\n",
            "Success Rates:\n",
            "PGDRS Success Rate: 0.89\n",
            "SINIFGSM Success Rate: 0.93\n",
            "VMIFGSM Success Rate: 0.91\n",
            "VNIFGSM Success Rate: 0.92\n",
            "\n",
            "SINIFGSM has the highest success rate with Success Rate: 0.9300\n"
          ]
        }
      ]
    },
    {
      "cell_type": "code",
      "source": [],
      "metadata": {
        "id": "yiVYfsyPQvrM"
      },
      "execution_count": null,
      "outputs": []
    }
  ]
}