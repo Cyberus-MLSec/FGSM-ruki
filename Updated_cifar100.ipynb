{
  "nbformat": 4,
  "nbformat_minor": 0,
  "metadata": {
    "colab": {
      "provenance": [],
      "gpuType": "T4"
    },
    "kernelspec": {
      "name": "python3",
      "display_name": "Python 3"
    },
    "language_info": {
      "name": "python"
    },
    "accelerator": "GPU"
  },
  "cells": [
    {
      "cell_type": "code",
      "execution_count": null,
      "metadata": {
        "id": "W8wCdRg_SNBO"
      },
      "outputs": [],
      "source": [
        "from google.colab import drive"
      ]
    },
    {
      "cell_type": "code",
      "source": [
        "drive.mount('/content/drive')"
      ],
      "metadata": {
        "colab": {
          "base_uri": "https://localhost:8080/"
        },
        "id": "rasngvO1WtFS",
        "outputId": "da0a2bc5-c26b-4370-8852-d1a753d2b15b"
      },
      "execution_count": null,
      "outputs": [
        {
          "output_type": "stream",
          "name": "stdout",
          "text": [
            "Drive already mounted at /content/drive; to attempt to forcibly remount, call drive.mount(\"/content/drive\", force_remount=True).\n"
          ]
        }
      ]
    },
    {
      "cell_type": "code",
      "source": [
        "import pickle\n",
        "import pandas as pd\n",
        "import numpy as np\n",
        "import matplotlib.pyplot as plt\n",
        "from pylab import rcParams\n",
        "import tensorflow as tf\n",
        "import keras\n",
        "get_ipython().run_line_magic('matplotlib', 'inline')\n",
        "from keras.models import Sequential, load_model\n",
        "from keras.models import Sequential, load_model\n",
        "from keras.layers import Dense, Dropout, Activation, Flatten, Lambda\n",
        "from keras.preprocessing.image import ImageDataGenerator\n",
        "from keras.layers import Conv2D, MaxPool2D, Conv2D, MaxPooling2D, BatchNormalization\n",
        "from keras.layers import Conv2D, MaxPool2D, Dropout, Flatten, Dense\n",
        "from keras.layers import BatchNormalization\n",
        "from keras.preprocessing.image import ImageDataGenerator\n",
        "from keras.callbacks import Callback, EarlyStopping, ModelCheckpoint\n",
        "from sklearn.metrics import confusion_matrix, classification_report\n",
        "from skimage.transform import resize\n",
        "import seaborn as sns\n",
        "import cv2\n"
      ],
      "metadata": {
        "id": "nwAr5dL28x4y"
      },
      "execution_count": null,
      "outputs": []
    },
    {
      "cell_type": "code",
      "source": [
        "def unpickle(file):\n",
        "    with open(file, 'rb') as fo:\n",
        "        myDict = pickle.load(fo, encoding='latin1')\n",
        "    return myDict"
      ],
      "metadata": {
        "id": "IJxx66kdiVMr"
      },
      "execution_count": null,
      "outputs": []
    },
    {
      "cell_type": "code",
      "source": [
        "# Load the training data\n",
        "train_data = unpickle('/content/drive/MyDrive/cifar-100-python/cifar-100-python/train')\n",
        "meta_data = unpickle('/content/drive/MyDrive/cifar-100-python/cifar-100-python/meta')\n",
        "\n",
        "# Load the test data\n",
        "test_data = unpickle('/content/drive/MyDrive/cifar-100-python/cifar-100-python/train')"
      ],
      "metadata": {
        "id": "woRbdLzOcQOQ"
      },
      "execution_count": null,
      "outputs": []
    },
    {
      "cell_type": "code",
      "source": [
        "for item in train_data:\n",
        "    print(item, type(train_data[item]))"
      ],
      "metadata": {
        "colab": {
          "base_uri": "https://localhost:8080/"
        },
        "id": "Pq5b7Grddt_U",
        "outputId": "b1d53a6c-d76b-4e55-96c8-3cc93ba97996"
      },
      "execution_count": null,
      "outputs": [
        {
          "output_type": "stream",
          "name": "stdout",
          "text": [
            "filenames <class 'list'>\n",
            "batch_label <class 'str'>\n",
            "fine_labels <class 'list'>\n",
            "coarse_labels <class 'list'>\n",
            "data <class 'numpy.ndarray'>\n"
          ]
        }
      ]
    },
    {
      "cell_type": "markdown",
      "source": [
        "##Train Data"
      ],
      "metadata": {
        "id": "gni7ivx4k6tf"
      }
    },
    {
      "cell_type": "code",
      "source": [
        "features = train_data['data']\n",
        "print(features.shape)\n",
        "\n",
        "# Reshape the data from flat to 32*32*3\n",
        "features = features.reshape((len(train_data['data']), 3, 32, 32))\n",
        "feature = features.transpose(0, 2, 3, 1)\n"
      ],
      "metadata": {
        "colab": {
          "base_uri": "https://localhost:8080/"
        },
        "id": "JJqDgyihi0RG",
        "outputId": "e844f560-6b47-46e5-ac53-81749142a74d"
      },
      "execution_count": null,
      "outputs": [
        {
          "output_type": "stream",
          "name": "stdout",
          "text": [
            "(50000, 3072)\n"
          ]
        }
      ]
    },
    {
      "cell_type": "code",
      "source": [
        "# getting fine-labels of images (in the form of numerical values from 0-99)\n",
        "fine_labels = np.unique(train_data['fine_labels'])\n",
        "\n",
        "# getting coarse-labels of images (in the form of numerical values from 0-19)\n",
        "coarse_labels = np.unique(train_data['coarse_labels'])\n",
        "\n",
        "# getting file_name (in the form of Name-tag)\n",
        "file_name = train_data['filenames']"
      ],
      "metadata": {
        "id": "oSO9bkCtf9wZ"
      },
      "execution_count": null,
      "outputs": []
    },
    {
      "cell_type": "code",
      "source": [
        "print(fine_labels)"
      ],
      "metadata": {
        "colab": {
          "base_uri": "https://localhost:8080/"
        },
        "id": "fbfFTWxQeGpN",
        "outputId": "6edd6b9e-3c70-4a78-d6ac-d081896f0102"
      },
      "execution_count": null,
      "outputs": [
        {
          "output_type": "stream",
          "name": "stdout",
          "text": [
            "[ 0  1  2  3  4  5  6  7  8  9 10 11 12 13 14 15 16 17 18 19 20 21 22 23\n",
            " 24 25 26 27 28 29 30 31 32 33 34 35 36 37 38 39 40 41 42 43 44 45 46 47\n",
            " 48 49 50 51 52 53 54 55 56 57 58 59 60 61 62 63 64 65 66 67 68 69 70 71\n",
            " 72 73 74 75 76 77 78 79 80 81 82 83 84 85 86 87 88 89 90 91 92 93 94 95\n",
            " 96 97 98 99]\n"
          ]
        }
      ]
    },
    {
      "cell_type": "code",
      "source": [
        "print(coarse_labels)"
      ],
      "metadata": {
        "colab": {
          "base_uri": "https://localhost:8080/"
        },
        "id": "ijW4x-Lmf2xQ",
        "outputId": "de986884-634d-40f1-fd0c-c58a7b796faa"
      },
      "execution_count": null,
      "outputs": [
        {
          "output_type": "stream",
          "name": "stdout",
          "text": [
            "[ 0  1  2  3  4  5  6  7  8  9 10 11 12 13 14 15 16 17 18 19]\n"
          ]
        }
      ]
    },
    {
      "cell_type": "code",
      "source": [
        "name_label = []\n",
        "for file in file_name:\n",
        "    stripped = str(file).split(\"_s_\")[0]\n",
        "    name_label.append(stripped)\n",
        "print(\"SOME LABEL NAMES: \", name_label[:40])"
      ],
      "metadata": {
        "id": "WL7qVFKpgsXY",
        "outputId": "f989b16a-4d3a-4e0e-874d-ab89bf6998f3",
        "colab": {
          "base_uri": "https://localhost:8080/"
        }
      },
      "execution_count": null,
      "outputs": [
        {
          "output_type": "stream",
          "name": "stdout",
          "text": [
            "SOME LABEL NAMES:  ['bos_taurus', 'stegosaurus', 'mcintosh', 'altar_boy', 'cichlid', 'phone', 'car_train', 'beaker', 'fog', 'rogue_elephant', 'computer_keyboard', 'willow_tree', 'sunflower', 'palace', 'adriatic', 'computer_keyboard', 'bike', 'wolf_pup', 'squirrel', 'sea', 'shrew', 'pine_tree', 'rose', 'surveillance_system', 'pine', 'table', 'opossum', 'quercus_alba', 'leopard', 'possum', 'bike', 'balmoral_castle', 'acer_saccharinum', 'lapin', 'chimp', 'clock', 'streetcar', 'male_child', 'oriental_cockroach', 'breakfast_table']\n"
          ]
        }
      ]
    },
    {
      "cell_type": "markdown",
      "source": [
        "##Test data"
      ],
      "metadata": {
        "id": "Xj7L5IclkxMT"
      }
    },
    {
      "cell_type": "code",
      "source": [
        "features = test_data['data']\n",
        "print(features.shape)\n",
        "\n",
        "# Reshape the data from flat to 32*32*3\n",
        "features = features.reshape((len(test_data['data']), 3, 32, 32))\n",
        "features = features.transpose(0, 2, 3, 1)\n"
      ],
      "metadata": {
        "colab": {
          "base_uri": "https://localhost:8080/"
        },
        "id": "GvTyOBnfkmnq",
        "outputId": "9306c7f0-8b5d-478d-d6bd-2b25b10d6819"
      },
      "execution_count": null,
      "outputs": [
        {
          "output_type": "stream",
          "name": "stdout",
          "text": [
            "(50000, 3072)\n"
          ]
        }
      ]
    },
    {
      "cell_type": "code",
      "source": [
        "for item in test_data:\n",
        "    print(item, type(test_data[item]))"
      ],
      "metadata": {
        "colab": {
          "base_uri": "https://localhost:8080/"
        },
        "id": "EQx2buTiliae",
        "outputId": "9aacd1e1-7b40-4a1a-dd0c-f2d32e00071d"
      },
      "execution_count": null,
      "outputs": [
        {
          "output_type": "stream",
          "name": "stdout",
          "text": [
            "filenames <class 'list'>\n",
            "batch_label <class 'str'>\n",
            "fine_labels <class 'list'>\n",
            "coarse_labels <class 'list'>\n",
            "data <class 'numpy.ndarray'>\n"
          ]
        }
      ]
    },
    {
      "cell_type": "markdown",
      "source": [
        "##Meta data"
      ],
      "metadata": {
        "id": "B-CarsFlmCpt"
      }
    },
    {
      "cell_type": "code",
      "source": [
        "for item in meta_data:\n",
        "    print(item, type(meta_data[item]))"
      ],
      "metadata": {
        "colab": {
          "base_uri": "https://localhost:8080/"
        },
        "id": "n1pSwVWLlvZn",
        "outputId": "eb9e32c1-65df-421f-e0de-ab5de1001dd9"
      },
      "execution_count": null,
      "outputs": [
        {
          "output_type": "stream",
          "name": "stdout",
          "text": [
            "fine_label_names <class 'list'>\n",
            "coarse_label_names <class 'list'>\n"
          ]
        }
      ]
    },
    {
      "cell_type": "code",
      "source": [
        "#The coarse label number and name, which we are denoting as categories.\n",
        "\n",
        "# Storing coarse labels along with their number code in a DataFrame\n",
        "category = pd.DataFrame(meta_data['coarse_label_names'], columns=['SuperClass'])\n",
        "category\n"
      ],
      "metadata": {
        "colab": {
          "base_uri": "https://localhost:8080/",
          "height": 676
        },
        "id": "R08QrL03mOwg",
        "outputId": "5ea25a55-cbaf-4a43-9af7-4bd964be827b"
      },
      "execution_count": null,
      "outputs": [
        {
          "output_type": "execute_result",
          "data": {
            "text/plain": [
              "                        SuperClass\n",
              "0                  aquatic_mammals\n",
              "1                             fish\n",
              "2                          flowers\n",
              "3                  food_containers\n",
              "4             fruit_and_vegetables\n",
              "5     household_electrical_devices\n",
              "6              household_furniture\n",
              "7                          insects\n",
              "8                 large_carnivores\n",
              "9    large_man-made_outdoor_things\n",
              "10    large_natural_outdoor_scenes\n",
              "11  large_omnivores_and_herbivores\n",
              "12                  medium_mammals\n",
              "13        non-insect_invertebrates\n",
              "14                          people\n",
              "15                        reptiles\n",
              "16                   small_mammals\n",
              "17                           trees\n",
              "18                      vehicles_1\n",
              "19                      vehicles_2"
            ],
            "text/html": [
              "\n",
              "  <div id=\"df-d0ac4bc2-13de-4d1a-b89e-bcb9b4deeed8\" class=\"colab-df-container\">\n",
              "    <div>\n",
              "<style scoped>\n",
              "    .dataframe tbody tr th:only-of-type {\n",
              "        vertical-align: middle;\n",
              "    }\n",
              "\n",
              "    .dataframe tbody tr th {\n",
              "        vertical-align: top;\n",
              "    }\n",
              "\n",
              "    .dataframe thead th {\n",
              "        text-align: right;\n",
              "    }\n",
              "</style>\n",
              "<table border=\"1\" class=\"dataframe\">\n",
              "  <thead>\n",
              "    <tr style=\"text-align: right;\">\n",
              "      <th></th>\n",
              "      <th>SuperClass</th>\n",
              "    </tr>\n",
              "  </thead>\n",
              "  <tbody>\n",
              "    <tr>\n",
              "      <th>0</th>\n",
              "      <td>aquatic_mammals</td>\n",
              "    </tr>\n",
              "    <tr>\n",
              "      <th>1</th>\n",
              "      <td>fish</td>\n",
              "    </tr>\n",
              "    <tr>\n",
              "      <th>2</th>\n",
              "      <td>flowers</td>\n",
              "    </tr>\n",
              "    <tr>\n",
              "      <th>3</th>\n",
              "      <td>food_containers</td>\n",
              "    </tr>\n",
              "    <tr>\n",
              "      <th>4</th>\n",
              "      <td>fruit_and_vegetables</td>\n",
              "    </tr>\n",
              "    <tr>\n",
              "      <th>5</th>\n",
              "      <td>household_electrical_devices</td>\n",
              "    </tr>\n",
              "    <tr>\n",
              "      <th>6</th>\n",
              "      <td>household_furniture</td>\n",
              "    </tr>\n",
              "    <tr>\n",
              "      <th>7</th>\n",
              "      <td>insects</td>\n",
              "    </tr>\n",
              "    <tr>\n",
              "      <th>8</th>\n",
              "      <td>large_carnivores</td>\n",
              "    </tr>\n",
              "    <tr>\n",
              "      <th>9</th>\n",
              "      <td>large_man-made_outdoor_things</td>\n",
              "    </tr>\n",
              "    <tr>\n",
              "      <th>10</th>\n",
              "      <td>large_natural_outdoor_scenes</td>\n",
              "    </tr>\n",
              "    <tr>\n",
              "      <th>11</th>\n",
              "      <td>large_omnivores_and_herbivores</td>\n",
              "    </tr>\n",
              "    <tr>\n",
              "      <th>12</th>\n",
              "      <td>medium_mammals</td>\n",
              "    </tr>\n",
              "    <tr>\n",
              "      <th>13</th>\n",
              "      <td>non-insect_invertebrates</td>\n",
              "    </tr>\n",
              "    <tr>\n",
              "      <th>14</th>\n",
              "      <td>people</td>\n",
              "    </tr>\n",
              "    <tr>\n",
              "      <th>15</th>\n",
              "      <td>reptiles</td>\n",
              "    </tr>\n",
              "    <tr>\n",
              "      <th>16</th>\n",
              "      <td>small_mammals</td>\n",
              "    </tr>\n",
              "    <tr>\n",
              "      <th>17</th>\n",
              "      <td>trees</td>\n",
              "    </tr>\n",
              "    <tr>\n",
              "      <th>18</th>\n",
              "      <td>vehicles_1</td>\n",
              "    </tr>\n",
              "    <tr>\n",
              "      <th>19</th>\n",
              "      <td>vehicles_2</td>\n",
              "    </tr>\n",
              "  </tbody>\n",
              "</table>\n",
              "</div>\n",
              "    <div class=\"colab-df-buttons\">\n",
              "\n",
              "  <div class=\"colab-df-container\">\n",
              "    <button class=\"colab-df-convert\" onclick=\"convertToInteractive('df-d0ac4bc2-13de-4d1a-b89e-bcb9b4deeed8')\"\n",
              "            title=\"Convert this dataframe to an interactive table.\"\n",
              "            style=\"display:none;\">\n",
              "\n",
              "  <svg xmlns=\"http://www.w3.org/2000/svg\" height=\"24px\" viewBox=\"0 -960 960 960\">\n",
              "    <path d=\"M120-120v-720h720v720H120Zm60-500h600v-160H180v160Zm220 220h160v-160H400v160Zm0 220h160v-160H400v160ZM180-400h160v-160H180v160Zm440 0h160v-160H620v160ZM180-180h160v-160H180v160Zm440 0h160v-160H620v160Z\"/>\n",
              "  </svg>\n",
              "    </button>\n",
              "\n",
              "  <style>\n",
              "    .colab-df-container {\n",
              "      display:flex;\n",
              "      gap: 12px;\n",
              "    }\n",
              "\n",
              "    .colab-df-convert {\n",
              "      background-color: #E8F0FE;\n",
              "      border: none;\n",
              "      border-radius: 50%;\n",
              "      cursor: pointer;\n",
              "      display: none;\n",
              "      fill: #1967D2;\n",
              "      height: 32px;\n",
              "      padding: 0 0 0 0;\n",
              "      width: 32px;\n",
              "    }\n",
              "\n",
              "    .colab-df-convert:hover {\n",
              "      background-color: #E2EBFA;\n",
              "      box-shadow: 0px 1px 2px rgba(60, 64, 67, 0.3), 0px 1px 3px 1px rgba(60, 64, 67, 0.15);\n",
              "      fill: #174EA6;\n",
              "    }\n",
              "\n",
              "    .colab-df-buttons div {\n",
              "      margin-bottom: 4px;\n",
              "    }\n",
              "\n",
              "    [theme=dark] .colab-df-convert {\n",
              "      background-color: #3B4455;\n",
              "      fill: #D2E3FC;\n",
              "    }\n",
              "\n",
              "    [theme=dark] .colab-df-convert:hover {\n",
              "      background-color: #434B5C;\n",
              "      box-shadow: 0px 1px 3px 1px rgba(0, 0, 0, 0.15);\n",
              "      filter: drop-shadow(0px 1px 2px rgba(0, 0, 0, 0.3));\n",
              "      fill: #FFFFFF;\n",
              "    }\n",
              "  </style>\n",
              "\n",
              "    <script>\n",
              "      const buttonEl =\n",
              "        document.querySelector('#df-d0ac4bc2-13de-4d1a-b89e-bcb9b4deeed8 button.colab-df-convert');\n",
              "      buttonEl.style.display =\n",
              "        google.colab.kernel.accessAllowed ? 'block' : 'none';\n",
              "\n",
              "      async function convertToInteractive(key) {\n",
              "        const element = document.querySelector('#df-d0ac4bc2-13de-4d1a-b89e-bcb9b4deeed8');\n",
              "        const dataTable =\n",
              "          await google.colab.kernel.invokeFunction('convertToInteractive',\n",
              "                                                    [key], {});\n",
              "        if (!dataTable) return;\n",
              "\n",
              "        const docLinkHtml = 'Like what you see? Visit the ' +\n",
              "          '<a target=\"_blank\" href=https://colab.research.google.com/notebooks/data_table.ipynb>data table notebook</a>'\n",
              "          + ' to learn more about interactive tables.';\n",
              "        element.innerHTML = '';\n",
              "        dataTable['output_type'] = 'display_data';\n",
              "        await google.colab.output.renderOutput(dataTable, element);\n",
              "        const docLink = document.createElement('div');\n",
              "        docLink.innerHTML = docLinkHtml;\n",
              "        element.appendChild(docLink);\n",
              "      }\n",
              "    </script>\n",
              "  </div>\n",
              "\n",
              "\n",
              "<div id=\"df-82e29bf1-0c72-43eb-84ea-3e8cdbb07b83\">\n",
              "  <button class=\"colab-df-quickchart\" onclick=\"quickchart('df-82e29bf1-0c72-43eb-84ea-3e8cdbb07b83')\"\n",
              "            title=\"Suggest charts\"\n",
              "            style=\"display:none;\">\n",
              "\n",
              "<svg xmlns=\"http://www.w3.org/2000/svg\" height=\"24px\"viewBox=\"0 0 24 24\"\n",
              "     width=\"24px\">\n",
              "    <g>\n",
              "        <path d=\"M19 3H5c-1.1 0-2 .9-2 2v14c0 1.1.9 2 2 2h14c1.1 0 2-.9 2-2V5c0-1.1-.9-2-2-2zM9 17H7v-7h2v7zm4 0h-2V7h2v10zm4 0h-2v-4h2v4z\"/>\n",
              "    </g>\n",
              "</svg>\n",
              "  </button>\n",
              "\n",
              "<style>\n",
              "  .colab-df-quickchart {\n",
              "      --bg-color: #E8F0FE;\n",
              "      --fill-color: #1967D2;\n",
              "      --hover-bg-color: #E2EBFA;\n",
              "      --hover-fill-color: #174EA6;\n",
              "      --disabled-fill-color: #AAA;\n",
              "      --disabled-bg-color: #DDD;\n",
              "  }\n",
              "\n",
              "  [theme=dark] .colab-df-quickchart {\n",
              "      --bg-color: #3B4455;\n",
              "      --fill-color: #D2E3FC;\n",
              "      --hover-bg-color: #434B5C;\n",
              "      --hover-fill-color: #FFFFFF;\n",
              "      --disabled-bg-color: #3B4455;\n",
              "      --disabled-fill-color: #666;\n",
              "  }\n",
              "\n",
              "  .colab-df-quickchart {\n",
              "    background-color: var(--bg-color);\n",
              "    border: none;\n",
              "    border-radius: 50%;\n",
              "    cursor: pointer;\n",
              "    display: none;\n",
              "    fill: var(--fill-color);\n",
              "    height: 32px;\n",
              "    padding: 0;\n",
              "    width: 32px;\n",
              "  }\n",
              "\n",
              "  .colab-df-quickchart:hover {\n",
              "    background-color: var(--hover-bg-color);\n",
              "    box-shadow: 0 1px 2px rgba(60, 64, 67, 0.3), 0 1px 3px 1px rgba(60, 64, 67, 0.15);\n",
              "    fill: var(--button-hover-fill-color);\n",
              "  }\n",
              "\n",
              "  .colab-df-quickchart-complete:disabled,\n",
              "  .colab-df-quickchart-complete:disabled:hover {\n",
              "    background-color: var(--disabled-bg-color);\n",
              "    fill: var(--disabled-fill-color);\n",
              "    box-shadow: none;\n",
              "  }\n",
              "\n",
              "  .colab-df-spinner {\n",
              "    border: 2px solid var(--fill-color);\n",
              "    border-color: transparent;\n",
              "    border-bottom-color: var(--fill-color);\n",
              "    animation:\n",
              "      spin 1s steps(1) infinite;\n",
              "  }\n",
              "\n",
              "  @keyframes spin {\n",
              "    0% {\n",
              "      border-color: transparent;\n",
              "      border-bottom-color: var(--fill-color);\n",
              "      border-left-color: var(--fill-color);\n",
              "    }\n",
              "    20% {\n",
              "      border-color: transparent;\n",
              "      border-left-color: var(--fill-color);\n",
              "      border-top-color: var(--fill-color);\n",
              "    }\n",
              "    30% {\n",
              "      border-color: transparent;\n",
              "      border-left-color: var(--fill-color);\n",
              "      border-top-color: var(--fill-color);\n",
              "      border-right-color: var(--fill-color);\n",
              "    }\n",
              "    40% {\n",
              "      border-color: transparent;\n",
              "      border-right-color: var(--fill-color);\n",
              "      border-top-color: var(--fill-color);\n",
              "    }\n",
              "    60% {\n",
              "      border-color: transparent;\n",
              "      border-right-color: var(--fill-color);\n",
              "    }\n",
              "    80% {\n",
              "      border-color: transparent;\n",
              "      border-right-color: var(--fill-color);\n",
              "      border-bottom-color: var(--fill-color);\n",
              "    }\n",
              "    90% {\n",
              "      border-color: transparent;\n",
              "      border-bottom-color: var(--fill-color);\n",
              "    }\n",
              "  }\n",
              "</style>\n",
              "\n",
              "  <script>\n",
              "    async function quickchart(key) {\n",
              "      const quickchartButtonEl =\n",
              "        document.querySelector('#' + key + ' button');\n",
              "      quickchartButtonEl.disabled = true;  // To prevent multiple clicks.\n",
              "      quickchartButtonEl.classList.add('colab-df-spinner');\n",
              "      try {\n",
              "        const charts = await google.colab.kernel.invokeFunction(\n",
              "            'suggestCharts', [key], {});\n",
              "      } catch (error) {\n",
              "        console.error('Error during call to suggestCharts:', error);\n",
              "      }\n",
              "      quickchartButtonEl.classList.remove('colab-df-spinner');\n",
              "      quickchartButtonEl.classList.add('colab-df-quickchart-complete');\n",
              "    }\n",
              "    (() => {\n",
              "      let quickchartButtonEl =\n",
              "        document.querySelector('#df-82e29bf1-0c72-43eb-84ea-3e8cdbb07b83 button');\n",
              "      quickchartButtonEl.style.display =\n",
              "        google.colab.kernel.accessAllowed ? 'block' : 'none';\n",
              "    })();\n",
              "  </script>\n",
              "</div>\n",
              "    </div>\n",
              "  </div>\n"
            ],
            "application/vnd.google.colaboratory.intrinsic+json": {
              "type": "dataframe",
              "variable_name": "category",
              "summary": "{\n  \"name\": \"category\",\n  \"rows\": 20,\n  \"fields\": [\n    {\n      \"column\": \"SuperClass\",\n      \"properties\": {\n        \"dtype\": \"string\",\n        \"num_unique_values\": 20,\n        \"samples\": [\n          \"aquatic_mammals\",\n          \"trees\",\n          \"reptiles\"\n        ],\n        \"semantic_type\": \"\",\n        \"description\": \"\"\n      }\n    }\n  ]\n}"
            }
          },
          "metadata": {},
          "execution_count": 16
        }
      ]
    },
    {
      "cell_type": "code",
      "source": [
        "#storing fine labels along with its number code in a dataframe\n",
        "\n",
        "#The fine label number and name, which we are denoting as subcategories.\n",
        "\n",
        "subCategory = pd.DataFrame(meta_data['fine_label_names'], columns=['SubClass'])\n",
        "subCategory\n"
      ],
      "metadata": {
        "colab": {
          "base_uri": "https://localhost:8080/",
          "height": 423
        },
        "id": "Gy6Nhw6HmVrh",
        "outputId": "93ae9227-1c20-4d2c-cb6d-ce1e68306efd"
      },
      "execution_count": null,
      "outputs": [
        {
          "output_type": "execute_result",
          "data": {
            "text/plain": [
              "         SubClass\n",
              "0           apple\n",
              "1   aquarium_fish\n",
              "2            baby\n",
              "3            bear\n",
              "4          beaver\n",
              "..            ...\n",
              "95          whale\n",
              "96    willow_tree\n",
              "97           wolf\n",
              "98          woman\n",
              "99           worm\n",
              "\n",
              "[100 rows x 1 columns]"
            ],
            "text/html": [
              "\n",
              "  <div id=\"df-1ad6b29e-2782-4094-a879-010500b18d9a\" class=\"colab-df-container\">\n",
              "    <div>\n",
              "<style scoped>\n",
              "    .dataframe tbody tr th:only-of-type {\n",
              "        vertical-align: middle;\n",
              "    }\n",
              "\n",
              "    .dataframe tbody tr th {\n",
              "        vertical-align: top;\n",
              "    }\n",
              "\n",
              "    .dataframe thead th {\n",
              "        text-align: right;\n",
              "    }\n",
              "</style>\n",
              "<table border=\"1\" class=\"dataframe\">\n",
              "  <thead>\n",
              "    <tr style=\"text-align: right;\">\n",
              "      <th></th>\n",
              "      <th>SubClass</th>\n",
              "    </tr>\n",
              "  </thead>\n",
              "  <tbody>\n",
              "    <tr>\n",
              "      <th>0</th>\n",
              "      <td>apple</td>\n",
              "    </tr>\n",
              "    <tr>\n",
              "      <th>1</th>\n",
              "      <td>aquarium_fish</td>\n",
              "    </tr>\n",
              "    <tr>\n",
              "      <th>2</th>\n",
              "      <td>baby</td>\n",
              "    </tr>\n",
              "    <tr>\n",
              "      <th>3</th>\n",
              "      <td>bear</td>\n",
              "    </tr>\n",
              "    <tr>\n",
              "      <th>4</th>\n",
              "      <td>beaver</td>\n",
              "    </tr>\n",
              "    <tr>\n",
              "      <th>...</th>\n",
              "      <td>...</td>\n",
              "    </tr>\n",
              "    <tr>\n",
              "      <th>95</th>\n",
              "      <td>whale</td>\n",
              "    </tr>\n",
              "    <tr>\n",
              "      <th>96</th>\n",
              "      <td>willow_tree</td>\n",
              "    </tr>\n",
              "    <tr>\n",
              "      <th>97</th>\n",
              "      <td>wolf</td>\n",
              "    </tr>\n",
              "    <tr>\n",
              "      <th>98</th>\n",
              "      <td>woman</td>\n",
              "    </tr>\n",
              "    <tr>\n",
              "      <th>99</th>\n",
              "      <td>worm</td>\n",
              "    </tr>\n",
              "  </tbody>\n",
              "</table>\n",
              "<p>100 rows × 1 columns</p>\n",
              "</div>\n",
              "    <div class=\"colab-df-buttons\">\n",
              "\n",
              "  <div class=\"colab-df-container\">\n",
              "    <button class=\"colab-df-convert\" onclick=\"convertToInteractive('df-1ad6b29e-2782-4094-a879-010500b18d9a')\"\n",
              "            title=\"Convert this dataframe to an interactive table.\"\n",
              "            style=\"display:none;\">\n",
              "\n",
              "  <svg xmlns=\"http://www.w3.org/2000/svg\" height=\"24px\" viewBox=\"0 -960 960 960\">\n",
              "    <path d=\"M120-120v-720h720v720H120Zm60-500h600v-160H180v160Zm220 220h160v-160H400v160Zm0 220h160v-160H400v160ZM180-400h160v-160H180v160Zm440 0h160v-160H620v160ZM180-180h160v-160H180v160Zm440 0h160v-160H620v160Z\"/>\n",
              "  </svg>\n",
              "    </button>\n",
              "\n",
              "  <style>\n",
              "    .colab-df-container {\n",
              "      display:flex;\n",
              "      gap: 12px;\n",
              "    }\n",
              "\n",
              "    .colab-df-convert {\n",
              "      background-color: #E8F0FE;\n",
              "      border: none;\n",
              "      border-radius: 50%;\n",
              "      cursor: pointer;\n",
              "      display: none;\n",
              "      fill: #1967D2;\n",
              "      height: 32px;\n",
              "      padding: 0 0 0 0;\n",
              "      width: 32px;\n",
              "    }\n",
              "\n",
              "    .colab-df-convert:hover {\n",
              "      background-color: #E2EBFA;\n",
              "      box-shadow: 0px 1px 2px rgba(60, 64, 67, 0.3), 0px 1px 3px 1px rgba(60, 64, 67, 0.15);\n",
              "      fill: #174EA6;\n",
              "    }\n",
              "\n",
              "    .colab-df-buttons div {\n",
              "      margin-bottom: 4px;\n",
              "    }\n",
              "\n",
              "    [theme=dark] .colab-df-convert {\n",
              "      background-color: #3B4455;\n",
              "      fill: #D2E3FC;\n",
              "    }\n",
              "\n",
              "    [theme=dark] .colab-df-convert:hover {\n",
              "      background-color: #434B5C;\n",
              "      box-shadow: 0px 1px 3px 1px rgba(0, 0, 0, 0.15);\n",
              "      filter: drop-shadow(0px 1px 2px rgba(0, 0, 0, 0.3));\n",
              "      fill: #FFFFFF;\n",
              "    }\n",
              "  </style>\n",
              "\n",
              "    <script>\n",
              "      const buttonEl =\n",
              "        document.querySelector('#df-1ad6b29e-2782-4094-a879-010500b18d9a button.colab-df-convert');\n",
              "      buttonEl.style.display =\n",
              "        google.colab.kernel.accessAllowed ? 'block' : 'none';\n",
              "\n",
              "      async function convertToInteractive(key) {\n",
              "        const element = document.querySelector('#df-1ad6b29e-2782-4094-a879-010500b18d9a');\n",
              "        const dataTable =\n",
              "          await google.colab.kernel.invokeFunction('convertToInteractive',\n",
              "                                                    [key], {});\n",
              "        if (!dataTable) return;\n",
              "\n",
              "        const docLinkHtml = 'Like what you see? Visit the ' +\n",
              "          '<a target=\"_blank\" href=https://colab.research.google.com/notebooks/data_table.ipynb>data table notebook</a>'\n",
              "          + ' to learn more about interactive tables.';\n",
              "        element.innerHTML = '';\n",
              "        dataTable['output_type'] = 'display_data';\n",
              "        await google.colab.output.renderOutput(dataTable, element);\n",
              "        const docLink = document.createElement('div');\n",
              "        docLink.innerHTML = docLinkHtml;\n",
              "        element.appendChild(docLink);\n",
              "      }\n",
              "    </script>\n",
              "  </div>\n",
              "\n",
              "\n",
              "<div id=\"df-7ccc3219-8ddc-412f-a03e-3f8c72d75b2a\">\n",
              "  <button class=\"colab-df-quickchart\" onclick=\"quickchart('df-7ccc3219-8ddc-412f-a03e-3f8c72d75b2a')\"\n",
              "            title=\"Suggest charts\"\n",
              "            style=\"display:none;\">\n",
              "\n",
              "<svg xmlns=\"http://www.w3.org/2000/svg\" height=\"24px\"viewBox=\"0 0 24 24\"\n",
              "     width=\"24px\">\n",
              "    <g>\n",
              "        <path d=\"M19 3H5c-1.1 0-2 .9-2 2v14c0 1.1.9 2 2 2h14c1.1 0 2-.9 2-2V5c0-1.1-.9-2-2-2zM9 17H7v-7h2v7zm4 0h-2V7h2v10zm4 0h-2v-4h2v4z\"/>\n",
              "    </g>\n",
              "</svg>\n",
              "  </button>\n",
              "\n",
              "<style>\n",
              "  .colab-df-quickchart {\n",
              "      --bg-color: #E8F0FE;\n",
              "      --fill-color: #1967D2;\n",
              "      --hover-bg-color: #E2EBFA;\n",
              "      --hover-fill-color: #174EA6;\n",
              "      --disabled-fill-color: #AAA;\n",
              "      --disabled-bg-color: #DDD;\n",
              "  }\n",
              "\n",
              "  [theme=dark] .colab-df-quickchart {\n",
              "      --bg-color: #3B4455;\n",
              "      --fill-color: #D2E3FC;\n",
              "      --hover-bg-color: #434B5C;\n",
              "      --hover-fill-color: #FFFFFF;\n",
              "      --disabled-bg-color: #3B4455;\n",
              "      --disabled-fill-color: #666;\n",
              "  }\n",
              "\n",
              "  .colab-df-quickchart {\n",
              "    background-color: var(--bg-color);\n",
              "    border: none;\n",
              "    border-radius: 50%;\n",
              "    cursor: pointer;\n",
              "    display: none;\n",
              "    fill: var(--fill-color);\n",
              "    height: 32px;\n",
              "    padding: 0;\n",
              "    width: 32px;\n",
              "  }\n",
              "\n",
              "  .colab-df-quickchart:hover {\n",
              "    background-color: var(--hover-bg-color);\n",
              "    box-shadow: 0 1px 2px rgba(60, 64, 67, 0.3), 0 1px 3px 1px rgba(60, 64, 67, 0.15);\n",
              "    fill: var(--button-hover-fill-color);\n",
              "  }\n",
              "\n",
              "  .colab-df-quickchart-complete:disabled,\n",
              "  .colab-df-quickchart-complete:disabled:hover {\n",
              "    background-color: var(--disabled-bg-color);\n",
              "    fill: var(--disabled-fill-color);\n",
              "    box-shadow: none;\n",
              "  }\n",
              "\n",
              "  .colab-df-spinner {\n",
              "    border: 2px solid var(--fill-color);\n",
              "    border-color: transparent;\n",
              "    border-bottom-color: var(--fill-color);\n",
              "    animation:\n",
              "      spin 1s steps(1) infinite;\n",
              "  }\n",
              "\n",
              "  @keyframes spin {\n",
              "    0% {\n",
              "      border-color: transparent;\n",
              "      border-bottom-color: var(--fill-color);\n",
              "      border-left-color: var(--fill-color);\n",
              "    }\n",
              "    20% {\n",
              "      border-color: transparent;\n",
              "      border-left-color: var(--fill-color);\n",
              "      border-top-color: var(--fill-color);\n",
              "    }\n",
              "    30% {\n",
              "      border-color: transparent;\n",
              "      border-left-color: var(--fill-color);\n",
              "      border-top-color: var(--fill-color);\n",
              "      border-right-color: var(--fill-color);\n",
              "    }\n",
              "    40% {\n",
              "      border-color: transparent;\n",
              "      border-right-color: var(--fill-color);\n",
              "      border-top-color: var(--fill-color);\n",
              "    }\n",
              "    60% {\n",
              "      border-color: transparent;\n",
              "      border-right-color: var(--fill-color);\n",
              "    }\n",
              "    80% {\n",
              "      border-color: transparent;\n",
              "      border-right-color: var(--fill-color);\n",
              "      border-bottom-color: var(--fill-color);\n",
              "    }\n",
              "    90% {\n",
              "      border-color: transparent;\n",
              "      border-bottom-color: var(--fill-color);\n",
              "    }\n",
              "  }\n",
              "</style>\n",
              "\n",
              "  <script>\n",
              "    async function quickchart(key) {\n",
              "      const quickchartButtonEl =\n",
              "        document.querySelector('#' + key + ' button');\n",
              "      quickchartButtonEl.disabled = true;  // To prevent multiple clicks.\n",
              "      quickchartButtonEl.classList.add('colab-df-spinner');\n",
              "      try {\n",
              "        const charts = await google.colab.kernel.invokeFunction(\n",
              "            'suggestCharts', [key], {});\n",
              "      } catch (error) {\n",
              "        console.error('Error during call to suggestCharts:', error);\n",
              "      }\n",
              "      quickchartButtonEl.classList.remove('colab-df-spinner');\n",
              "      quickchartButtonEl.classList.add('colab-df-quickchart-complete');\n",
              "    }\n",
              "    (() => {\n",
              "      let quickchartButtonEl =\n",
              "        document.querySelector('#df-7ccc3219-8ddc-412f-a03e-3f8c72d75b2a button');\n",
              "      quickchartButtonEl.style.display =\n",
              "        google.colab.kernel.accessAllowed ? 'block' : 'none';\n",
              "    })();\n",
              "  </script>\n",
              "</div>\n",
              "    </div>\n",
              "  </div>\n"
            ],
            "application/vnd.google.colaboratory.intrinsic+json": {
              "type": "dataframe",
              "variable_name": "subCategory",
              "summary": "{\n  \"name\": \"subCategory\",\n  \"rows\": 100,\n  \"fields\": [\n    {\n      \"column\": \"SubClass\",\n      \"properties\": {\n        \"dtype\": \"string\",\n        \"num_unique_values\": 100,\n        \"samples\": [\n          \"sweet_pepper\",\n          \"orange\",\n          \"rose\"\n        ],\n        \"semantic_type\": \"\",\n        \"description\": \"\"\n      }\n    }\n  ]\n}"
            }
          },
          "metadata": {},
          "execution_count": 17
        }
      ]
    },
    {
      "cell_type": "markdown",
      "source": [
        "## Exploring the Images in the Dataset"
      ],
      "metadata": {
        "id": "ha_uob4LoJUM"
      }
    },
    {
      "cell_type": "code",
      "source": [
        "f,ax = plt.subplots(2,5,figsize=(8,3))\n",
        "f = plt.figure(figsize=(20,20))\n",
        "for i in range(5):\n",
        "    for j in range(2):\n",
        "        ax[j][i].imshow(features[np.random.randint(5000)])\n",
        "plt.show()"
      ],
      "metadata": {
        "colab": {
          "base_uri": "https://localhost:8080/",
          "height": 312
        },
        "id": "p6hWSzK2cHF9",
        "outputId": "200a8246-80e6-4b8f-e509-a2a7396b50db"
      },
      "execution_count": null,
      "outputs": [
        {
          "output_type": "display_data",
          "data": {
            "text/plain": [
              "<Figure size 800x300 with 10 Axes>"
            ],
            "image/png": "[encoded data removed]"
          },
          "metadata": {}
        },
        {
          "output_type": "display_data",
          "data": {
            "text/plain": [
              "<Figure size 2000x2000 with 0 Axes>"
            ]
          },
          "metadata": {}
        }
      ]
    },
    {
      "cell_type": "code",
      "source": [
        "f,ax = plt.subplots(2,5,figsize=(9,4))\n",
        "for i in range(10):\n",
        "    plt.subplot(2,5,i+1)\n",
        "    plt.tight_layout()\n",
        "    plt.imshow(features[i],cmap ='gray')\n",
        "    plt.title(name_label[i])\n",
        "plt.show()"
      ],
      "metadata": {
        "colab": {
          "base_uri": "https://localhost:8080/",
          "height": 396
        },
        "id": "TBzWwOkdogtN",
        "outputId": "6cb51a1a-7103-4c1c-c2b9-10ecb88a2936"
      },
      "execution_count": null,
      "outputs": [
        {
          "output_type": "display_data",
          "data": {
            "text/plain": [
              "<Figure size 900x400 with 10 Axes>"
            ],
            "image/png": "[encoded data removed]"
          },
          "metadata": {}
        }
      ]
    },
    {
      "cell_type": "markdown",
      "source": [
        "## Image Transformation for Tensorflow (Keras) and Convolutional Neural Networks\n",
        "\n",
        "Data Pre-processing"
      ],
      "metadata": {
        "id": "hol9UQC3nkxL"
      }
    },
    {
      "cell_type": "code",
      "source": [
        "#4D array input for building the CNN model using Keras\n",
        "#transforming the training dataset\n",
        "train_x = train_data['data']\n",
        "train_x.shape"
      ],
      "metadata": {
        "colab": {
          "base_uri": "https://localhost:8080/"
        },
        "id": "YWG33_OenfBM",
        "outputId": "7d8fbb6c-7387-459e-a436-9a7128d6ef94"
      },
      "execution_count": null,
      "outputs": [
        {
          "output_type": "execute_result",
          "data": {
            "text/plain": [
              "(50000, 3072)"
            ]
          },
          "metadata": {},
          "execution_count": 20
        }
      ]
    },
    {
      "cell_type": "code",
      "source": [
        "X_train = train_x.reshape(len(train_x),3,32,32).transpose(0,2,3,1)\n",
        "X_train.shape"
      ],
      "metadata": {
        "colab": {
          "base_uri": "https://localhost:8080/"
        },
        "id": "dy_woWIXvSg0",
        "outputId": "cfe7e7e8-2549-4f97-c7c3-167e53dd08cc"
      },
      "execution_count": null,
      "outputs": [
        {
          "output_type": "execute_result",
          "data": {
            "text/plain": [
              "(50000, 32, 32, 3)"
            ]
          },
          "metadata": {},
          "execution_count": 21
        }
      ]
    },
    {
      "cell_type": "markdown",
      "source": [
        "##transforming the testing dataset"
      ],
      "metadata": {
        "id": "nXGg3Aai324v"
      }
    },
    {
      "cell_type": "code",
      "source": [
        "test_x = test_data['data']\n",
        "X_test = test_x.reshape(len(test_x),3,32,32).transpose(0,2,3,1)\n",
        "X_test.shape"
      ],
      "metadata": {
        "colab": {
          "base_uri": "https://localhost:8080/"
        },
        "id": "0MlKOdHhp_tE",
        "outputId": "7672b16c-9173-4db6-abdf-0cbf8cc6f354"
      },
      "execution_count": null,
      "outputs": [
        {
          "output_type": "execute_result",
          "data": {
            "text/plain": [
              "(50000, 32, 32, 3)"
            ]
          },
          "metadata": {},
          "execution_count": 22
        }
      ]
    },
    {
      "cell_type": "code",
      "source": [
        "print(\"Shape of X_train:\", X_train.shape)\n",
        "print(\"Shape of X_test:\", X_test.shape)\n"
      ],
      "metadata": {
        "colab": {
          "base_uri": "https://localhost:8080/"
        },
        "id": "45t0nyB55t4V",
        "outputId": "131710ee-5d17-4ae4-e26b-1e3ff0f101bd"
      },
      "execution_count": null,
      "outputs": [
        {
          "output_type": "stream",
          "name": "stdout",
          "text": [
            "Shape of X_train: (50000, 32, 32, 3)\n",
            "Shape of X_test: (50000, 32, 32, 3)\n"
          ]
        }
      ]
    },
    {
      "cell_type": "markdown",
      "source": [
        "##Trained labels and Test truth labels"
      ],
      "metadata": {
        "id": "LhZnuCr0wHJJ"
      }
    },
    {
      "cell_type": "code",
      "source": [
        "y_train = train_data['fine_labels']\n",
        "#y_train\n",
        "\n",
        "y_test = test_data['fine_labels']\n",
        "#y_test"
      ],
      "metadata": {
        "id": "YzqvauOntvwN"
      },
      "execution_count": null,
      "outputs": []
    },
    {
      "cell_type": "markdown",
      "source": [
        "##Encoding of labels\n",
        "This means that categorical data must be converted to a numerical form. If the categorical variable is an output variable, you may also want to convert predictions by the model back into a categorical form in order to present them or use them in some application."
      ],
      "metadata": {
        "id": "t8FghqnB0qgc"
      }
    },
    {
      "cell_type": "code",
      "source": [
        "num_class = 100\n",
        "\n",
        "y_train = keras.utils.to_categorical(y_train, num_class)\n",
        "#y_train\n",
        "\n",
        "y_test = keras.utils.to_categorical(y_test, num_class)\n",
        "#y_test\n"
      ],
      "metadata": {
        "id": "mZZ7XHYLz8J-"
      },
      "execution_count": null,
      "outputs": []
    },
    {
      "cell_type": "markdown",
      "source": [
        "## Rescaling by dividing every image pixel by 255"
      ],
      "metadata": {
        "id": "aOeV17Uj3GMW"
      }
    },
    {
      "cell_type": "code",
      "source": [
        "# Normalization by dividing by 255\n",
        "X_train_normalized = X_train / 255.0\n",
        "X_test_normalized = X_test / 255.0"
      ],
      "metadata": {
        "id": "7SCMsqLj0MGB"
      },
      "execution_count": null,
      "outputs": []
    },
    {
      "cell_type": "code",
      "source": [
        "model = Sequential()\n",
        "\n",
        "#Stack 1\n",
        "#convolution\n",
        "model.add(Conv2D(filters=128, kernel_size=3, padding=\"same\", activation=\"relu\", input_shape=X_train.shape[1:]))\n",
        "model.add(Conv2D(filters=128, kernel_size=3, padding=\"same\", activation=\"relu\"))\n",
        "#pooling\n",
        "model.add(MaxPool2D(pool_size=2, strides=2))\n",
        "#dropout\n",
        "model.add(Dropout(0.2))\n",
        "\n",
        "#Stack 2\n",
        "#convolution\n",
        "model.add(Conv2D(filters=256, kernel_size=3, padding=\"same\", activation=\"relu\"))\n",
        "model.add(Conv2D(filters=256, kernel_size=3, padding=\"same\", activation=\"relu\"))\n",
        "#pooling\n",
        "model.add(MaxPool2D(pool_size=2, strides=2))\n",
        "#dropout\n",
        "model.add(Dropout(0.5))\n",
        "#Stack 3\n",
        "#convolution\n",
        "model.add(Conv2D(filters=512, kernel_size=3, padding=\"same\", activation=\"relu\"))\n",
        "model.add(Conv2D(filters=512, kernel_size=3, padding=\"same\", activation=\"relu\"))\n",
        "#pooling\n",
        "model.add(MaxPool2D(pool_size=2, strides=2))\n",
        "#dropout\n",
        "model.add(Dropout(0.5))\n",
        "\n",
        "#flattening\n",
        "model.add(Flatten())\n",
        "\n",
        "#full connection\n",
        "model.add(Dense(units=1000, activation=\"relu\"))\n",
        "#dropout\n",
        "model.add(Dropout(0.5))\n",
        "\n",
        "#full connection\n",
        "model.add(Dense(units=1000, activation=\"relu\"))\n",
        "#dropout\n",
        "model.add(Dropout(0.5))\n",
        "\n",
        "#output layer\n",
        "model.add(Dense(units=num_class, activation=\"softmax\"))"
      ],
      "metadata": {
        "id": "p9yG-jIZ--2A"
      },
      "execution_count": null,
      "outputs": []
    },
    {
      "cell_type": "code",
      "source": [
        "model.summary()"
      ],
      "metadata": {
        "colab": {
          "base_uri": "https://localhost:8080/"
        },
        "id": "gCj65VkW--5Y",
        "outputId": "42195f34-7b72-4051-b57d-0f4b09c181f3"
      },
      "execution_count": null,
      "outputs": [
        {
          "output_type": "stream",
          "name": "stdout",
          "text": [
            "Model: \"sequential_3\"\n",
            "_________________________________________________________________\n",
            " Layer (type)                Output Shape              Param #   \n",
            "=================================================================\n",
            " conv2d_19 (Conv2D)          (None, 32, 32, 128)       3584      \n",
            "                                                                 \n",
            " conv2d_20 (Conv2D)          (None, 32, 32, 128)       147584    \n",
            "                                                                 \n",
            " max_pooling2d_8 (MaxPoolin  (None, 16, 16, 128)       0         \n",
            " g2D)                                                            \n",
            "                                                                 \n",
            " dropout_15 (Dropout)        (None, 16, 16, 128)       0         \n",
            "                                                                 \n",
            " conv2d_21 (Conv2D)          (None, 16, 16, 256)       295168    \n",
            "                                                                 \n",
            " conv2d_22 (Conv2D)          (None, 16, 16, 256)       590080    \n",
            "                                                                 \n",
            " max_pooling2d_9 (MaxPoolin  (None, 8, 8, 256)         0         \n",
            " g2D)                                                            \n",
            "                                                                 \n",
            " dropout_16 (Dropout)        (None, 8, 8, 256)         0         \n",
            "                                                                 \n",
            " conv2d_23 (Conv2D)          (None, 8, 8, 512)         1180160   \n",
            "                                                                 \n",
            " conv2d_24 (Conv2D)          (None, 8, 8, 512)         2359808   \n",
            "                                                                 \n",
            " max_pooling2d_10 (MaxPooli  (None, 4, 4, 512)         0         \n",
            " ng2D)                                                           \n",
            "                                                                 \n",
            " dropout_17 (Dropout)        (None, 4, 4, 512)         0         \n",
            "                                                                 \n",
            " flatten_2 (Flatten)         (None, 8192)              0         \n",
            "                                                                 \n",
            " dense_5 (Dense)             (None, 1000)              8193000   \n",
            "                                                                 \n",
            " dropout_18 (Dropout)        (None, 1000)              0         \n",
            "                                                                 \n",
            " dense_6 (Dense)             (None, 1000)              1001000   \n",
            "                                                                 \n",
            " dropout_19 (Dropout)        (None, 1000)              0         \n",
            "                                                                 \n",
            " dense_7 (Dense)             (None, 100)               100100    \n",
            "                                                                 \n",
            "=================================================================\n",
            "Total params: 13870484 (52.91 MB)\n",
            "Trainable params: 13870484 (52.91 MB)\n",
            "Non-trainable params: 0 (0.00 Byte)\n",
            "_________________________________________________________________\n"
          ]
        }
      ]
    },
    {
      "cell_type": "code",
      "source": [
        "# ## Training Convolutional Neural Network\n",
        "\n",
        "epochs = 100\n",
        "batch_size = 64"
      ],
      "metadata": {
        "id": "7Pii-X4P_Xeq"
      },
      "execution_count": null,
      "outputs": []
    },
    {
      "cell_type": "code",
      "source": [
        "from tensorflow.keras import optimizers\n",
        "\n",
        "learning_rate = 0.0001  # Set your desired learning rate here\n",
        "\n",
        "# Initialize your optimizer with the learning_rate parameter\n",
        "optimizer = optimizers.Adam(learning_rate=learning_rate)\n",
        "\n",
        "#model compiling\n",
        "model.compile(optimizer=optimizer, loss='categorical_crossentropy', metrics=['accuracy'])"
      ],
      "metadata": {
        "id": "H7cKPIm2_f8i"
      },
      "execution_count": null,
      "outputs": []
    },
    {
      "cell_type": "code",
      "source": [
        "#early stopping to monitor the validation loss and avoid overfitting\n",
        "early_stop = EarlyStopping(monitor='val_loss', mode='min', verbose=1, patience=20)\n",
        "\n",
        "#saving the model checkpoint for the best model\n",
        "model_checkpoint = ModelCheckpoint('best_model.h5', monitor='val_loss', mode='min', save_best_only=True, verbose=1)"
      ],
      "metadata": {
        "id": "i16bkWm7_2QL"
      },
      "execution_count": null,
      "outputs": []
    },
    {
      "cell_type": "code",
      "source": [
        "#image augmentation to expand the training dataset\n",
        "#validation split to test the model\n",
        "data_gen = ImageDataGenerator(\n",
        "            shear_range=0.2,\n",
        "            zoom_range=0.2,\n",
        "            horizontal_flip=True,\n",
        "            featurewise_center=True,\n",
        "            width_shift_range=0.1,\n",
        "            validation_split=0.2)\n",
        "\n",
        "data_gen.fit(X_train, seed=123)\n",
        "\n",
        "train_data_gen = data_gen.flow(X_train, y_train,\n",
        "                               batch_size=batch_size,\n",
        "                               subset=\"training\", seed=123)\n",
        "\n",
        "valid_data_gen = data_gen.flow(X_train, y_train,\n",
        "                               batch_size=batch_size,\n",
        "                               subset=\"validation\", seed=123)"
      ],
      "metadata": {
        "id": "lrRaVhML_lxt"
      },
      "execution_count": null,
      "outputs": []
    },
    {
      "cell_type": "code",
      "source": [
        "model_history = model.fit_generator(train_data_gen,\n",
        "                          steps_per_epoch=40000//batch_size,\n",
        "                          validation_data=valid_data_gen,\n",
        "                          validation_steps=10000//batch_size,\n",
        "                          callbacks=[early_stop, model_checkpoint],\n",
        "                          verbose=1,\n",
        "                          epochs=epochs)"
      ],
      "metadata": {
        "colab": {
          "base_uri": "https://localhost:8080/"
        },
        "id": "ZcfCjbiM_6Ax",
        "outputId": "31f0ea02-acd9-45fb-be2d-449947e5f8af"
      },
      "execution_count": null,
      "outputs": [
        {
          "metadata": {
            "tags": null
          },
          "name": "stdout",
          "output_type": "stream",
          "text": [
            "Epoch 1/100\n"
          ]
        },
        {
          "metadata": {
            "tags": null
          },
          "name": "stderr",
          "output_type": "stream",
          "text": [
            "<ipython-input-77-ecdb339fa809>:1: UserWarning: `Model.fit_generator` is deprecated and will be removed in a future version. Please use `Model.fit`, which supports generators.\n",
            "  model_history = model.fit_generator(train_data_gen,\n"
          ]
        },
        {
          "metadata": {
            "tags": null
          },
          "name": "stdout",
          "output_type": "stream",
          "text": [
            "625/625 [==============================] - ETA: 0s - loss: 3.5928 - accuracy: 0.1455\n",
            "Epoch 1: val_loss improved from inf to 3.38176, saving model to best_model.h5\n"
          ]
        },
        {
          "metadata": {
            "tags": null
          },
          "name": "stderr",
          "output_type": "stream",
          "text": [
            "/usr/local/lib/python3.10/dist-packages/keras/src/engine/training.py:3103: UserWarning: You are saving your model as an HDF5 file via `model.save()`. This file format is considered legacy. We recommend using instead the native Keras format, e.g. `model.save('my_model.keras')`.\n",
            "  saving_api.save_model(\n"
          ]
        },
        {
          "output_type": "stream",
          "name": "stdout",
          "text": [
            "625/625 [==============================] - 51s 76ms/step - loss: 3.5928 - accuracy: 0.1455 - val_loss: 3.3818 - val_accuracy: 0.1930\n",
            "Epoch 2/100\n",
            "625/625 [==============================] - ETA: 0s - loss: 3.4330 - accuracy: 0.1699\n",
            "Epoch 2: val_loss improved from 3.38176 to 3.25130, saving model to best_model.h5\n",
            "625/625 [==============================] - 45s 72ms/step - loss: 3.4330 - accuracy: 0.1699 - val_loss: 3.2513 - val_accuracy: 0.2082\n",
            "Epoch 3/100\n",
            "625/625 [==============================] - ETA: 0s - loss: 3.2770 - accuracy: 0.1961\n",
            "Epoch 3: val_loss improved from 3.25130 to 3.08036, saving model to best_model.h5\n",
            "625/625 [==============================] - 45s 71ms/step - loss: 3.2770 - accuracy: 0.1961 - val_loss: 3.0804 - val_accuracy: 0.2560\n",
            "Epoch 4/100\n",
            "625/625 [==============================] - ETA: 0s - loss: 3.1354 - accuracy: 0.2215\n",
            "Epoch 4: val_loss improved from 3.08036 to 2.88798, saving model to best_model.h5\n",
            "625/625 [==============================] - 44s 71ms/step - loss: 3.1354 - accuracy: 0.2215 - val_loss: 2.8880 - val_accuracy: 0.2789\n",
            "Epoch 5/100\n",
            "625/625 [==============================] - ETA: 0s - loss: 2.9954 - accuracy: 0.2448\n",
            "Epoch 5: val_loss improved from 2.88798 to 2.79901, saving model to best_model.h5\n",
            "625/625 [==============================] - 42s 68ms/step - loss: 2.9954 - accuracy: 0.2448 - val_loss: 2.7990 - val_accuracy: 0.2973\n",
            "Epoch 6/100\n",
            "625/625 [==============================] - ETA: 0s - loss: 2.8827 - accuracy: 0.2715\n",
            "Epoch 6: val_loss improved from 2.79901 to 2.74054, saving model to best_model.h5\n",
            "625/625 [==============================] - 45s 71ms/step - loss: 2.8827 - accuracy: 0.2715 - val_loss: 2.7405 - val_accuracy: 0.3108\n",
            "Epoch 7/100\n",
            "625/625 [==============================] - ETA: 0s - loss: 2.7654 - accuracy: 0.2917\n",
            "Epoch 7: val_loss improved from 2.74054 to 2.56235, saving model to best_model.h5\n",
            "625/625 [==============================] - 42s 67ms/step - loss: 2.7654 - accuracy: 0.2917 - val_loss: 2.5623 - val_accuracy: 0.3400\n",
            "Epoch 8/100\n",
            "624/625 [============================>.] - ETA: 0s - loss: 2.6744 - accuracy: 0.3121\n",
            "Epoch 8: val_loss improved from 2.56235 to 2.46255, saving model to best_model.h5\n",
            "625/625 [==============================] - 45s 72ms/step - loss: 2.6741 - accuracy: 0.3122 - val_loss: 2.4626 - val_accuracy: 0.3630\n",
            "Epoch 9/100\n",
            "625/625 [==============================] - ETA: 0s - loss: 2.5751 - accuracy: 0.3350\n",
            "Epoch 9: val_loss improved from 2.46255 to 2.34822, saving model to best_model.h5\n",
            "625/625 [==============================] - 41s 66ms/step - loss: 2.5751 - accuracy: 0.3350 - val_loss: 2.3482 - val_accuracy: 0.3823\n",
            "Epoch 10/100\n",
            "624/625 [============================>.] - ETA: 0s - loss: 2.4978 - accuracy: 0.3509\n",
            "Epoch 10: val_loss improved from 2.34822 to 2.30508, saving model to best_model.h5\n",
            "625/625 [==============================] - 41s 65ms/step - loss: 2.4981 - accuracy: 0.3508 - val_loss: 2.3051 - val_accuracy: 0.3950\n",
            "Epoch 11/100\n",
            "625/625 [==============================] - ETA: 0s - loss: 2.4151 - accuracy: 0.3663\n",
            "Epoch 11: val_loss improved from 2.30508 to 2.23391, saving model to best_model.h5\n",
            "625/625 [==============================] - 41s 65ms/step - loss: 2.4151 - accuracy: 0.3663 - val_loss: 2.2339 - val_accuracy: 0.4121\n",
            "Epoch 12/100\n",
            "625/625 [==============================] - ETA: 0s - loss: 2.3589 - accuracy: 0.3775\n",
            "Epoch 12: val_loss improved from 2.23391 to 2.22098, saving model to best_model.h5\n",
            "625/625 [==============================] - 42s 68ms/step - loss: 2.3589 - accuracy: 0.3775 - val_loss: 2.2210 - val_accuracy: 0.4152\n",
            "Epoch 13/100\n",
            "625/625 [==============================] - ETA: 0s - loss: 2.2923 - accuracy: 0.3905\n",
            "Epoch 13: val_loss improved from 2.22098 to 2.19100, saving model to best_model.h5\n",
            "625/625 [==============================] - 46s 73ms/step - loss: 2.2923 - accuracy: 0.3905 - val_loss: 2.1910 - val_accuracy: 0.4199\n",
            "Epoch 14/100\n",
            "625/625 [==============================] - ETA: 0s - loss: 2.2289 - accuracy: 0.4094\n",
            "Epoch 14: val_loss improved from 2.19100 to 2.15228, saving model to best_model.h5\n",
            "625/625 [==============================] - 43s 69ms/step - loss: 2.2289 - accuracy: 0.4094 - val_loss: 2.1523 - val_accuracy: 0.4307\n",
            "Epoch 15/100\n",
            "625/625 [==============================] - ETA: 0s - loss: 2.1804 - accuracy: 0.4186\n",
            "Epoch 15: val_loss improved from 2.15228 to 2.07623, saving model to best_model.h5\n",
            "625/625 [==============================] - 42s 68ms/step - loss: 2.1804 - accuracy: 0.4186 - val_loss: 2.0762 - val_accuracy: 0.4467\n",
            "Epoch 16/100\n",
            " 64/625 [==>...........................] - ETA: 28s - loss: 2.0955 - accuracy: 0.4438"
          ]
        }
      ]
    },
    {
      "cell_type": "code",
      "source": [
        "# ## Visualizing the Loss and Accuracy\n",
        "#plot to visualize the loss and accuracy against number of epochs\n",
        "plt.figure(figsize=(18,8))\n",
        "\n",
        "plt.suptitle('Loss and Accuracy Plots', fontsize=18)\n",
        "\n",
        "plt.subplot(1,2,1)\n",
        "plt.plot(model_history.history['loss'], label='Training Loss')\n",
        "plt.plot(model_history.history['val_loss'], label='Validation Loss')\n",
        "plt.legend()\n",
        "plt.xlabel('Number of epochs', fontsize=15)\n",
        "plt.ylabel('Loss', fontsize=15)\n",
        "\n",
        "plt.subplot(1,2,2)\n",
        "plt.plot(model_history.history['accuracy'], label='Train Accuracy')\n",
        "plt.plot(model_history.history['val_accuracy'], label='Validation Accuracy')\n",
        "plt.legend()\n",
        "plt.xlabel('Number of epochs', fontsize=14)\n",
        "plt.ylabel('Accuracy', fontsize=14)\n",
        "plt.show()"
      ],
      "metadata": {
        "id": "WcEltVHQAAgy"
      },
      "execution_count": null,
      "outputs": []
    },
    {
      "cell_type": "code",
      "source": [
        "# ## Model Evaluation\n",
        "\n",
        "#train_loss, train_accuracy = model.evaluate_generator(generator=train_data_gen, steps=40000//batch_size)\n",
        "valid_loss, valid_accuracy = model.evaluate_generator(generator=valid_data_gen, steps=10000//batch_size)\n",
        "test_loss, test_accuracy = model.evaluate_generator(data_gen.flow(X_test, y_test, seed=123), steps=len(X_test)//batch_size)\n",
        "\n",
        "print('Validation Accuracy: ', round((valid_accuracy * 100), 2), \"%\")\n",
        "print('Test Accuracy: ', round((test_accuracy * 100), 2), \"%\")\n",
        "print(\" \")\n",
        "print('Validation Loss: ', round(valid_loss, 2))\n",
        "print('Test Loss: ', round(test_loss, 2))"
      ],
      "metadata": {
        "id": "9LvtaOqmAGkL"
      },
      "execution_count": null,
      "outputs": []
    },
    {
      "cell_type": "code",
      "source": [
        "# ## Confusion Matrix\n",
        "\n",
        "y_pred = model.predict(X_test)\n",
        "\n",
        "cm = confusion_matrix(np.argmax(y_test, axis=1), np.argmax(y_pred, axis=1))\n",
        "print(cm)"
      ],
      "metadata": {
        "id": "BiH5zhY0AfUZ"
      },
      "execution_count": null,
      "outputs": []
    },
    {
      "cell_type": "code",
      "source": [
        "#report to see which category has been predicted incorectly and which has been predicted correctly\n",
        "target = [\"Category {}\".format(i) for i in range(num_class)]\n",
        "print(classification_report(np.argmax(y_test, axis=1), np.argmax(y_pred, axis=1), target_names=target))"
      ],
      "metadata": {
        "id": "yF-CueGXAznx"
      },
      "execution_count": null,
      "outputs": []
    },
    {
      "cell_type": "code",
      "source": [
        "# ## Visualizing the Predictions\n",
        "\n",
        "#dataframe of predictions\n",
        "prediction = np.argmax(y_pred, axis=1)\n",
        "prediction = pd.DataFrame(prediction)\n",
        "#prediction\n"
      ],
      "metadata": {
        "id": "kjbe1LQfAmFq"
      },
      "execution_count": null,
      "outputs": []
    },
    {
      "cell_type": "code",
      "source": [
        "#generating a random number to display a random image from the dataset along with the true and predicted label\n",
        "imageId = np.random.randint(0, len(X_test))\n",
        "\n",
        "rcParams['figure.figsize'] = 2,2\n",
        "\n",
        "plt.imshow(X_test[imageId])\n",
        "\n",
        "plt.axis('off')\n",
        "\n",
        "print(\"True Label: \" + str(subCategory.iloc[test_data['fine_labels'][imageId]][0].capitalize()))\n",
        "print(\"Predicted Label: \" + str(subCategory.iloc[prediction.iloc[imageId]]).split()[2].capitalize())"
      ],
      "metadata": {
        "id": "8bHWiviPA1Hl"
      },
      "execution_count": null,
      "outputs": []
    },
    {
      "cell_type": "code",
      "source": [],
      "metadata": {
        "id": "Ej4YR04NLf1D"
      },
      "execution_count": null,
      "outputs": []
    },
    {
      "cell_type": "code",
      "source": [
        "#16 random images to display at a time along with their true and random labels\n",
        "rcParams['figure.figsize'] = 12,15\n",
        "\n",
        "num_row = 4\n",
        "num_col = 4\n",
        "\n",
        "imageId = np.random.randint(0, len(X_test), num_row * num_col)\n",
        "\n",
        "fig, axes = plt.subplots(num_row, num_col)\n",
        "\n",
        "for i in range(0, num_row):\n",
        "    for j in range(0, num_col):\n",
        "        k = (i*num_col)+j\n",
        "        axes[i,j].imshow(X_test[imageId[k]])\n",
        "        axes[i,j].set_title(\"True: \" + str(subCategory.iloc[test_data['fine_labels'][imageId[k]]][0]).capitalize()\n",
        "                             + \"\\nPredicted: \" + str(subCategory.iloc[prediction.iloc[imageId[k]]]).split()[2].capitalize(),\n",
        "                            fontsize=14)\n",
        "        axes[i,j].axis('off')\n",
        "        fig.suptitle(\"Images with True and Predicted Labels\", fontsize=18)\n",
        "\n",
        "plt.show()"
      ],
      "metadata": {
        "id": "pRuNpU4BA7IF"
      },
      "execution_count": null,
      "outputs": []
    },
    {
      "cell_type": "code",
      "source": [
        "# ## Testing the Model\n",
        "\n",
        "#function to resize the image\n",
        "def resize_test_image(test_img):\n",
        "\n",
        "    img = cv2.imread(test_img)\n",
        "    #plt.imshow(img)\n",
        "    img_RGB = cv2.cvtColor(img, cv2.COLOR_BGR2RGB)\n",
        "    #plt.imshow(img_RGB)\n",
        "    resized_img = cv2.resize(img_RGB, (32, 32))\n",
        "    #plt.imshow(resized_img)\n",
        "    resized_img = resized_img / 255.\n",
        "    #plt.imshow(resized_img)\n",
        "    return resized_img\n",
        "\n",
        "#resize_test_image('/content/orange.jpg')"
      ],
      "metadata": {
        "id": "StrpSouQA_6V"
      },
      "execution_count": null,
      "outputs": []
    },
    {
      "cell_type": "code",
      "source": [
        "#function to get prediction for test image from the model\n",
        "def predict_test_image(test_img):\n",
        "\n",
        "    resized_img = resize_test_image(test_img)\n",
        "    prediction = model.predict(np.array([resized_img]))\n",
        "\n",
        "    return prediction\n",
        "\n",
        "#predict_test_image('/content/orange.jpg')"
      ],
      "metadata": {
        "id": "sVQJMOzYwqe6"
      },
      "execution_count": null,
      "outputs": []
    },
    {
      "cell_type": "code",
      "source": [
        "#function to get the sorted prediction\n",
        "def sort_prediction_test_image(test_img):\n",
        "\n",
        "    prediction = predict_test_image(test_img)\n",
        "\n",
        "    index = np.arange(0,100)\n",
        "\n",
        "    for i in range(100):\n",
        "        for j in range(100):\n",
        "            if prediction[0][index[i]] > prediction[0][index[j]]:\n",
        "                temp = index[i]\n",
        "                index[i] = index[j]\n",
        "                index[j] = temp\n",
        "\n",
        "    return index\n",
        "\n",
        "#sort_prediction_test_image('/content/orange.jpg')"
      ],
      "metadata": {
        "id": "TNSGIbn4C7JF"
      },
      "execution_count": null,
      "outputs": []
    },
    {
      "cell_type": "code",
      "source": [
        "#function to get the dataframe for top 5 predictions\n",
        "def df_top5_prediction_test_image(test_img):\n",
        "\n",
        "    sorted_index = sort_prediction_test_image(test_img)\n",
        "    prediction = predict_test_image(test_img)\n",
        "\n",
        "    subCategory_name = []\n",
        "    prediction_score = []\n",
        "\n",
        "    k = sorted_index[:6]\n",
        "\n",
        "    for i in range(len(k)):\n",
        "        subCategory_name.append(subCategory.iloc[k[i]][0])\n",
        "        prediction_score.append(round(prediction[0][k[i]], 2))\n",
        "\n",
        "    df = pd.DataFrame(list(zip(subCategory_name, prediction_score)), columns=['Label', 'Probability'])\n",
        "\n",
        "    return df\n",
        "\n",
        "df_top5_prediction_test_image('/content/orange.jpg')"
      ],
      "metadata": {
        "id": "ZaYciV-vDF8v"
      },
      "execution_count": null,
      "outputs": []
    },
    {
      "cell_type": "code",
      "source": [],
      "metadata": {
        "id": "A8exIGnkDMO8"
      },
      "execution_count": null,
      "outputs": []
    }
  ]
}